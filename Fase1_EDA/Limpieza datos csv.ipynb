{
 "cells": [
  {
   "cell_type": "markdown",
   "metadata": {},
   "source": [
    "## EDA"
   ]
  },
  {
   "cell_type": "code",
   "execution_count": 83,
   "metadata": {},
   "outputs": [],
   "source": [
    "import pandas as pd\n",
    "import numpy as np\n",
    "from IPython.display import display  "
   ]
  },
  {
   "cell_type": "markdown",
   "metadata": {},
   "source": [
    "## Cargamos CSV y visualizamos las primeras 5 filas"
   ]
  },
  {
   "cell_type": "code",
   "execution_count": 84,
   "metadata": {},
   "outputs": [
    {
     "data": {
      "text/html": [
       "<div>\n",
       "<style scoped>\n",
       "    .dataframe tbody tr th:only-of-type {\n",
       "        vertical-align: middle;\n",
       "    }\n",
       "\n",
       "    .dataframe tbody tr th {\n",
       "        vertical-align: top;\n",
       "    }\n",
       "\n",
       "    .dataframe thead th {\n",
       "        text-align: right;\n",
       "    }\n",
       "</style>\n",
       "<table border=\"1\" class=\"dataframe\">\n",
       "  <thead>\n",
       "    <tr style=\"text-align: right;\">\n",
       "      <th></th>\n",
       "      <th>age</th>\n",
       "      <th>attrition</th>\n",
       "      <th>businesstravel</th>\n",
       "      <th>dailyrate</th>\n",
       "      <th>department</th>\n",
       "      <th>distancefromhome</th>\n",
       "      <th>education</th>\n",
       "      <th>educationfield</th>\n",
       "      <th>employeecount</th>\n",
       "      <th>employeenumber</th>\n",
       "      <th>...</th>\n",
       "      <th>yearsatcompany</th>\n",
       "      <th>yearsincurrentrole</th>\n",
       "      <th>yearssincelastpromotion</th>\n",
       "      <th>yearswithcurrmanager</th>\n",
       "      <th>sameasmonthlyincome</th>\n",
       "      <th>datebirth</th>\n",
       "      <th>salary</th>\n",
       "      <th>roledepartament</th>\n",
       "      <th>numberchildren</th>\n",
       "      <th>remotework</th>\n",
       "    </tr>\n",
       "  </thead>\n",
       "  <tbody>\n",
       "    <tr>\n",
       "      <th>0</th>\n",
       "      <td>51</td>\n",
       "      <td>No</td>\n",
       "      <td>NaN</td>\n",
       "      <td>2015.722222</td>\n",
       "      <td>NaN</td>\n",
       "      <td>6</td>\n",
       "      <td>3</td>\n",
       "      <td>NaN</td>\n",
       "      <td>1</td>\n",
       "      <td>1</td>\n",
       "      <td>...</td>\n",
       "      <td>20</td>\n",
       "      <td>NaN</td>\n",
       "      <td>15</td>\n",
       "      <td>15</td>\n",
       "      <td>16280,83$</td>\n",
       "      <td>1972</td>\n",
       "      <td>195370,00$</td>\n",
       "      <td>NaN</td>\n",
       "      <td>NaN</td>\n",
       "      <td>Yes</td>\n",
       "    </tr>\n",
       "    <tr>\n",
       "      <th>1</th>\n",
       "      <td>52</td>\n",
       "      <td>No</td>\n",
       "      <td>NaN</td>\n",
       "      <td>2063.388889</td>\n",
       "      <td>NaN</td>\n",
       "      <td>1</td>\n",
       "      <td>4</td>\n",
       "      <td>Life Sciences</td>\n",
       "      <td>1</td>\n",
       "      <td>2</td>\n",
       "      <td>...</td>\n",
       "      <td>33</td>\n",
       "      <td>NaN</td>\n",
       "      <td>11</td>\n",
       "      <td>9</td>\n",
       "      <td>NaN</td>\n",
       "      <td>1971</td>\n",
       "      <td>199990,00$</td>\n",
       "      <td>NaN</td>\n",
       "      <td>NaN</td>\n",
       "      <td>1</td>\n",
       "    </tr>\n",
       "    <tr>\n",
       "      <th>2</th>\n",
       "      <td>42</td>\n",
       "      <td>No</td>\n",
       "      <td>travel_rarely</td>\n",
       "      <td>1984.253968</td>\n",
       "      <td>Research &amp; Development</td>\n",
       "      <td>4</td>\n",
       "      <td>2</td>\n",
       "      <td>Technical Degree</td>\n",
       "      <td>1</td>\n",
       "      <td>3</td>\n",
       "      <td>...</td>\n",
       "      <td>22</td>\n",
       "      <td>NaN</td>\n",
       "      <td>11</td>\n",
       "      <td>15</td>\n",
       "      <td>NaN</td>\n",
       "      <td>1981</td>\n",
       "      <td>192320,00$</td>\n",
       "      <td>ManaGER  -  Research &amp; Development</td>\n",
       "      <td>NaN</td>\n",
       "      <td>1</td>\n",
       "    </tr>\n",
       "    <tr>\n",
       "      <th>3</th>\n",
       "      <td>47</td>\n",
       "      <td>No</td>\n",
       "      <td>travel_rarely</td>\n",
       "      <td>1771.404762</td>\n",
       "      <td>NaN</td>\n",
       "      <td>2</td>\n",
       "      <td>4</td>\n",
       "      <td>Medical</td>\n",
       "      <td>1</td>\n",
       "      <td>4</td>\n",
       "      <td>...</td>\n",
       "      <td>20</td>\n",
       "      <td>NaN</td>\n",
       "      <td>5</td>\n",
       "      <td>6</td>\n",
       "      <td>14307,50$</td>\n",
       "      <td>1976</td>\n",
       "      <td>171690,00$</td>\n",
       "      <td>NaN</td>\n",
       "      <td>NaN</td>\n",
       "      <td>False</td>\n",
       "    </tr>\n",
       "    <tr>\n",
       "      <th>4</th>\n",
       "      <td>46</td>\n",
       "      <td>No</td>\n",
       "      <td>NaN</td>\n",
       "      <td>1582.771346</td>\n",
       "      <td>NaN</td>\n",
       "      <td>3</td>\n",
       "      <td>3</td>\n",
       "      <td>Technical Degree</td>\n",
       "      <td>1</td>\n",
       "      <td>5</td>\n",
       "      <td>...</td>\n",
       "      <td>19</td>\n",
       "      <td>NaN</td>\n",
       "      <td>2</td>\n",
       "      <td>8</td>\n",
       "      <td>12783,92$</td>\n",
       "      <td>1977</td>\n",
       "      <td>NaN</td>\n",
       "      <td>NaN</td>\n",
       "      <td>NaN</td>\n",
       "      <td>0</td>\n",
       "    </tr>\n",
       "  </tbody>\n",
       "</table>\n",
       "<p>5 rows × 41 columns</p>\n",
       "</div>"
      ],
      "text/plain": [
       "  age attrition businesstravel    dailyrate                department  \\\n",
       "0  51        No            NaN  2015.722222                       NaN   \n",
       "1  52        No            NaN  2063.388889                       NaN   \n",
       "2  42        No  travel_rarely  1984.253968   Research & Development    \n",
       "3  47        No  travel_rarely  1771.404762                       NaN   \n",
       "4  46        No            NaN  1582.771346                       NaN   \n",
       "\n",
       "   distancefromhome  education    educationfield  employeecount  \\\n",
       "0                 6          3               NaN              1   \n",
       "1                 1          4     Life Sciences              1   \n",
       "2                 4          2  Technical Degree              1   \n",
       "3                 2          4           Medical              1   \n",
       "4                 3          3  Technical Degree              1   \n",
       "\n",
       "   employeenumber  ...  yearsatcompany  yearsincurrentrole  \\\n",
       "0               1  ...              20                 NaN   \n",
       "1               2  ...              33                 NaN   \n",
       "2               3  ...              22                 NaN   \n",
       "3               4  ...              20                 NaN   \n",
       "4               5  ...              19                 NaN   \n",
       "\n",
       "   yearssincelastpromotion  yearswithcurrmanager  sameasmonthlyincome  \\\n",
       "0                       15                    15            16280,83$   \n",
       "1                       11                     9                  NaN   \n",
       "2                       11                    15                  NaN   \n",
       "3                        5                     6            14307,50$   \n",
       "4                        2                     8            12783,92$   \n",
       "\n",
       "  datebirth      salary                       roledepartament numberchildren  \\\n",
       "0      1972  195370,00$                                   NaN            NaN   \n",
       "1      1971  199990,00$                                   NaN            NaN   \n",
       "2      1981  192320,00$   ManaGER  -  Research & Development             NaN   \n",
       "3      1976  171690,00$                                   NaN            NaN   \n",
       "4      1977         NaN                                   NaN            NaN   \n",
       "\n",
       "  remotework  \n",
       "0        Yes  \n",
       "1          1  \n",
       "2          1  \n",
       "3      False  \n",
       "4          0  \n",
       "\n",
       "[5 rows x 41 columns]"
      ]
     },
     "metadata": {},
     "output_type": "display_data"
    }
   ],
   "source": [
    "df = pd.read_csv(\"data.csv\", index_col=0) \n",
    "\n",
    "display(df.head())"
   ]
  },
  {
   "cell_type": "code",
   "execution_count": 85,
   "metadata": {},
   "outputs": [
    {
     "name": "stdout",
     "output_type": "stream",
     "text": [
      "Tenemos 1678 filas y 41 columnas\n"
     ]
    }
   ],
   "source": [
    "df.shape\n",
    "print(f'Tenemos {df.shape[0]} filas y {df.shape[1]} columnas')"
   ]
  },
  {
   "cell_type": "code",
   "execution_count": 86,
   "metadata": {},
   "outputs": [
    {
     "data": {
      "text/plain": [
       "Index(['age', 'attrition', 'businesstravel', 'dailyrate', 'department',\n",
       "       'distancefromhome', 'education', 'educationfield', 'employeecount',\n",
       "       'employeenumber', 'environmentsatisfaction', 'gender', 'hourlyrate',\n",
       "       'jobinvolvement', 'joblevel', 'jobrole', 'jobsatisfaction',\n",
       "       'maritalstatus', 'monthlyincome', 'monthlyrate', 'numcompaniesworked',\n",
       "       'over18', 'overtime', 'percentsalaryhike', 'performancerating',\n",
       "       'relationshipsatisfaction', 'standardhours', 'stockoptionlevel',\n",
       "       'totalworkingyears', 'trainingtimeslastyear', 'worklifebalance',\n",
       "       'yearsatcompany', 'yearsincurrentrole', 'yearssincelastpromotion',\n",
       "       'yearswithcurrmanager', 'sameasmonthlyincome', 'datebirth', 'salary',\n",
       "       'roledepartament', 'numberchildren', 'remotework'],\n",
       "      dtype='object')"
      ]
     },
     "execution_count": 86,
     "metadata": {},
     "output_type": "execute_result"
    }
   ],
   "source": [
    "df.columns"
   ]
  },
  {
   "cell_type": "code",
   "execution_count": 87,
   "metadata": {},
   "outputs": [
    {
     "name": "stdout",
     "output_type": "stream",
     "text": [
      "<class 'pandas.core.frame.DataFrame'>\n",
      "Index: 1678 entries, 0 to 1677\n",
      "Data columns (total 41 columns):\n",
      " #   Column                    Non-Null Count  Dtype  \n",
      "---  ------                    --------------  -----  \n",
      " 0   age                       1678 non-null   object \n",
      " 1   attrition                 1678 non-null   object \n",
      " 2   businesstravel            877 non-null    object \n",
      " 3   dailyrate                 1678 non-null   float64\n",
      " 4   department                312 non-null    object \n",
      " 5   distancefromhome          1678 non-null   int64  \n",
      " 6   education                 1678 non-null   int64  \n",
      " 7   educationfield            904 non-null    object \n",
      " 8   employeecount             1678 non-null   int64  \n",
      " 9   employeenumber            1678 non-null   int64  \n",
      " 10  environmentsatisfaction   1678 non-null   int64  \n",
      " 11  gender                    1678 non-null   int64  \n",
      " 12  hourlyrate                411 non-null    float64\n",
      " 13  jobinvolvement            1678 non-null   int64  \n",
      " 14  joblevel                  1678 non-null   int64  \n",
      " 15  jobrole                   1678 non-null   object \n",
      " 16  jobsatisfaction           1678 non-null   int64  \n",
      " 17  maritalstatus             1003 non-null   object \n",
      " 18  monthlyincome             1189 non-null   object \n",
      " 19  monthlyrate               1678 non-null   object \n",
      " 20  numcompaniesworked        1678 non-null   int64  \n",
      " 21  over18                    740 non-null    object \n",
      " 22  overtime                  982 non-null    object \n",
      " 23  percentsalaryhike         1678 non-null   int64  \n",
      " 24  performancerating         1478 non-null   object \n",
      " 25  relationshipsatisfaction  1678 non-null   int64  \n",
      " 26  standardhours             1327 non-null   object \n",
      " 27  stockoptionlevel          1678 non-null   int64  \n",
      " 28  totalworkingyears         1129 non-null   object \n",
      " 29  trainingtimeslastyear     1678 non-null   int64  \n",
      " 30  worklifebalance           1564 non-null   object \n",
      " 31  yearsatcompany            1678 non-null   int64  \n",
      " 32  yearsincurrentrole        35 non-null     object \n",
      " 33  yearssincelastpromotion   1678 non-null   int64  \n",
      " 34  yearswithcurrmanager      1678 non-null   int64  \n",
      " 35  sameasmonthlyincome       1189 non-null   object \n",
      " 36  datebirth                 1678 non-null   int64  \n",
      " 37  salary                    1393 non-null   object \n",
      " 38  roledepartament           312 non-null    object \n",
      " 39  numberchildren            0 non-null      float64\n",
      " 40  remotework                1678 non-null   object \n",
      "dtypes: float64(3), int64(18), object(20)\n",
      "memory usage: 550.6+ KB\n"
     ]
    }
   ],
   "source": [
    "df.info()"
   ]
  },
  {
   "cell_type": "markdown",
   "metadata": {},
   "source": [
    "## Identificar valores nulos"
   ]
  },
  {
   "cell_type": "code",
   "execution_count": 88,
   "metadata": {},
   "outputs": [
    {
     "data": {
      "text/plain": [
       "age                            0\n",
       "attrition                      0\n",
       "businesstravel               801\n",
       "dailyrate                      0\n",
       "department                  1366\n",
       "distancefromhome               0\n",
       "education                      0\n",
       "educationfield               774\n",
       "employeecount                  0\n",
       "employeenumber                 0\n",
       "environmentsatisfaction        0\n",
       "gender                         0\n",
       "hourlyrate                  1267\n",
       "jobinvolvement                 0\n",
       "joblevel                       0\n",
       "jobrole                        0\n",
       "jobsatisfaction                0\n",
       "maritalstatus                675\n",
       "monthlyincome                489\n",
       "monthlyrate                    0\n",
       "numcompaniesworked             0\n",
       "over18                       938\n",
       "overtime                     696\n",
       "percentsalaryhike              0\n",
       "performancerating            200\n",
       "relationshipsatisfaction       0\n",
       "standardhours                351\n",
       "stockoptionlevel               0\n",
       "totalworkingyears            549\n",
       "trainingtimeslastyear          0\n",
       "worklifebalance              114\n",
       "yearsatcompany                 0\n",
       "yearsincurrentrole          1643\n",
       "yearssincelastpromotion        0\n",
       "yearswithcurrmanager           0\n",
       "sameasmonthlyincome          489\n",
       "datebirth                      0\n",
       "salary                       285\n",
       "roledepartament             1366\n",
       "numberchildren              1678\n",
       "remotework                     0\n",
       "dtype: int64"
      ]
     },
     "execution_count": 88,
     "metadata": {},
     "output_type": "execute_result"
    }
   ],
   "source": [
    "df.isnull().sum()"
   ]
  },
  {
   "cell_type": "markdown",
   "metadata": {},
   "source": [
    "## Porcentaje de valores nulos en cada columna"
   ]
  },
  {
   "cell_type": "code",
   "execution_count": 89,
   "metadata": {},
   "outputs": [
    {
     "data": {
      "text/plain": [
       "age                           0.000000\n",
       "attrition                     0.000000\n",
       "businesstravel               47.735399\n",
       "dailyrate                     0.000000\n",
       "department                   81.406436\n",
       "distancefromhome              0.000000\n",
       "education                     0.000000\n",
       "educationfield               46.126341\n",
       "employeecount                 0.000000\n",
       "employeenumber                0.000000\n",
       "environmentsatisfaction       0.000000\n",
       "gender                        0.000000\n",
       "hourlyrate                   75.506555\n",
       "jobinvolvement                0.000000\n",
       "joblevel                      0.000000\n",
       "jobrole                       0.000000\n",
       "jobsatisfaction               0.000000\n",
       "maritalstatus                40.226460\n",
       "monthlyincome                29.141836\n",
       "monthlyrate                   0.000000\n",
       "numcompaniesworked            0.000000\n",
       "over18                       55.899881\n",
       "overtime                     41.477950\n",
       "percentsalaryhike             0.000000\n",
       "performancerating            11.918951\n",
       "relationshipsatisfaction      0.000000\n",
       "standardhours                20.917759\n",
       "stockoptionlevel              0.000000\n",
       "totalworkingyears            32.717521\n",
       "trainingtimeslastyear         0.000000\n",
       "worklifebalance               6.793802\n",
       "yearsatcompany                0.000000\n",
       "yearsincurrentrole           97.914184\n",
       "yearssincelastpromotion       0.000000\n",
       "yearswithcurrmanager          0.000000\n",
       "sameasmonthlyincome          29.141836\n",
       "datebirth                     0.000000\n",
       "salary                       16.984505\n",
       "roledepartament              81.406436\n",
       "numberchildren              100.000000\n",
       "remotework                    0.000000\n",
       "dtype: float64"
      ]
     },
     "execution_count": 89,
     "metadata": {},
     "output_type": "execute_result"
    }
   ],
   "source": [
    "(df.isnull().sum() / len(df)) * 100"
   ]
  },
  {
   "cell_type": "markdown",
   "metadata": {},
   "source": [
    "## Toma de decisión con respecto a los datos nulos obtenidos:\n",
    "\n",
    "#### Eliminamos las columnas en las que elporcentaje de valores nulos sea superior al 80%.\n",
    "\n",
    "Columnas para  eliminar:\n",
    "- \"department\" (81.40%)\n",
    "- \"roledepartament\" (81.40%)\n",
    "- \"numberchildren\" (100%)\n",
    "- \"yearsincurrentrole\" (97.91%)"
   ]
  },
  {
   "cell_type": "code",
   "execution_count": 90,
   "metadata": {},
   "outputs": [],
   "source": [
    "df.drop(columns=[\"department\", \"roledepartament\", \"numberchildren\", \"yearsincurrentrole\"], inplace=True)"
   ]
  },
  {
   "cell_type": "markdown",
   "metadata": {},
   "source": [
    "### Visualización del dataframe tras la eliminación de columnas "
   ]
  },
  {
   "cell_type": "code",
   "execution_count": 91,
   "metadata": {},
   "outputs": [
    {
     "data": {
      "text/html": [
       "<div>\n",
       "<style scoped>\n",
       "    .dataframe tbody tr th:only-of-type {\n",
       "        vertical-align: middle;\n",
       "    }\n",
       "\n",
       "    .dataframe tbody tr th {\n",
       "        vertical-align: top;\n",
       "    }\n",
       "\n",
       "    .dataframe thead th {\n",
       "        text-align: right;\n",
       "    }\n",
       "</style>\n",
       "<table border=\"1\" class=\"dataframe\">\n",
       "  <thead>\n",
       "    <tr style=\"text-align: right;\">\n",
       "      <th></th>\n",
       "      <th>age</th>\n",
       "      <th>attrition</th>\n",
       "      <th>businesstravel</th>\n",
       "      <th>dailyrate</th>\n",
       "      <th>distancefromhome</th>\n",
       "      <th>education</th>\n",
       "      <th>educationfield</th>\n",
       "      <th>employeecount</th>\n",
       "      <th>employeenumber</th>\n",
       "      <th>environmentsatisfaction</th>\n",
       "      <th>...</th>\n",
       "      <th>totalworkingyears</th>\n",
       "      <th>trainingtimeslastyear</th>\n",
       "      <th>worklifebalance</th>\n",
       "      <th>yearsatcompany</th>\n",
       "      <th>yearssincelastpromotion</th>\n",
       "      <th>yearswithcurrmanager</th>\n",
       "      <th>sameasmonthlyincome</th>\n",
       "      <th>datebirth</th>\n",
       "      <th>salary</th>\n",
       "      <th>remotework</th>\n",
       "    </tr>\n",
       "  </thead>\n",
       "  <tbody>\n",
       "    <tr>\n",
       "      <th>0</th>\n",
       "      <td>51</td>\n",
       "      <td>No</td>\n",
       "      <td>NaN</td>\n",
       "      <td>2015.722222</td>\n",
       "      <td>6</td>\n",
       "      <td>3</td>\n",
       "      <td>NaN</td>\n",
       "      <td>1</td>\n",
       "      <td>1</td>\n",
       "      <td>1</td>\n",
       "      <td>...</td>\n",
       "      <td>NaN</td>\n",
       "      <td>5</td>\n",
       "      <td>3,0</td>\n",
       "      <td>20</td>\n",
       "      <td>15</td>\n",
       "      <td>15</td>\n",
       "      <td>16280,83$</td>\n",
       "      <td>1972</td>\n",
       "      <td>195370,00$</td>\n",
       "      <td>Yes</td>\n",
       "    </tr>\n",
       "    <tr>\n",
       "      <th>1</th>\n",
       "      <td>52</td>\n",
       "      <td>No</td>\n",
       "      <td>NaN</td>\n",
       "      <td>2063.388889</td>\n",
       "      <td>1</td>\n",
       "      <td>4</td>\n",
       "      <td>Life Sciences</td>\n",
       "      <td>1</td>\n",
       "      <td>2</td>\n",
       "      <td>3</td>\n",
       "      <td>...</td>\n",
       "      <td>34,0</td>\n",
       "      <td>5</td>\n",
       "      <td>3,0</td>\n",
       "      <td>33</td>\n",
       "      <td>11</td>\n",
       "      <td>9</td>\n",
       "      <td>NaN</td>\n",
       "      <td>1971</td>\n",
       "      <td>199990,00$</td>\n",
       "      <td>1</td>\n",
       "    </tr>\n",
       "    <tr>\n",
       "      <th>2</th>\n",
       "      <td>42</td>\n",
       "      <td>No</td>\n",
       "      <td>travel_rarely</td>\n",
       "      <td>1984.253968</td>\n",
       "      <td>4</td>\n",
       "      <td>2</td>\n",
       "      <td>Technical Degree</td>\n",
       "      <td>1</td>\n",
       "      <td>3</td>\n",
       "      <td>3</td>\n",
       "      <td>...</td>\n",
       "      <td>22,0</td>\n",
       "      <td>3</td>\n",
       "      <td>NaN</td>\n",
       "      <td>22</td>\n",
       "      <td>11</td>\n",
       "      <td>15</td>\n",
       "      <td>NaN</td>\n",
       "      <td>1981</td>\n",
       "      <td>192320,00$</td>\n",
       "      <td>1</td>\n",
       "    </tr>\n",
       "    <tr>\n",
       "      <th>3</th>\n",
       "      <td>47</td>\n",
       "      <td>No</td>\n",
       "      <td>travel_rarely</td>\n",
       "      <td>1771.404762</td>\n",
       "      <td>2</td>\n",
       "      <td>4</td>\n",
       "      <td>Medical</td>\n",
       "      <td>1</td>\n",
       "      <td>4</td>\n",
       "      <td>1</td>\n",
       "      <td>...</td>\n",
       "      <td>NaN</td>\n",
       "      <td>2</td>\n",
       "      <td>NaN</td>\n",
       "      <td>20</td>\n",
       "      <td>5</td>\n",
       "      <td>6</td>\n",
       "      <td>14307,50$</td>\n",
       "      <td>1976</td>\n",
       "      <td>171690,00$</td>\n",
       "      <td>False</td>\n",
       "    </tr>\n",
       "    <tr>\n",
       "      <th>4</th>\n",
       "      <td>46</td>\n",
       "      <td>No</td>\n",
       "      <td>NaN</td>\n",
       "      <td>1582.771346</td>\n",
       "      <td>3</td>\n",
       "      <td>3</td>\n",
       "      <td>Technical Degree</td>\n",
       "      <td>1</td>\n",
       "      <td>5</td>\n",
       "      <td>1</td>\n",
       "      <td>...</td>\n",
       "      <td>NaN</td>\n",
       "      <td>5</td>\n",
       "      <td>3,0</td>\n",
       "      <td>19</td>\n",
       "      <td>2</td>\n",
       "      <td>8</td>\n",
       "      <td>12783,92$</td>\n",
       "      <td>1977</td>\n",
       "      <td>NaN</td>\n",
       "      <td>0</td>\n",
       "    </tr>\n",
       "  </tbody>\n",
       "</table>\n",
       "<p>5 rows × 37 columns</p>\n",
       "</div>"
      ],
      "text/plain": [
       "  age attrition businesstravel    dailyrate  distancefromhome  education  \\\n",
       "0  51        No            NaN  2015.722222                 6          3   \n",
       "1  52        No            NaN  2063.388889                 1          4   \n",
       "2  42        No  travel_rarely  1984.253968                 4          2   \n",
       "3  47        No  travel_rarely  1771.404762                 2          4   \n",
       "4  46        No            NaN  1582.771346                 3          3   \n",
       "\n",
       "     educationfield  employeecount  employeenumber  environmentsatisfaction  \\\n",
       "0               NaN              1               1                        1   \n",
       "1     Life Sciences              1               2                        3   \n",
       "2  Technical Degree              1               3                        3   \n",
       "3           Medical              1               4                        1   \n",
       "4  Technical Degree              1               5                        1   \n",
       "\n",
       "   ...  totalworkingyears  trainingtimeslastyear  worklifebalance  \\\n",
       "0  ...                NaN                      5              3,0   \n",
       "1  ...               34,0                      5              3,0   \n",
       "2  ...               22,0                      3              NaN   \n",
       "3  ...                NaN                      2              NaN   \n",
       "4  ...                NaN                      5              3,0   \n",
       "\n",
       "   yearsatcompany yearssincelastpromotion  yearswithcurrmanager  \\\n",
       "0              20                      15                    15   \n",
       "1              33                      11                     9   \n",
       "2              22                      11                    15   \n",
       "3              20                       5                     6   \n",
       "4              19                       2                     8   \n",
       "\n",
       "  sameasmonthlyincome datebirth      salary  remotework  \n",
       "0           16280,83$      1972  195370,00$         Yes  \n",
       "1                 NaN      1971  199990,00$           1  \n",
       "2                 NaN      1981  192320,00$           1  \n",
       "3           14307,50$      1976  171690,00$       False  \n",
       "4           12783,92$      1977         NaN           0  \n",
       "\n",
       "[5 rows x 37 columns]"
      ]
     },
     "execution_count": 91,
     "metadata": {},
     "output_type": "execute_result"
    }
   ],
   "source": [
    "df.head() "
   ]
  },
  {
   "cell_type": "markdown",
   "metadata": {},
   "source": [
    "## Dividimos la limpieza y transformación de columnas según el tipo de valor.\n",
    "### Comenzamos filtrando las columnas de tipo categóricas"
   ]
  },
  {
   "cell_type": "code",
   "execution_count": 92,
   "metadata": {},
   "outputs": [],
   "source": [
    "columns_object = df.select_dtypes(include = object)"
   ]
  },
  {
   "cell_type": "code",
   "execution_count": 93,
   "metadata": {},
   "outputs": [
    {
     "data": {
      "text/plain": [
       "(1678, 17)"
      ]
     },
     "execution_count": 93,
     "metadata": {},
     "output_type": "execute_result"
    }
   ],
   "source": [
    "columns_object.shape"
   ]
  },
  {
   "cell_type": "code",
   "execution_count": 94,
   "metadata": {},
   "outputs": [
    {
     "data": {
      "text/plain": [
       "Index(['age', 'attrition', 'businesstravel', 'educationfield', 'jobrole',\n",
       "       'maritalstatus', 'monthlyincome', 'monthlyrate', 'over18', 'overtime',\n",
       "       'performancerating', 'standardhours', 'totalworkingyears',\n",
       "       'worklifebalance', 'sameasmonthlyincome', 'salary', 'remotework'],\n",
       "      dtype='object')"
      ]
     },
     "execution_count": 94,
     "metadata": {},
     "output_type": "execute_result"
    }
   ],
   "source": [
    "columns_object.columns"
   ]
  },
  {
   "cell_type": "markdown",
   "metadata": {},
   "source": [
    "## COLUMNAS LIMPIEZA SARA"
   ]
  },
  {
   "cell_type": "code",
   "execution_count": 95,
   "metadata": {},
   "outputs": [],
   "source": [
    "columnas = ['overtime', 'performancerating', 'standardhours', 'totalworkingyears',\n",
    "    'worklifebalance', 'sameasmonthlyincome',\n",
    "    'salary','remotework']"
   ]
  },
  {
   "cell_type": "code",
   "execution_count": 96,
   "metadata": {},
   "outputs": [
    {
     "name": "stdout",
     "output_type": "stream",
     "text": [
      "<class 'pandas.core.frame.DataFrame'>\n",
      "Index: 1678 entries, 0 to 1677\n",
      "Data columns (total 8 columns):\n",
      " #   Column               Non-Null Count  Dtype \n",
      "---  ------               --------------  ----- \n",
      " 0   overtime             982 non-null    object\n",
      " 1   performancerating    1478 non-null   object\n",
      " 2   standardhours        1327 non-null   object\n",
      " 3   totalworkingyears    1129 non-null   object\n",
      " 4   worklifebalance      1564 non-null   object\n",
      " 5   sameasmonthlyincome  1189 non-null   object\n",
      " 6   salary               1393 non-null   object\n",
      " 7   remotework           1678 non-null   object\n",
      "dtypes: object(8)\n",
      "memory usage: 118.0+ KB\n"
     ]
    }
   ],
   "source": [
    "df[columnas].info()"
   ]
  },
  {
   "cell_type": "code",
   "execution_count": 97,
   "metadata": {},
   "outputs": [
    {
     "name": "stdout",
     "output_type": "stream",
     "text": [
      "Valores únicos en 'overtime':\n",
      "['No' nan 'Yes'] \n",
      "\n",
      "Valores únicos en 'performancerating':\n",
      "['3,0' '4,0' nan] \n",
      "\n",
      "Valores únicos en 'standardhours':\n",
      "['Full Time' nan 'Part Time'] \n",
      "\n",
      "Valores únicos en 'totalworkingyears':\n",
      "[nan '34,0' '22,0' '28,0' '20,0' '21,0' '33,0' '40,0' '18,0' '25,0' '15,0'\n",
      " '17,0' '26,0' '16,0' '24,0' '14,0' '23,0' '27,0' '19,0' '11,0' '38,0'\n",
      " '37,0' '13,0' '12,0' '29,0' '10,0' '36,0' '35,0' '9,0' '31,0' '32,0'\n",
      " '8,0' '7,0' '30,0' '6,0' '5,0' '4,0' '3,0' '2,0' '1,0' '0,0'] \n",
      "\n",
      "Valores únicos en 'worklifebalance':\n",
      "['3,0' nan '2,0' '4,0' '1,0'] \n",
      "\n",
      "Valores únicos en 'sameasmonthlyincome':\n",
      "['16280,83$' nan '14307,50$' '12783,92$' '14311,67$' '8339,32$'\n",
      " '13829,17$' '15943,72$' '16644,17$' '15034,17$' '16038,33$' '4492,84$'\n",
      " '8956,67$' '5167,50$' '3334,17$' '8705,83$' '2675,00$' '8555,00$'\n",
      " '8729,17$' '3934,17$' '3845,83$' '14132,50$' '8588,33$' '4505,00$'\n",
      " '4918,33$' '4928,33$' '5538,33$' '11100,00$' '5572,50$' '11560,00$'\n",
      " '15870,83$' '13345,83$' '8010,83$' '3588,33$' '14205,00$' '4222,50$'\n",
      " '3076,67$' '2342,59$' '4789,17$' '8685,00$' '5289,17$' '1956,67$'\n",
      " '10408,33$' '6683,33$' '7452,50$' '16060,00$' '4647,50$' '2242,50$'\n",
      " '6169,17$' '7352,50$' '2982,50$' '14815,83$' '15177,50$' '15991,67$'\n",
      " '15989,17$' '8340,00$' '6656,67$' '5902,50$' '3935,83$' '2839,17$'\n",
      " '2440,83$' '10025,83$' '12855,83$' '5135,00$' '4271,67$' '8015,83$'\n",
      " '4175,00$' '15860,83$' '8666,67$' '2327,50$' '4728,33$' '7010,00$'\n",
      " '2790,00$' '4424,17$' '6378,33$' '10673,33$' '5488,33$' '2099,17$'\n",
      " '10933,33$' '2609,17$' '5561,67$' '14884,17$' '6205,00$' '11464,17$'\n",
      " '13831,67$' '2557,50$' '7700,83$' '5393,33$' '6934,17$' '7148,33$'\n",
      " '3497,50$' '8240,00$' '4730,83$' '7938,33$' '5687,50$' '3686,67$'\n",
      " '4534,17$' '5061,67$' '5143,33$' '4670,83$' '3599,17$' '2970,00$'\n",
      " '5217,50$' '5670,00$' '16196,67$' '4856,67$' '3901,67$' '1765,83$'\n",
      " '4978,33$' '11010,00$' '3375,83$' '4004,17$' '2284,17$' '7861,67$'\n",
      " '4496,67$' '9299,17$' '4133,33$' '7327,50$' '1846,67$' '9760,83$'\n",
      " '4420,00$' '9252,50$' '5526,67$' '6322,50$' '3612,50$' '4983,33$'\n",
      " '3536,67$' '4356,67$' '2250,00$' '1971,67$' '1940,83$' '8604,17$'\n",
      " '9037,50$' '5320,83$' '3050,00$' '7283,33$' '11249,17$' '2909,17$'\n",
      " '4350,00$' '8543,33$' '16450,00$' '5174,17$' '3778,33$' '7083,33$'\n",
      " '3865,83$' '4469,17$' '3400,83$' '8994,17$' '9042,50$' '3654,17$'\n",
      " '3388,33$' '4338,33$' '2212,50$' '2141,67$' '3751,67$' '4140,00$'\n",
      " '4289,17$' '2265,00$' '2949,17$' '4556,67$' '4844,17$' '8055,83$'\n",
      " '4729,17$' '6095,00$' '11308,33$' '8325,83$' '8540,00$' '9115,00$'\n",
      " '2160,83$' '9898,33$' '6745,83$' '14046,67$' '3780,83$' '3345,00$'\n",
      " '10618,33$' '8735,00$' '3540,83$' '5457,50$' '12009,17$' '6864,17$'\n",
      " '2675,83$' '13920,00$' '3806,67$' '4994,17$' '5415,83$' '5330,83$'\n",
      " '3018,33$' '5228,33$' '4573,33$' '2095,00$' '2663,33$' '2850,00$'\n",
      " '3405,83$' '3500,00$' '4171,67$' '5418,33$' '5290,83$' '3796,67$'\n",
      " '3525,00$' '8967,50$' '4336,67$' '14499,17$' '4295,83$' '15657,50$'\n",
      " '4069,17$' '2496,67$' '7731,67$' '3468,33$' '7377,50$' '6463,33$'\n",
      " '3324,17$' '3085,00$' '2254,17$' '3706,67$' '7448,33$' '8280,00$'\n",
      " '15616,67$' '4560,83$' '11252,50$' '11290,83$' '2311,67$' '7865,83$'\n",
      " '4387,50$' '3179,17$' '1990,83$' '3333,33$' '14653,33$' '4717,50$'\n",
      " '4057,50$' '3874,17$' '8746,67$' '2840,00$' '3548,33$' '4570,83$'\n",
      " '2318,33$' '5240,00$' '3495,00$' '2110,00$' '11438,33$' '3422,50$'\n",
      " '2997,50$' '3429,17$' '5226,67$' '7670,00$' '3644,17$' '1720,00$'\n",
      " '2025,00$' '4064,17$' '3133,33$' '1677,50$' '2305,00$' '5427,50$'\n",
      " '1855,00$' '4634,17$' '1786,67$' '4477,50$' '2414,17$' '4434,17$'\n",
      " '1667,50$' '3670,00$' '3286,67$' '15789,17$' '1678,33$' '11386,67$'\n",
      " '4184,17$' '3949,17$' '3597,50$' '1686,67$' '3274,17$' '3687,50$'\n",
      " '1940,00$' '2214,17$' '2185,00$' '2676,67$' '2425,83$' '1813,33$'\n",
      " '15554,17$' '5341,67$' '4117,50$' '3319,17$' '2420,00$' '2246,67$'\n",
      " '5629,17$' '9137,50$' '16171,67$' '5448,33$' '1881,67$' '2211,67$'\n",
      " '9945,83$' '3245,00$' '2000,00$' '2872,50$' '16260,83$' '2215,83$'\n",
      " '7372,50$' '4042,50$' '3814,17$' '11475,00$' '1914,17$' '2041,67$'\n",
      " '3618,33$' '2143,33$' '5416,67$' '2624,17$' '4436,67$' '3651,67$'\n",
      " '2127,50$' '4944,17$' '9111,67$' '1685,00$' '3546,67$' '2983,33$'\n",
      " '2415,83$' '4635,00$' '1980,83$' '2332,50$' '2876,67$' '2342,50$'\n",
      " '3647,50$' '3533,33$' '3522,50$' '3264,17$' '1701,67$' '2350,83$'\n",
      " '8297,50$' '1839,17$' '4775,83$' '3781,67$' '1733,33$' '3253,33$'\n",
      " '3855,83$' '1918,33$' '8830,00$' '4555,83$' '4807,50$' '1995,00$'\n",
      " '2690,83$' '13685,00$' '4705,83$' '1721,67$' '4571,67$' '2635,00$'\n",
      " '5542,50$' '2424,17$' '4081,67$' '2650,00$' '3390,83$' '5326,67$'\n",
      " '4045,83$' '2760,00$' '2150,00$' '1805,00$' '3645,00$' '4587,50$'\n",
      " '2155,83$' '13310,00$' '2860,83$' '2897,50$' '3255,83$' '2870,83$'\n",
      " '2300,00$' '5245,00$' '10930,00$' '2992,50$' '4504,17$' '1754,17$'\n",
      " '3251,67$' '2218,33$' '4589,17$' '6752,50$' '3315,00$' '4499,17$'\n",
      " '8706,67$' '3700,00$' '2216,67$' '2812,50$' '1890,83$' '2340,83$'\n",
      " '9045,00$' '2142,50$' '2849,17$' '2084,17$' '2138,33$' '3266,67$'\n",
      " '11636,67$' '5450,00$' '1870,00$' '13486,67$' '3527,50$' '12345,00$'\n",
      " '1931,67$' '16030,83$' '2126,67$' '2231,67$' '4898,33$' '3439,17$'\n",
      " '1790,00$' '5555,83$' '8103,33$' '2823,33$' '2531,67$' '1935,00$'\n",
      " '2438,33$' '3754,17$' '5560,83$' '11325,83$' '16264,17$' '16001,67$'\n",
      " '8373,33$' '2269,17$' '2634,17$' '1183,33$' '1000,00$' '4365,00$'\n",
      " '1975,00$' '5650,83$' '5544,17$' '2063,33$' '1904,17$' '2873,33$'\n",
      " '3798,33$' '1418,33$' '2136,67$' '3150,00$' '1950,00$' '1772,50$'\n",
      " '1694,17$' '8001,67$' '13855,83$' '1735,83$' '84083$' '6550,83$'\n",
      " '2201,67$' '4267,50$' '2245,00$' '4245,00$' '1928,33$' '1673,33$'\n",
      " '8793,33$' '1882,50$' '3469,17$' '15252,50$' '1983,33$' '3980,83$'\n",
      " '87667$' '6125,83$' '3971,67$' '2377,50$' '1755,83$' '1841,67$'\n",
      " '10992,50$' '15220,83$' '93167$' '2365,00$' '15050,83$' '1342,50$'\n",
      " '3973,33$' '2003,33$' '5323,33$' '4034,17$' '1728,33$' '2476,67$'\n",
      " '5679,17$' '2241,67$' '3489,17$' '9069,17$' '2385,00$' '5612,50$'\n",
      " '4411,67$' '2030,83$' '2463,33$' '3873,33$' '2336,67$' '2032,50$'\n",
      " '2380,00$' '2444,17$' '2385,83$' '2381,67$' '94083$' '16192,50$'\n",
      " '1923,33$' '2115,83$' '1980,00$' '4295,00$' '1811,67$' '2119,17$'\n",
      " '1848,33$' '2045,83$' '4380,83$' '2528,33$' '6993,33$' '15990,83$'\n",
      " '3578,33$' '3705,83$'] \n",
      "\n",
      "Valores únicos en 'salary':\n",
      "['195370,00$' '199990,00$' '192320,00$' '171690,00$' nan '100071,84$'\n",
      " '53914,11$' '165950,00$' '199730,00$' '134020,00$' '132060,00$'\n",
      " '195450,00$' '180410,00$' '192460,00$' '107480,00$' '167520,00$'\n",
      " '62010,00$' '198450,00$' '40010,00$' '104470,00$' '191324,62$'\n",
      " '160640,00$' '32100,00$' '102660,00$' '104750,00$' '61620,00$'\n",
      " '47210,00$' '153407,07$' '28111,13$' '46150,00$' '169590,00$' '54060,00$'\n",
      " '59020,00$' '108550,00$' '59140,00$' '66460,00$' '139730,00$' '66870,00$'\n",
      " '47350,00$' '138720,00$' '190450,00$' '96130,00$' '115100,00$'\n",
      " '170460,00$' '36920,00$' '198470,00$' '23080,00$' '57470,00$'\n",
      " '104220,00$' '63470,00$' '23480,00$' '30720,00$' '124900,00$' '80200,00$'\n",
      " '170680,00$' '89430,00$' '192720,00$' '55770,00$' '26910,00$' '74030,00$'\n",
      " '88230,00$' '35790,00$' '177790,00$' '182130,00$' '135770,00$'\n",
      " '191900,00$' '171230,00$' '191870,00$' '79880,00$' '70830,00$'\n",
      " '34070,00$' '29290,00$' '120310,00$' '154270,00$' '51260,00$' '96190,00$'\n",
      " '190330,00$' '104000,00$' '56740,00$' '191970,00$' '84120,00$'\n",
      " '33480,00$' '53090,00$' '76540,00$' '128080,00$' '65860,00$' '25190,00$'\n",
      " '170990,00$' '131200,00$' '44440,00$' '98520,00$' '178610,00$'\n",
      " '137570,00$' '165980,00$' '42850,00$' '101240,00$' '97140,00$'\n",
      " '99240,00$' '112450,00$' '92410,00$' '64720,00$' '30550,00$' '83210,00$'\n",
      " '31430,00$' '85780,00$' '98880,00$' '133410,00$' '29090,00$' '95260,00$'\n",
      " '44240,00$' '60740,00$' '61460,00$' '61720,00$' '46680,00$' '56050,00$'\n",
      " '43190,00$' '35640,00$' '62610,00$' '68040,00$' '194360,00$' '24550,00$'\n",
      " '50550,00$' '52570,00$' '59740,00$' '30340,00$' '83920,00$' '40510,00$'\n",
      " '48050,00$' '53370,00$' '94340,00$' '53960,00$' '111590,00$' '87930,00$'\n",
      " '191890,00$' '22160,00$' '117130,00$' '53040,00$' '111030,00$'\n",
      " '66320,00$' '75870,00$' '43350,00$' '59800,00$' '52280,00$' '27000,00$'\n",
      " '23660,00$' '23290,00$' '42940,00$' '67250,00$' '103250,00$' '44470,00$'\n",
      " '108450,00$' '54720,00$' '63850,00$' '75250,00$' '87400,00$' '134990,00$'\n",
      " '34910,00$' '102520,00$' '197400,00$' '62090,00$' '70940,00$' '45340,00$'\n",
      " '85000,00$' '46390,00$' '53630,00$' '40810,00$' '35780,00$' '173280,00$'\n",
      " '107930,00$' '108510,00$' '104660,00$' '23620,00$' '64390,00$'\n",
      " '57690,00$' '40660,00$' '52060,00$' '25700,00$' '45020,00$' '49680,00$'\n",
      " '51470,00$' '27180,00$' '54680,00$' '96670,00$' '51540,00$' '56750,00$'\n",
      " '73140,00$' '50980,00$' '135700,00$' '67120,00$' '99910,00$' '102480,00$'\n",
      " '25930,00$' '80950,00$' '168560,00$' '45370,00$' '179240,00$' '40140,00$'\n",
      " '127420,00$' '33760,00$' '104820,00$' '42490,00$' '195860,00$'\n",
      " '82370,00$' '47740,00$' '45680,00$' '59930,00$' '64990,00$' '34520,00$'\n",
      " '63970,00$' '27250,00$' '36220,00$' '61800,00$' '62740,00$' '43810,00$'\n",
      " '25590,00$' '54880,00$' '25140,00$' '31960,00$' '34200,00$' '53680,00$'\n",
      " '129360,00$' '42210,00$' '49630,00$' '76390,00$' '135250,00$' '63800,00$'\n",
      " '31020,00$' '45560,00$' '42300,00$' '48590,00$' '63220,00$' '107610,00$'\n",
      " '29730,00$' '52040,00$' '173990,00$' '168850,00$' '43230,00$' '51550,00$'\n",
      " '29360,00$' '187890,00$' '48830,00$' '20290,00$' '29960,00$' '92780,00$'\n",
      " '88530,00$' '48760,00$' '21410,00$' '39360,00$' '68420,00$' '39890,00$'\n",
      " '49300,00$' '27050,00$' '44480,00$' '23790,00$' '54870,00$' '28100,00$'\n",
      " '89380,00$' '99360,00$' '54540,00$' '54730,00$' '135030,00$' '135490,00$'\n",
      " '181720,00$' '27740,00$' '94390,00$' '52650,00$' '38150,00$' '23890,00$'\n",
      " '175840,00$' '48690,00$' '46490,00$' '104960,00$' '27680,00$' '34080,00$'\n",
      " '37550,00$' '21870,00$' '42580,00$' '53260,00$' '27820,00$' '176390,00$'\n",
      " '60620,00$' '62880,00$' '34240,00$' '41940,00$' '25320,00$' '56660,00$'\n",
      " '137260,00$' '41070,00$' '35970,00$' '41150,00$' '62720,00$' '25170,00$'\n",
      " '39040,00$' '92040,00$' '43730,00$' '20640,00$' '24300,00$' '48770,00$'\n",
      " '37600,00$' '29740,00$' '27660,00$' '33770,00$' '42130,00$' '65130,00$'\n",
      " '42840,00$' '22260,00$' '55610,00$' '53730,00$' '28970,00$' '54100,00$'\n",
      " '48500,00$' '39440,00$' '29600,00$' '189470,00$' '64650,00$' '26830,00$'\n",
      " '20140,00$' '34410,00$' '136640,00$' '50210,00$' '188440,00$'\n",
      " '106500,00$' '43170,00$' '20240,00$' '30580,00$' '39290,00$' '44250,00$'\n",
      " '23280,00$' '59400,00$' '26220,00$' '32120,00$' '29110,00$' '69310,00$'\n",
      " '21760,00$' '32300,00$' '186650,00$' '27890,00$' '64100,00$' '49410,00$'\n",
      " '39830,00$' '29040,00$' '21740,00$' '26570,00$' '109650,00$' '25430,00$'\n",
      " '194060,00$' '65380,00$' '22180,00$' '26540,00$' '119350,00$' '25460,00$'\n",
      " '38940,00$' '42620,00$' '105270,00$' '36810,00$' '34470,00$' '88470,00$'\n",
      " '20450,00$' '48510,00$' '81200,00$' '45770,00$' '54050,00$' '37080,00$'\n",
      " '137700,00$' '24500,00$' '43420,00$' '31490,00$' '53240,00$' '43820,00$'\n",
      " '25530,00$' '59330,00$' '44030,00$' '109340,00$' '20220,00$' '42560,00$'\n",
      " '28990,00$' '23770,00$' '24040,00$' '27990,00$' '28110,00$' '43770,00$'\n",
      " '42270,00$' '39170,00$' '49690,00$' '20420,00$' '22070,00$' '20700,00$'\n",
      " '27910,00$' '82240,00$' '26100,00$' '57310,00$' '25390,00$' '23760,00$'\n",
      " '190810,00$' '27430,00$' '45380,00$' '38670,00$' '20800,00$' '20960,00$'\n",
      " '46270,00$' '23020,00$' '50710,00$' '54670,00$' '23940,00$' '36290,00$'\n",
      " '93620,00$' '32290,00$' '164220,00$' '44000,00$' '20660,00$' '66510,00$'\n",
      " '48980,00$' '31800,00$' '112440,00$' '63920,00$' '33120,00$' '31170,00$'\n",
      " '152020,00$' '25800,00$' '21660,00$' '43740,00$' '55050,00$' '159720,00$'\n",
      " '23050,00$' '34770,00$' '39070,00$' '34450,00$' '27600,00$' '62940,00$'\n",
      " '21050,00$' '39020,00$' '20620,00$' '25870,00$' '55070,00$' '81030,00$'\n",
      " '39780,00$' '53990,00$' '44400,00$' '26600,00$' '33750,00$' '22690,00$'\n",
      " '47870,00$' '28090,00$' '25710,00$' '61420,00$' '24960,00$' '34190,00$'\n",
      " '25010,00$' '39200,00$' '65400,00$' '161840,00$' '171590,00$' '36170,00$'\n",
      " '26840,00$' '192370,00$' '44220,00$' '26780,00$' '51710,00$' '119160,00$'\n",
      " '93800,00$' '24680,00$' '41270,00$' '21480,00$' '38860,00$' '20900,00$'\n",
      " '20860,00$' '19510,00$' '30220,00$' '97240,00$' '33880,00$' '23220,00$'\n",
      " '45050,00$' '28350,00$' '65530,00$' '66730,00$' '135910,00$' '21770,00$'\n",
      " '195170,00$' '192020,00$' '100480,00$' '27230,00$' '66440,00$'\n",
      " '31610,00$' '12000,00$' '52380,00$' '99850,00$' '159920,00$' '23700,00$'\n",
      " '67810,00$' '28510,00$' '52580,00$' '22850,00$' '41970,00$' '45580,00$'\n",
      " '17020,00$' '25640,00$' '50700,00$' '37800,00$' '98240,00$' '18780,00$'\n",
      " '21270,00$' '20330,00$' '96020,00$' '166270,00$' '20830,00$' '10090,00$'\n",
      " '78610,00$' '26420,00$' '51210,00$' '26940,00$' '50940,00$' '22740,00$'\n",
      " '23140,00$' '23800,00$' '20080,00$' '105520,00$' '22590,00$' '24130,00$'\n",
      " '21210,00$' '24790,00$' '131940,00$' '26000,00$' '183030,00$' '47770,00$'\n",
      " '10520,00$' '24610,00$' '25960,00$' '47280,00$' '73510,00$' '47660,00$'\n",
      " '22580,00$' '28270,00$' '28530,00$' '22900,00$' '21070,00$' '22100,00$'\n",
      " '131910,00$' '182650,00$' '23720,00$' '28380,00$' '180610,00$'\n",
      " '16110,00$' '47680,00$' '12740,00$' '25610,00$' '15630,00$' '83760,00$'\n",
      " '48410,00$' '29720,00$' '68150,00$' '175670,00$' '15690,00$' '41870,00$'\n",
      " '33060,00$' '13930,00$' '108830,00$' '67350,00$' '97560,00$' '52940,00$'\n",
      " '24370,00$' '40710,00$' '29560,00$' '46480,00$' '28040,00$' '24390,00$'\n",
      " '29330,00$' '10910,00$' '51510,00$' '28630,00$' '11290,00$' '194310,00$'\n",
      " '21440,00$' '160150,00$' '43060,00$' '28210,00$' '35390,00$' '58130,00$'\n",
      " '26960,00$' '67550,00$' '58280,00$' '132120,00$' '27410,00$' '49600,00$'\n",
      " '42440,00$'] \n",
      "\n",
      "Valores únicos en 'remotework':\n",
      "['Yes' '1' 'False' '0' 'True'] \n",
      "\n"
     ]
    }
   ],
   "source": [
    "for col in columnas:\n",
    "    print(f\"Valores únicos en '{col}':\")\n",
    "    print(df[col].unique(), \"\\n\")"
   ]
  },
  {
   "cell_type": "markdown",
   "metadata": {},
   "source": [
    "### CREACIÓN DE FUNCIÓN PARA QUE ELIMINE LOS ESPACIOS DE TODAS LAS COLUMNAS, TRANSFORME LAS (,) EN (.), LETRAS EN MINÚSCULAS Y ELIMINE SÍMBOLO $"
   ]
  },
  {
   "cell_type": "code",
   "execution_count": 98,
   "metadata": {},
   "outputs": [],
   "source": [
    "def limpieza(columna):\n",
    "    \n",
    "    try: \n",
    "        columna = columna.str.strip()\n",
    "        columna = columna.str.lower()\n",
    "        columna= columna.str.replace(',','.', regex = False)\n",
    "        columna = columna.str.replace('$','', regex = False)\n",
    "    \n",
    "        return columna\n",
    "    \n",
    "    except:\n",
    "        print(f'Error en la columna{columna}')\n",
    "        return columna"
   ]
  },
  {
   "cell_type": "code",
   "execution_count": 99,
   "metadata": {},
   "outputs": [],
   "source": [
    "df[columnas] = df[columnas].apply(limpieza)"
   ]
  },
  {
   "cell_type": "code",
   "execution_count": 100,
   "metadata": {},
   "outputs": [
    {
     "name": "stdout",
     "output_type": "stream",
     "text": [
      "Valores únicos en 'overtime':\n",
      "['no' nan 'yes'] \n",
      "\n",
      "Valores únicos en 'performancerating':\n",
      "['3.0' '4.0' nan] \n",
      "\n",
      "Valores únicos en 'standardhours':\n",
      "['full time' nan 'part time'] \n",
      "\n",
      "Valores únicos en 'totalworkingyears':\n",
      "[nan '34.0' '22.0' '28.0' '20.0' '21.0' '33.0' '40.0' '18.0' '25.0' '15.0'\n",
      " '17.0' '26.0' '16.0' '24.0' '14.0' '23.0' '27.0' '19.0' '11.0' '38.0'\n",
      " '37.0' '13.0' '12.0' '29.0' '10.0' '36.0' '35.0' '9.0' '31.0' '32.0'\n",
      " '8.0' '7.0' '30.0' '6.0' '5.0' '4.0' '3.0' '2.0' '1.0' '0.0'] \n",
      "\n",
      "Valores únicos en 'worklifebalance':\n",
      "['3.0' nan '2.0' '4.0' '1.0'] \n",
      "\n",
      "Valores únicos en 'sameasmonthlyincome':\n",
      "['16280.83' nan '14307.50' '12783.92' '14311.67' '8339.32' '13829.17'\n",
      " '15943.72' '16644.17' '15034.17' '16038.33' '4492.84' '8956.67' '5167.50'\n",
      " '3334.17' '8705.83' '2675.00' '8555.00' '8729.17' '3934.17' '3845.83'\n",
      " '14132.50' '8588.33' '4505.00' '4918.33' '4928.33' '5538.33' '11100.00'\n",
      " '5572.50' '11560.00' '15870.83' '13345.83' '8010.83' '3588.33' '14205.00'\n",
      " '4222.50' '3076.67' '2342.59' '4789.17' '8685.00' '5289.17' '1956.67'\n",
      " '10408.33' '6683.33' '7452.50' '16060.00' '4647.50' '2242.50' '6169.17'\n",
      " '7352.50' '2982.50' '14815.83' '15177.50' '15991.67' '15989.17' '8340.00'\n",
      " '6656.67' '5902.50' '3935.83' '2839.17' '2440.83' '10025.83' '12855.83'\n",
      " '5135.00' '4271.67' '8015.83' '4175.00' '15860.83' '8666.67' '2327.50'\n",
      " '4728.33' '7010.00' '2790.00' '4424.17' '6378.33' '10673.33' '5488.33'\n",
      " '2099.17' '10933.33' '2609.17' '5561.67' '14884.17' '6205.00' '11464.17'\n",
      " '13831.67' '2557.50' '7700.83' '5393.33' '6934.17' '7148.33' '3497.50'\n",
      " '8240.00' '4730.83' '7938.33' '5687.50' '3686.67' '4534.17' '5061.67'\n",
      " '5143.33' '4670.83' '3599.17' '2970.00' '5217.50' '5670.00' '16196.67'\n",
      " '4856.67' '3901.67' '1765.83' '4978.33' '11010.00' '3375.83' '4004.17'\n",
      " '2284.17' '7861.67' '4496.67' '9299.17' '4133.33' '7327.50' '1846.67'\n",
      " '9760.83' '4420.00' '9252.50' '5526.67' '6322.50' '3612.50' '4983.33'\n",
      " '3536.67' '4356.67' '2250.00' '1971.67' '1940.83' '8604.17' '9037.50'\n",
      " '5320.83' '3050.00' '7283.33' '11249.17' '2909.17' '4350.00' '8543.33'\n",
      " '16450.00' '5174.17' '3778.33' '7083.33' '3865.83' '4469.17' '3400.83'\n",
      " '8994.17' '9042.50' '3654.17' '3388.33' '4338.33' '2212.50' '2141.67'\n",
      " '3751.67' '4140.00' '4289.17' '2265.00' '2949.17' '4556.67' '4844.17'\n",
      " '8055.83' '4729.17' '6095.00' '11308.33' '8325.83' '8540.00' '9115.00'\n",
      " '2160.83' '9898.33' '6745.83' '14046.67' '3780.83' '3345.00' '10618.33'\n",
      " '8735.00' '3540.83' '5457.50' '12009.17' '6864.17' '2675.83' '13920.00'\n",
      " '3806.67' '4994.17' '5415.83' '5330.83' '3018.33' '5228.33' '4573.33'\n",
      " '2095.00' '2663.33' '2850.00' '3405.83' '3500.00' '4171.67' '5418.33'\n",
      " '5290.83' '3796.67' '3525.00' '8967.50' '4336.67' '14499.17' '4295.83'\n",
      " '15657.50' '4069.17' '2496.67' '7731.67' '3468.33' '7377.50' '6463.33'\n",
      " '3324.17' '3085.00' '2254.17' '3706.67' '7448.33' '8280.00' '15616.67'\n",
      " '4560.83' '11252.50' '11290.83' '2311.67' '7865.83' '4387.50' '3179.17'\n",
      " '1990.83' '3333.33' '14653.33' '4717.50' '4057.50' '3874.17' '8746.67'\n",
      " '2840.00' '3548.33' '4570.83' '2318.33' '5240.00' '3495.00' '2110.00'\n",
      " '11438.33' '3422.50' '2997.50' '3429.17' '5226.67' '7670.00' '3644.17'\n",
      " '1720.00' '2025.00' '4064.17' '3133.33' '1677.50' '2305.00' '5427.50'\n",
      " '1855.00' '4634.17' '1786.67' '4477.50' '2414.17' '4434.17' '1667.50'\n",
      " '3670.00' '3286.67' '15789.17' '1678.33' '11386.67' '4184.17' '3949.17'\n",
      " '3597.50' '1686.67' '3274.17' '3687.50' '1940.00' '2214.17' '2185.00'\n",
      " '2676.67' '2425.83' '1813.33' '15554.17' '5341.67' '4117.50' '3319.17'\n",
      " '2420.00' '2246.67' '5629.17' '9137.50' '16171.67' '5448.33' '1881.67'\n",
      " '2211.67' '9945.83' '3245.00' '2000.00' '2872.50' '16260.83' '2215.83'\n",
      " '7372.50' '4042.50' '3814.17' '11475.00' '1914.17' '2041.67' '3618.33'\n",
      " '2143.33' '5416.67' '2624.17' '4436.67' '3651.67' '2127.50' '4944.17'\n",
      " '9111.67' '1685.00' '3546.67' '2983.33' '2415.83' '4635.00' '1980.83'\n",
      " '2332.50' '2876.67' '2342.50' '3647.50' '3533.33' '3522.50' '3264.17'\n",
      " '1701.67' '2350.83' '8297.50' '1839.17' '4775.83' '3781.67' '1733.33'\n",
      " '3253.33' '3855.83' '1918.33' '8830.00' '4555.83' '4807.50' '1995.00'\n",
      " '2690.83' '13685.00' '4705.83' '1721.67' '4571.67' '2635.00' '5542.50'\n",
      " '2424.17' '4081.67' '2650.00' '3390.83' '5326.67' '4045.83' '2760.00'\n",
      " '2150.00' '1805.00' '3645.00' '4587.50' '2155.83' '13310.00' '2860.83'\n",
      " '2897.50' '3255.83' '2870.83' '2300.00' '5245.00' '10930.00' '2992.50'\n",
      " '4504.17' '1754.17' '3251.67' '2218.33' '4589.17' '6752.50' '3315.00'\n",
      " '4499.17' '8706.67' '3700.00' '2216.67' '2812.50' '1890.83' '2340.83'\n",
      " '9045.00' '2142.50' '2849.17' '2084.17' '2138.33' '3266.67' '11636.67'\n",
      " '5450.00' '1870.00' '13486.67' '3527.50' '12345.00' '1931.67' '16030.83'\n",
      " '2126.67' '2231.67' '4898.33' '3439.17' '1790.00' '5555.83' '8103.33'\n",
      " '2823.33' '2531.67' '1935.00' '2438.33' '3754.17' '5560.83' '11325.83'\n",
      " '16264.17' '16001.67' '8373.33' '2269.17' '2634.17' '1183.33' '1000.00'\n",
      " '4365.00' '1975.00' '5650.83' '5544.17' '2063.33' '1904.17' '2873.33'\n",
      " '3798.33' '1418.33' '2136.67' '3150.00' '1950.00' '1772.50' '1694.17'\n",
      " '8001.67' '13855.83' '1735.83' '84083' '6550.83' '2201.67' '4267.50'\n",
      " '2245.00' '4245.00' '1928.33' '1673.33' '8793.33' '1882.50' '3469.17'\n",
      " '15252.50' '1983.33' '3980.83' '87667' '6125.83' '3971.67' '2377.50'\n",
      " '1755.83' '1841.67' '10992.50' '15220.83' '93167' '2365.00' '15050.83'\n",
      " '1342.50' '3973.33' '2003.33' '5323.33' '4034.17' '1728.33' '2476.67'\n",
      " '5679.17' '2241.67' '3489.17' '9069.17' '2385.00' '5612.50' '4411.67'\n",
      " '2030.83' '2463.33' '3873.33' '2336.67' '2032.50' '2380.00' '2444.17'\n",
      " '2385.83' '2381.67' '94083' '16192.50' '1923.33' '2115.83' '1980.00'\n",
      " '4295.00' '1811.67' '2119.17' '1848.33' '2045.83' '4380.83' '2528.33'\n",
      " '6993.33' '15990.83' '3578.33' '3705.83'] \n",
      "\n",
      "Valores únicos en 'salary':\n",
      "['195370.00' '199990.00' '192320.00' '171690.00' nan '100071.84'\n",
      " '53914.11' '165950.00' '199730.00' '134020.00' '132060.00' '195450.00'\n",
      " '180410.00' '192460.00' '107480.00' '167520.00' '62010.00' '198450.00'\n",
      " '40010.00' '104470.00' '191324.62' '160640.00' '32100.00' '102660.00'\n",
      " '104750.00' '61620.00' '47210.00' '153407.07' '28111.13' '46150.00'\n",
      " '169590.00' '54060.00' '59020.00' '108550.00' '59140.00' '66460.00'\n",
      " '139730.00' '66870.00' '47350.00' '138720.00' '190450.00' '96130.00'\n",
      " '115100.00' '170460.00' '36920.00' '198470.00' '23080.00' '57470.00'\n",
      " '104220.00' '63470.00' '23480.00' '30720.00' '124900.00' '80200.00'\n",
      " '170680.00' '89430.00' '192720.00' '55770.00' '26910.00' '74030.00'\n",
      " '88230.00' '35790.00' '177790.00' '182130.00' '135770.00' '191900.00'\n",
      " '171230.00' '191870.00' '79880.00' '70830.00' '34070.00' '29290.00'\n",
      " '120310.00' '154270.00' '51260.00' '96190.00' '190330.00' '104000.00'\n",
      " '56740.00' '191970.00' '84120.00' '33480.00' '53090.00' '76540.00'\n",
      " '128080.00' '65860.00' '25190.00' '170990.00' '131200.00' '44440.00'\n",
      " '98520.00' '178610.00' '137570.00' '165980.00' '42850.00' '101240.00'\n",
      " '97140.00' '99240.00' '112450.00' '92410.00' '64720.00' '30550.00'\n",
      " '83210.00' '31430.00' '85780.00' '98880.00' '133410.00' '29090.00'\n",
      " '95260.00' '44240.00' '60740.00' '61460.00' '61720.00' '46680.00'\n",
      " '56050.00' '43190.00' '35640.00' '62610.00' '68040.00' '194360.00'\n",
      " '24550.00' '50550.00' '52570.00' '59740.00' '30340.00' '83920.00'\n",
      " '40510.00' '48050.00' '53370.00' '94340.00' '53960.00' '111590.00'\n",
      " '87930.00' '191890.00' '22160.00' '117130.00' '53040.00' '111030.00'\n",
      " '66320.00' '75870.00' '43350.00' '59800.00' '52280.00' '27000.00'\n",
      " '23660.00' '23290.00' '42940.00' '67250.00' '103250.00' '44470.00'\n",
      " '108450.00' '54720.00' '63850.00' '75250.00' '87400.00' '134990.00'\n",
      " '34910.00' '102520.00' '197400.00' '62090.00' '70940.00' '45340.00'\n",
      " '85000.00' '46390.00' '53630.00' '40810.00' '35780.00' '173280.00'\n",
      " '107930.00' '108510.00' '104660.00' '23620.00' '64390.00' '57690.00'\n",
      " '40660.00' '52060.00' '25700.00' '45020.00' '49680.00' '51470.00'\n",
      " '27180.00' '54680.00' '96670.00' '51540.00' '56750.00' '73140.00'\n",
      " '50980.00' '135700.00' '67120.00' '99910.00' '102480.00' '25930.00'\n",
      " '80950.00' '168560.00' '45370.00' '179240.00' '40140.00' '127420.00'\n",
      " '33760.00' '104820.00' '42490.00' '195860.00' '82370.00' '47740.00'\n",
      " '45680.00' '59930.00' '64990.00' '34520.00' '63970.00' '27250.00'\n",
      " '36220.00' '61800.00' '62740.00' '43810.00' '25590.00' '54880.00'\n",
      " '25140.00' '31960.00' '34200.00' '53680.00' '129360.00' '42210.00'\n",
      " '49630.00' '76390.00' '135250.00' '63800.00' '31020.00' '45560.00'\n",
      " '42300.00' '48590.00' '63220.00' '107610.00' '29730.00' '52040.00'\n",
      " '173990.00' '168850.00' '43230.00' '51550.00' '29360.00' '187890.00'\n",
      " '48830.00' '20290.00' '29960.00' '92780.00' '88530.00' '48760.00'\n",
      " '21410.00' '39360.00' '68420.00' '39890.00' '49300.00' '27050.00'\n",
      " '44480.00' '23790.00' '54870.00' '28100.00' '89380.00' '99360.00'\n",
      " '54540.00' '54730.00' '135030.00' '135490.00' '181720.00' '27740.00'\n",
      " '94390.00' '52650.00' '38150.00' '23890.00' '175840.00' '48690.00'\n",
      " '46490.00' '104960.00' '27680.00' '34080.00' '37550.00' '21870.00'\n",
      " '42580.00' '53260.00' '27820.00' '176390.00' '60620.00' '62880.00'\n",
      " '34240.00' '41940.00' '25320.00' '56660.00' '137260.00' '41070.00'\n",
      " '35970.00' '41150.00' '62720.00' '25170.00' '39040.00' '92040.00'\n",
      " '43730.00' '20640.00' '24300.00' '48770.00' '37600.00' '29740.00'\n",
      " '27660.00' '33770.00' '42130.00' '65130.00' '42840.00' '22260.00'\n",
      " '55610.00' '53730.00' '28970.00' '54100.00' '48500.00' '39440.00'\n",
      " '29600.00' '189470.00' '64650.00' '26830.00' '20140.00' '34410.00'\n",
      " '136640.00' '50210.00' '188440.00' '106500.00' '43170.00' '20240.00'\n",
      " '30580.00' '39290.00' '44250.00' '23280.00' '59400.00' '26220.00'\n",
      " '32120.00' '29110.00' '69310.00' '21760.00' '32300.00' '186650.00'\n",
      " '27890.00' '64100.00' '49410.00' '39830.00' '29040.00' '21740.00'\n",
      " '26570.00' '109650.00' '25430.00' '194060.00' '65380.00' '22180.00'\n",
      " '26540.00' '119350.00' '25460.00' '38940.00' '42620.00' '105270.00'\n",
      " '36810.00' '34470.00' '88470.00' '20450.00' '48510.00' '81200.00'\n",
      " '45770.00' '54050.00' '37080.00' '137700.00' '24500.00' '43420.00'\n",
      " '31490.00' '53240.00' '43820.00' '25530.00' '59330.00' '44030.00'\n",
      " '109340.00' '20220.00' '42560.00' '28990.00' '23770.00' '24040.00'\n",
      " '27990.00' '28110.00' '43770.00' '42270.00' '39170.00' '49690.00'\n",
      " '20420.00' '22070.00' '20700.00' '27910.00' '82240.00' '26100.00'\n",
      " '57310.00' '25390.00' '23760.00' '190810.00' '27430.00' '45380.00'\n",
      " '38670.00' '20800.00' '20960.00' '46270.00' '23020.00' '50710.00'\n",
      " '54670.00' '23940.00' '36290.00' '93620.00' '32290.00' '164220.00'\n",
      " '44000.00' '20660.00' '66510.00' '48980.00' '31800.00' '112440.00'\n",
      " '63920.00' '33120.00' '31170.00' '152020.00' '25800.00' '21660.00'\n",
      " '43740.00' '55050.00' '159720.00' '23050.00' '34770.00' '39070.00'\n",
      " '34450.00' '27600.00' '62940.00' '21050.00' '39020.00' '20620.00'\n",
      " '25870.00' '55070.00' '81030.00' '39780.00' '53990.00' '44400.00'\n",
      " '26600.00' '33750.00' '22690.00' '47870.00' '28090.00' '25710.00'\n",
      " '61420.00' '24960.00' '34190.00' '25010.00' '39200.00' '65400.00'\n",
      " '161840.00' '171590.00' '36170.00' '26840.00' '192370.00' '44220.00'\n",
      " '26780.00' '51710.00' '119160.00' '93800.00' '24680.00' '41270.00'\n",
      " '21480.00' '38860.00' '20900.00' '20860.00' '19510.00' '30220.00'\n",
      " '97240.00' '33880.00' '23220.00' '45050.00' '28350.00' '65530.00'\n",
      " '66730.00' '135910.00' '21770.00' '195170.00' '192020.00' '100480.00'\n",
      " '27230.00' '66440.00' '31610.00' '12000.00' '52380.00' '99850.00'\n",
      " '159920.00' '23700.00' '67810.00' '28510.00' '52580.00' '22850.00'\n",
      " '41970.00' '45580.00' '17020.00' '25640.00' '50700.00' '37800.00'\n",
      " '98240.00' '18780.00' '21270.00' '20330.00' '96020.00' '166270.00'\n",
      " '20830.00' '10090.00' '78610.00' '26420.00' '51210.00' '26940.00'\n",
      " '50940.00' '22740.00' '23140.00' '23800.00' '20080.00' '105520.00'\n",
      " '22590.00' '24130.00' '21210.00' '24790.00' '131940.00' '26000.00'\n",
      " '183030.00' '47770.00' '10520.00' '24610.00' '25960.00' '47280.00'\n",
      " '73510.00' '47660.00' '22580.00' '28270.00' '28530.00' '22900.00'\n",
      " '21070.00' '22100.00' '131910.00' '182650.00' '23720.00' '28380.00'\n",
      " '180610.00' '16110.00' '47680.00' '12740.00' '25610.00' '15630.00'\n",
      " '83760.00' '48410.00' '29720.00' '68150.00' '175670.00' '15690.00'\n",
      " '41870.00' '33060.00' '13930.00' '108830.00' '67350.00' '97560.00'\n",
      " '52940.00' '24370.00' '40710.00' '29560.00' '46480.00' '28040.00'\n",
      " '24390.00' '29330.00' '10910.00' '51510.00' '28630.00' '11290.00'\n",
      " '194310.00' '21440.00' '160150.00' '43060.00' '28210.00' '35390.00'\n",
      " '58130.00' '26960.00' '67550.00' '58280.00' '132120.00' '27410.00'\n",
      " '49600.00' '42440.00'] \n",
      "\n",
      "Valores únicos en 'remotework':\n",
      "['yes' '1' 'false' '0' 'true'] \n",
      "\n"
     ]
    }
   ],
   "source": [
    "for col in columnas:\n",
    "    print(f\"Valores únicos en '{col}':\")\n",
    "    print(df[col].unique(), \"\\n\")"
   ]
  },
  {
   "cell_type": "markdown",
   "metadata": {},
   "source": [
    "### Amplío las transformaciones a realizar según cada output de la columna específca tras la transformación general"
   ]
  },
  {
   "cell_type": "markdown",
   "metadata": {},
   "source": [
    "### Valores únicos en 'overtime':\n",
    "['no' nan 'yes'] "
   ]
  },
  {
   "cell_type": "code",
   "execution_count": 101,
   "metadata": {},
   "outputs": [
    {
     "data": {
      "text/plain": [
       "696"
      ]
     },
     "execution_count": 101,
     "metadata": {},
     "output_type": "execute_result"
    }
   ],
   "source": [
    "df['overtime'].isnull().sum()"
   ]
  },
  {
   "cell_type": "code",
   "execution_count": 102,
   "metadata": {},
   "outputs": [],
   "source": [
    "df['overtime'] = df['overtime'].fillna('none')"
   ]
  },
  {
   "cell_type": "code",
   "execution_count": 103,
   "metadata": {},
   "outputs": [
    {
     "data": {
      "text/plain": [
       "overtime\n",
       "no      714\n",
       "none    696\n",
       "yes     268\n",
       "Name: count, dtype: int64"
      ]
     },
     "execution_count": 103,
     "metadata": {},
     "output_type": "execute_result"
    }
   ],
   "source": [
    "df['overtime'].value_counts()"
   ]
  },
  {
   "cell_type": "markdown",
   "metadata": {},
   "source": [
    "### Valores únicos en 'performancerating':\n",
    "[ 3.  4. nan] "
   ]
  },
  {
   "cell_type": "code",
   "execution_count": 22,
   "metadata": {},
   "outputs": [
    {
     "data": {
      "text/plain": [
       "200"
      ]
     },
     "execution_count": 22,
     "metadata": {},
     "output_type": "execute_result"
    }
   ],
   "source": [
    "df['performancerating'].isnull().sum()"
   ]
  },
  {
   "cell_type": "code",
   "execution_count": 105,
   "metadata": {},
   "outputs": [
    {
     "name": "stdout",
     "output_type": "stream",
     "text": [
      "<class 'pandas.core.series.Series'>\n",
      "Index: 1678 entries, 0 to 1677\n",
      "Series name: performancerating\n",
      "Non-Null Count  Dtype \n",
      "--------------  ----- \n",
      "1478 non-null   object\n",
      "dtypes: object(1)\n",
      "memory usage: 26.2+ KB\n"
     ]
    }
   ],
   "source": [
    "df['performancerating'].info()"
   ]
  },
  {
   "cell_type": "code",
   "execution_count": 106,
   "metadata": {},
   "outputs": [
    {
     "name": "stdout",
     "output_type": "stream",
     "text": [
      "11.918951132300357\n"
     ]
    }
   ],
   "source": [
    "porcentaje_nulos = (df['performancerating'].isnull().sum()/len(df))*100\n",
    "print(porcentaje_nulos)"
   ]
  },
  {
   "cell_type": "markdown",
   "metadata": {},
   "source": [
    "Dadao el procentaje obtenido de nulos, sustituimos los valores nulos por el dato de la media de la columna"
   ]
  },
  {
   "cell_type": "code",
   "execution_count": 107,
   "metadata": {},
   "outputs": [],
   "source": [
    "df['performancerating'] = pd.to_numeric(df['performancerating'], errors='coerce')\n",
    "\n",
    "# Ahora calculamos la media de la columna, ignorando los valores nulos\n",
    "media_value = int(df['performancerating'].mean())\n",
    "\n",
    "# Rellenamos los valores nulos con la media\n",
    "df['performancerating'] = df['performancerating'].fillna(media_value)"
   ]
  },
  {
   "cell_type": "code",
   "execution_count": 108,
   "metadata": {},
   "outputs": [],
   "source": [
    "df['performancerating'] = df['performancerating'].astype(int)"
   ]
  },
  {
   "cell_type": "code",
   "execution_count": 115,
   "metadata": {},
   "outputs": [
    {
     "data": {
      "text/plain": [
       "717     3\n",
       "452     3\n",
       "285     3\n",
       "1390    3\n",
       "763     3\n",
       "163     4\n",
       "1494    3\n",
       "38      3\n",
       "1530    3\n",
       "116     3\n",
       "1073    3\n",
       "1291    3\n",
       "250     3\n",
       "18      3\n",
       "539     4\n",
       "Name: performancerating, dtype: int64"
      ]
     },
     "execution_count": 115,
     "metadata": {},
     "output_type": "execute_result"
    }
   ],
   "source": [
    "df['performancerating'].sample(15)"
   ]
  },
  {
   "cell_type": "markdown",
   "metadata": {},
   "source": [
    "### Valores únicos en 'standardhours':\n",
    "['full time' None 'part time'] "
   ]
  },
  {
   "cell_type": "code",
   "execution_count": 116,
   "metadata": {},
   "outputs": [],
   "source": [
    "df['standardhours']= df['standardhours'].str.replace(' ','_')"
   ]
  },
  {
   "cell_type": "code",
   "execution_count": 117,
   "metadata": {},
   "outputs": [],
   "source": [
    "df['standardhours']= df['standardhours'].fillna('none')"
   ]
  },
  {
   "cell_type": "code",
   "execution_count": 119,
   "metadata": {},
   "outputs": [
    {
     "data": {
      "text/plain": [
       "1542    part_time\n",
       "304     part_time\n",
       "1413    full_time\n",
       "1601    part_time\n",
       "1359         none\n",
       "610     part_time\n",
       "1007    part_time\n",
       "1275    full_time\n",
       "852     part_time\n",
       "492     part_time\n",
       "889     part_time\n",
       "434     full_time\n",
       "690     part_time\n",
       "1185         none\n",
       "344     full_time\n",
       "Name: standardhours, dtype: object"
      ]
     },
     "execution_count": 119,
     "metadata": {},
     "output_type": "execute_result"
    }
   ],
   "source": [
    "df['standardhours'].sample(15)"
   ]
  },
  {
   "cell_type": "markdown",
   "metadata": {},
   "source": [
    "### Valores únicos en 'totalworkingyears':\n"
   ]
  },
  {
   "cell_type": "code",
   "execution_count": 120,
   "metadata": {},
   "outputs": [
    {
     "data": {
      "text/plain": [
       "549"
      ]
     },
     "execution_count": 120,
     "metadata": {},
     "output_type": "execute_result"
    }
   ],
   "source": [
    "df['totalworkingyears'].isnull().sum()"
   ]
  },
  {
   "cell_type": "code",
   "execution_count": 121,
   "metadata": {},
   "outputs": [
    {
     "name": "stdout",
     "output_type": "stream",
     "text": [
      "<class 'pandas.core.series.Series'>\n",
      "Index: 1678 entries, 0 to 1677\n",
      "Series name: totalworkingyears\n",
      "Non-Null Count  Dtype \n",
      "--------------  ----- \n",
      "1129 non-null   object\n",
      "dtypes: object(1)\n",
      "memory usage: 26.2+ KB\n"
     ]
    }
   ],
   "source": [
    "df['totalworkingyears'].info()"
   ]
  },
  {
   "cell_type": "code",
   "execution_count": 122,
   "metadata": {},
   "outputs": [],
   "source": [
    "porcentaje_nulos2= (df['totalworkingyears'].isnull().sum()/len(df))*100"
   ]
  },
  {
   "cell_type": "code",
   "execution_count": 123,
   "metadata": {},
   "outputs": [
    {
     "data": {
      "text/plain": [
       "32.717520858164484"
      ]
     },
     "execution_count": 123,
     "metadata": {},
     "output_type": "execute_result"
    }
   ],
   "source": [
    "porcentaje_nulos2"
   ]
  },
  {
   "cell_type": "markdown",
   "metadata": {},
   "source": [
    "ESTE DATO ES IMPORTANTE PARA NUESTRO ANÁLISIS Y POR ELLO OPTAMOS POR APLICAR LA LA MEDIANA TENIENDO EN CUENTA EL 33% DE NULOS QUE TENEMOS. "
   ]
  },
  {
   "cell_type": "code",
   "execution_count": 124,
   "metadata": {},
   "outputs": [],
   "source": [
    "# Convertir la columna 'totalworkingyears' a valores numéricos, forzando la conversión de errores a NaN\n",
    "df['totalworkingyears'] = pd.to_numeric(df['totalworkingyears'], errors='coerce')\n",
    "\n",
    "# Ahora calculamos la media de la columna, ignorando los valores nulos\n",
    "mean_value = int(df['totalworkingyears'].mean())\n",
    "\n",
    "# Rellenamos los valores nulos con la media\n",
    "df['totalworkingyears'] = df['totalworkingyears'].fillna(mean_value)\n"
   ]
  },
  {
   "cell_type": "code",
   "execution_count": 130,
   "metadata": {},
   "outputs": [
    {
     "data": {
      "text/plain": [
       "953      4.0\n",
       "860     11.0\n",
       "930     10.0\n",
       "1295    10.0\n",
       "27      18.0\n",
       "276     11.0\n",
       "994     23.0\n",
       "736      7.0\n",
       "1085    11.0\n",
       "204     10.0\n",
       "637     15.0\n",
       "102     11.0\n",
       "425     11.0\n",
       "997     11.0\n",
       "1513    11.0\n",
       "Name: totalworkingyears, dtype: float64"
      ]
     },
     "execution_count": 130,
     "metadata": {},
     "output_type": "execute_result"
    }
   ],
   "source": [
    "df['totalworkingyears'].sample(15)"
   ]
  },
  {
   "cell_type": "code",
   "execution_count": 131,
   "metadata": {},
   "outputs": [],
   "source": [
    "df['totalworkingyears']=df['totalworkingyears'].astype(int)"
   ]
  },
  {
   "cell_type": "code",
   "execution_count": 139,
   "metadata": {},
   "outputs": [
    {
     "data": {
      "text/plain": [
       "1016     3\n",
       "221     11\n",
       "547     11\n",
       "670     16\n",
       "562      6\n",
       "204     10\n",
       "887      5\n",
       "1659    11\n",
       "868     11\n",
       "1379    23\n",
       "1053     7\n",
       "520     24\n",
       "1567    14\n",
       "1219     6\n",
       "420     21\n",
       "Name: totalworkingyears, dtype: int64"
      ]
     },
     "execution_count": 139,
     "metadata": {},
     "output_type": "execute_result"
    }
   ],
   "source": [
    "df['totalworkingyears'].sample(15)"
   ]
  },
  {
   "cell_type": "markdown",
   "metadata": {},
   "source": [
    "### Valores únicos en 'worklifebalance':\n",
    "['3,0' nan '2,0' '4,0' '1,0'] "
   ]
  },
  {
   "cell_type": "code",
   "execution_count": 140,
   "metadata": {},
   "outputs": [
    {
     "data": {
      "text/plain": [
       "worklifebalance\n",
       "3.0    946\n",
       "2.0    374\n",
       "4.0    162\n",
       "1.0     82\n",
       "Name: count, dtype: int64"
      ]
     },
     "execution_count": 140,
     "metadata": {},
     "output_type": "execute_result"
    }
   ],
   "source": [
    "df['worklifebalance'].value_counts()"
   ]
  },
  {
   "cell_type": "code",
   "execution_count": 141,
   "metadata": {},
   "outputs": [
    {
     "data": {
      "text/plain": [
       "114"
      ]
     },
     "execution_count": 141,
     "metadata": {},
     "output_type": "execute_result"
    }
   ],
   "source": [
    "df['worklifebalance'].isnull().sum()"
   ]
  },
  {
   "cell_type": "code",
   "execution_count": 142,
   "metadata": {},
   "outputs": [
    {
     "data": {
      "text/plain": [
       "6.793802145411204"
      ]
     },
     "execution_count": 142,
     "metadata": {},
     "output_type": "execute_result"
    }
   ],
   "source": [
    "porcentaje = (df['worklifebalance'].isnull().sum()/len(df))*100\n",
    "porcentaje"
   ]
  },
  {
   "cell_type": "markdown",
   "metadata": {},
   "source": [
    "El porcentaje obtenido es muy pequeño, cambiamos los valores nulos por la media"
   ]
  },
  {
   "cell_type": "code",
   "execution_count": 143,
   "metadata": {},
   "outputs": [],
   "source": [
    "# Convertir la columna a valores numéricos, forzando la conversión de errores a NaN\n",
    "df['worklifebalance'] = pd.to_numeric(df['worklifebalance'], errors='coerce')\n",
    "\n",
    "# Ahora calculamos la media de la columna, ignorando los valores nulos\n",
    "mean_value = int(df['worklifebalance'].mean())\n",
    "\n",
    "# Rellenamos los valores nulos con la media\n",
    "df['worklifebalance'] = df['worklifebalance'].fillna(mean_value)\n"
   ]
  },
  {
   "cell_type": "code",
   "execution_count": 146,
   "metadata": {},
   "outputs": [
    {
     "data": {
      "text/plain": [
       "210     2.0\n",
       "615     2.0\n",
       "2       2.0\n",
       "52      2.0\n",
       "922     3.0\n",
       "878     2.0\n",
       "1436    3.0\n",
       "1234    3.0\n",
       "1241    3.0\n",
       "556     3.0\n",
       "1133    3.0\n",
       "255     2.0\n",
       "1517    3.0\n",
       "1097    3.0\n",
       "747     2.0\n",
       "Name: worklifebalance, dtype: float64"
      ]
     },
     "execution_count": 146,
     "metadata": {},
     "output_type": "execute_result"
    }
   ],
   "source": [
    "df['worklifebalance'].sample(15)"
   ]
  },
  {
   "cell_type": "code",
   "execution_count": 147,
   "metadata": {},
   "outputs": [],
   "source": [
    "df['worklifebalance']=df['worklifebalance'].astype(int)"
   ]
  },
  {
   "cell_type": "code",
   "execution_count": 148,
   "metadata": {},
   "outputs": [
    {
     "data": {
      "text/plain": [
       "worklifebalance\n",
       "3    946\n",
       "2    488\n",
       "4    162\n",
       "1     82\n",
       "Name: count, dtype: int64"
      ]
     },
     "execution_count": 148,
     "metadata": {},
     "output_type": "execute_result"
    }
   ],
   "source": [
    "df['worklifebalance'].value_counts()"
   ]
  },
  {
   "cell_type": "markdown",
   "metadata": {},
   "source": [
    "### Valores únicos en 'sameasmonthlyincome':\n",
    "['16280.83' None '14307.50' '12783.92' '14311.67' '8339.32' '13829.17'\n",
    " '15943.72' '16644.17' '15034.17' '16038.33' '4492.84' '8956.67' '5167.50'\n",
    " '3334.17' '8705.83' '2675.00' '8555.00'"
   ]
  },
  {
   "cell_type": "code",
   "execution_count": 149,
   "metadata": {},
   "outputs": [
    {
     "name": "stdout",
     "output_type": "stream",
     "text": [
      "<class 'pandas.core.series.Series'>\n",
      "Index: 1678 entries, 0 to 1677\n",
      "Series name: sameasmonthlyincome\n",
      "Non-Null Count  Dtype \n",
      "--------------  ----- \n",
      "1189 non-null   object\n",
      "dtypes: object(1)\n",
      "memory usage: 26.2+ KB\n"
     ]
    }
   ],
   "source": [
    "df['sameasmonthlyincome'].info()"
   ]
  },
  {
   "cell_type": "code",
   "execution_count": 150,
   "metadata": {},
   "outputs": [
    {
     "data": {
      "text/plain": [
       "489"
      ]
     },
     "execution_count": 150,
     "metadata": {},
     "output_type": "execute_result"
    }
   ],
   "source": [
    "df['sameasmonthlyincome'].isnull().sum()"
   ]
  },
  {
   "cell_type": "code",
   "execution_count": 151,
   "metadata": {},
   "outputs": [
    {
     "data": {
      "text/plain": [
       "29.141835518474373"
      ]
     },
     "execution_count": 151,
     "metadata": {},
     "output_type": "execute_result"
    }
   ],
   "source": [
    "porcentaje= (df['sameasmonthlyincome'].isnull().sum()/len(df))*100\n",
    "porcentaje"
   ]
  },
  {
   "cell_type": "markdown",
   "metadata": {},
   "source": [
    "Optamos por utilizar la mediana ya que el porcentaje de nulos es del 30%"
   ]
  },
  {
   "cell_type": "code",
   "execution_count": 152,
   "metadata": {},
   "outputs": [],
   "source": [
    "df['sameasmonthlyincome'] = pd.to_numeric(df['sameasmonthlyincome'], errors='coerce')\n",
    "\n",
    "# Ahora calculamos la media de la columna, ignorando los valores nulos\n",
    "median_value = int(df['sameasmonthlyincome'].median())\n",
    "\n",
    "# Rellenamos los valores nulos con la media\n",
    "df['sameasmonthlyincome'] = df['sameasmonthlyincome'].fillna(median_value)"
   ]
  },
  {
   "cell_type": "code",
   "execution_count": 154,
   "metadata": {},
   "outputs": [
    {
     "data": {
      "text/plain": [
       "956     9111.67\n",
       "737     3429.17\n",
       "25      4492.00\n",
       "375     4492.00\n",
       "1172    4492.00\n",
       "1076    4492.84\n",
       "1237    4492.00\n",
       "1195    4492.84\n",
       "612     4492.00\n",
       "1586    7327.50\n",
       "1243    2823.33\n",
       "1518    4492.00\n",
       "1593    6322.50\n",
       "844     1940.00\n",
       "127     4492.84\n",
       "Name: sameasmonthlyincome, dtype: float64"
      ]
     },
     "execution_count": 154,
     "metadata": {},
     "output_type": "execute_result"
    }
   ],
   "source": [
    "df['sameasmonthlyincome'].sample(15)"
   ]
  },
  {
   "cell_type": "code",
   "execution_count": 155,
   "metadata": {},
   "outputs": [],
   "source": [
    "df['sameasmonthlyincome']=df['sameasmonthlyincome'].astype(float)"
   ]
  },
  {
   "cell_type": "code",
   "execution_count": 156,
   "metadata": {},
   "outputs": [
    {
     "name": "stdout",
     "output_type": "stream",
     "text": [
      "<class 'pandas.core.series.Series'>\n",
      "Index: 1678 entries, 0 to 1677\n",
      "Series name: sameasmonthlyincome\n",
      "Non-Null Count  Dtype  \n",
      "--------------  -----  \n",
      "1678 non-null   float64\n",
      "dtypes: float64(1)\n",
      "memory usage: 26.2 KB\n"
     ]
    }
   ],
   "source": [
    "df['sameasmonthlyincome'].info()"
   ]
  },
  {
   "cell_type": "markdown",
   "metadata": {},
   "source": [
    "### Valores únicos en 'salary':\n",
    "['195370.00' '199990.00' '192320.00' '171690.00' None '100071.84'\n",
    " '53914.11' '165950.00' '199730.00'"
   ]
  },
  {
   "cell_type": "code",
   "execution_count": 157,
   "metadata": {},
   "outputs": [
    {
     "name": "stdout",
     "output_type": "stream",
     "text": [
      "<class 'pandas.core.series.Series'>\n",
      "Index: 1678 entries, 0 to 1677\n",
      "Series name: salary\n",
      "Non-Null Count  Dtype \n",
      "--------------  ----- \n",
      "1393 non-null   object\n",
      "dtypes: object(1)\n",
      "memory usage: 26.2+ KB\n"
     ]
    }
   ],
   "source": [
    "df['salary'].info()"
   ]
  },
  {
   "cell_type": "code",
   "execution_count": 158,
   "metadata": {},
   "outputs": [
    {
     "data": {
      "text/plain": [
       "285"
      ]
     },
     "execution_count": 158,
     "metadata": {},
     "output_type": "execute_result"
    }
   ],
   "source": [
    "df['salary'].isnull().sum()"
   ]
  },
  {
   "cell_type": "code",
   "execution_count": 159,
   "metadata": {},
   "outputs": [
    {
     "data": {
      "text/plain": [
       "16.98450536352801"
      ]
     },
     "execution_count": 159,
     "metadata": {},
     "output_type": "execute_result"
    }
   ],
   "source": [
    "porcentaje = (df['salary'].isnull().sum()/len(df))*100\n",
    "porcentaje"
   ]
  },
  {
   "cell_type": "markdown",
   "metadata": {},
   "source": [
    "Dado el bajo porcentaje de nulos aplicamos la media para sustituirlos"
   ]
  },
  {
   "cell_type": "code",
   "execution_count": 160,
   "metadata": {},
   "outputs": [],
   "source": [
    "df['salary'] = pd.to_numeric(df['salary'], errors='coerce')\n",
    "\n",
    "# Ahora calculamos la media de la columna, ignorando los valores nulos\n",
    "media_value = int(df['salary'].mean())\n",
    "\n",
    "# Rellenamos los valores nulos con la media\n",
    "df['salary'] = df['salary'].fillna(media_value)"
   ]
  },
  {
   "cell_type": "code",
   "execution_count": 167,
   "metadata": {},
   "outputs": [
    {
     "data": {
      "text/plain": [
       "256      53914.11\n",
       "1226     20900.00\n",
       "1144     39780.00\n",
       "1503     53914.11\n",
       "978      28111.13\n",
       "1405     83760.00\n",
       "294     191324.62\n",
       "1525     28111.13\n",
       "1651     64990.00\n",
       "155      53914.11\n",
       "672     153407.07\n",
       "783      28970.00\n",
       "562      28111.13\n",
       "500     179240.00\n",
       "2       192320.00\n",
       "Name: salary, dtype: float64"
      ]
     },
     "execution_count": 167,
     "metadata": {},
     "output_type": "execute_result"
    }
   ],
   "source": [
    "df['salary'].sample(15)"
   ]
  },
  {
   "cell_type": "code",
   "execution_count": 168,
   "metadata": {},
   "outputs": [],
   "source": [
    "df['salary']=df['salary'].astype(float)"
   ]
  },
  {
   "cell_type": "code",
   "execution_count": 169,
   "metadata": {},
   "outputs": [
    {
     "name": "stdout",
     "output_type": "stream",
     "text": [
      "<class 'pandas.core.series.Series'>\n",
      "Index: 1678 entries, 0 to 1677\n",
      "Series name: salary\n",
      "Non-Null Count  Dtype  \n",
      "--------------  -----  \n",
      "1678 non-null   float64\n",
      "dtypes: float64(1)\n",
      "memory usage: 26.2 KB\n"
     ]
    }
   ],
   "source": [
    "df['salary'].info()"
   ]
  },
  {
   "cell_type": "markdown",
   "metadata": {},
   "source": [
    "### Valores únicos en 'remotework':\n",
    "['yes' '1' 'false' '0' 'true'] "
   ]
  },
  {
   "cell_type": "code",
   "execution_count": 170,
   "metadata": {},
   "outputs": [],
   "source": [
    "df['remotework'] = df['remotework'].str.replace('1','yes')\n",
    "df['remotework'] = df['remotework'].str.replace('true','yes')\n",
    "df['remotework'] = df['remotework'].str.replace('0','no')\n",
    "df['remotework'] = df['remotework'].str.replace('false','no')"
   ]
  },
  {
   "cell_type": "code",
   "execution_count": 171,
   "metadata": {},
   "outputs": [
    {
     "data": {
      "text/plain": [
       "remotework\n",
       "yes    1042\n",
       "no      636\n",
       "Name: count, dtype: int64"
      ]
     },
     "execution_count": 171,
     "metadata": {},
     "output_type": "execute_result"
    }
   ],
   "source": [
    "df['remotework'].value_counts()"
   ]
  },
  {
   "cell_type": "code",
   "execution_count": 172,
   "metadata": {},
   "outputs": [
    {
     "data": {
      "text/plain": [
       "0"
      ]
     },
     "execution_count": 172,
     "metadata": {},
     "output_type": "execute_result"
    }
   ],
   "source": [
    "df['remotework'].isnull().sum()"
   ]
  },
  {
   "cell_type": "markdown",
   "metadata": {},
   "source": [
    "### Columnas finales tras limpieza realizada"
   ]
  },
  {
   "cell_type": "code",
   "execution_count": 173,
   "metadata": {},
   "outputs": [
    {
     "data": {
      "text/html": [
       "<div>\n",
       "<style scoped>\n",
       "    .dataframe tbody tr th:only-of-type {\n",
       "        vertical-align: middle;\n",
       "    }\n",
       "\n",
       "    .dataframe tbody tr th {\n",
       "        vertical-align: top;\n",
       "    }\n",
       "\n",
       "    .dataframe thead th {\n",
       "        text-align: right;\n",
       "    }\n",
       "</style>\n",
       "<table border=\"1\" class=\"dataframe\">\n",
       "  <thead>\n",
       "    <tr style=\"text-align: right;\">\n",
       "      <th></th>\n",
       "      <th>overtime</th>\n",
       "      <th>performancerating</th>\n",
       "      <th>standardhours</th>\n",
       "      <th>totalworkingyears</th>\n",
       "      <th>worklifebalance</th>\n",
       "      <th>sameasmonthlyincome</th>\n",
       "      <th>salary</th>\n",
       "      <th>remotework</th>\n",
       "    </tr>\n",
       "  </thead>\n",
       "  <tbody>\n",
       "    <tr>\n",
       "      <th>348</th>\n",
       "      <td>no</td>\n",
       "      <td>3</td>\n",
       "      <td>full_time</td>\n",
       "      <td>30</td>\n",
       "      <td>2</td>\n",
       "      <td>9252.50</td>\n",
       "      <td>111030.00</td>\n",
       "      <td>no</td>\n",
       "    </tr>\n",
       "    <tr>\n",
       "      <th>352</th>\n",
       "      <td>none</td>\n",
       "      <td>3</td>\n",
       "      <td>full_time</td>\n",
       "      <td>17</td>\n",
       "      <td>3</td>\n",
       "      <td>4983.33</td>\n",
       "      <td>59800.00</td>\n",
       "      <td>yes</td>\n",
       "    </tr>\n",
       "    <tr>\n",
       "      <th>920</th>\n",
       "      <td>none</td>\n",
       "      <td>3</td>\n",
       "      <td>full_time</td>\n",
       "      <td>11</td>\n",
       "      <td>3</td>\n",
       "      <td>2872.50</td>\n",
       "      <td>34470.00</td>\n",
       "      <td>yes</td>\n",
       "    </tr>\n",
       "    <tr>\n",
       "      <th>1646</th>\n",
       "      <td>none</td>\n",
       "      <td>3</td>\n",
       "      <td>part_time</td>\n",
       "      <td>1</td>\n",
       "      <td>3</td>\n",
       "      <td>4492.00</td>\n",
       "      <td>19510.00</td>\n",
       "      <td>yes</td>\n",
       "    </tr>\n",
       "    <tr>\n",
       "      <th>670</th>\n",
       "      <td>no</td>\n",
       "      <td>3</td>\n",
       "      <td>full_time</td>\n",
       "      <td>16</td>\n",
       "      <td>1</td>\n",
       "      <td>11290.83</td>\n",
       "      <td>135490.00</td>\n",
       "      <td>no</td>\n",
       "    </tr>\n",
       "    <tr>\n",
       "      <th>201</th>\n",
       "      <td>yes</td>\n",
       "      <td>3</td>\n",
       "      <td>full_time</td>\n",
       "      <td>11</td>\n",
       "      <td>3</td>\n",
       "      <td>2790.00</td>\n",
       "      <td>33480.00</td>\n",
       "      <td>no</td>\n",
       "    </tr>\n",
       "    <tr>\n",
       "      <th>1331</th>\n",
       "      <td>none</td>\n",
       "      <td>3</td>\n",
       "      <td>part_time</td>\n",
       "      <td>9</td>\n",
       "      <td>3</td>\n",
       "      <td>4492.00</td>\n",
       "      <td>53914.11</td>\n",
       "      <td>yes</td>\n",
       "    </tr>\n",
       "    <tr>\n",
       "      <th>1529</th>\n",
       "      <td>no</td>\n",
       "      <td>4</td>\n",
       "      <td>full_time</td>\n",
       "      <td>11</td>\n",
       "      <td>3</td>\n",
       "      <td>4492.00</td>\n",
       "      <td>109650.00</td>\n",
       "      <td>no</td>\n",
       "    </tr>\n",
       "    <tr>\n",
       "      <th>1279</th>\n",
       "      <td>no</td>\n",
       "      <td>3</td>\n",
       "      <td>part_time</td>\n",
       "      <td>0</td>\n",
       "      <td>3</td>\n",
       "      <td>1000.00</td>\n",
       "      <td>12000.00</td>\n",
       "      <td>no</td>\n",
       "    </tr>\n",
       "    <tr>\n",
       "      <th>1253</th>\n",
       "      <td>none</td>\n",
       "      <td>4</td>\n",
       "      <td>full_time</td>\n",
       "      <td>11</td>\n",
       "      <td>3</td>\n",
       "      <td>4492.00</td>\n",
       "      <td>28350.00</td>\n",
       "      <td>no</td>\n",
       "    </tr>\n",
       "    <tr>\n",
       "      <th>354</th>\n",
       "      <td>no</td>\n",
       "      <td>3</td>\n",
       "      <td>none</td>\n",
       "      <td>24</td>\n",
       "      <td>2</td>\n",
       "      <td>15943.72</td>\n",
       "      <td>65070.00</td>\n",
       "      <td>yes</td>\n",
       "    </tr>\n",
       "    <tr>\n",
       "      <th>491</th>\n",
       "      <td>none</td>\n",
       "      <td>3</td>\n",
       "      <td>none</td>\n",
       "      <td>12</td>\n",
       "      <td>3</td>\n",
       "      <td>9898.33</td>\n",
       "      <td>65070.00</td>\n",
       "      <td>yes</td>\n",
       "    </tr>\n",
       "    <tr>\n",
       "      <th>959</th>\n",
       "      <td>none</td>\n",
       "      <td>3</td>\n",
       "      <td>part_time</td>\n",
       "      <td>10</td>\n",
       "      <td>2</td>\n",
       "      <td>1685.00</td>\n",
       "      <td>20220.00</td>\n",
       "      <td>yes</td>\n",
       "    </tr>\n",
       "    <tr>\n",
       "      <th>940</th>\n",
       "      <td>yes</td>\n",
       "      <td>3</td>\n",
       "      <td>none</td>\n",
       "      <td>24</td>\n",
       "      <td>3</td>\n",
       "      <td>15943.72</td>\n",
       "      <td>65070.00</td>\n",
       "      <td>no</td>\n",
       "    </tr>\n",
       "    <tr>\n",
       "      <th>409</th>\n",
       "      <td>none</td>\n",
       "      <td>3</td>\n",
       "      <td>full_time</td>\n",
       "      <td>11</td>\n",
       "      <td>4</td>\n",
       "      <td>5174.17</td>\n",
       "      <td>62090.00</td>\n",
       "      <td>no</td>\n",
       "    </tr>\n",
       "  </tbody>\n",
       "</table>\n",
       "</div>"
      ],
      "text/plain": [
       "     overtime  performancerating standardhours  totalworkingyears  \\\n",
       "348        no                  3     full_time                 30   \n",
       "352      none                  3     full_time                 17   \n",
       "920      none                  3     full_time                 11   \n",
       "1646     none                  3     part_time                  1   \n",
       "670        no                  3     full_time                 16   \n",
       "201       yes                  3     full_time                 11   \n",
       "1331     none                  3     part_time                  9   \n",
       "1529       no                  4     full_time                 11   \n",
       "1279       no                  3     part_time                  0   \n",
       "1253     none                  4     full_time                 11   \n",
       "354        no                  3          none                 24   \n",
       "491      none                  3          none                 12   \n",
       "959      none                  3     part_time                 10   \n",
       "940       yes                  3          none                 24   \n",
       "409      none                  3     full_time                 11   \n",
       "\n",
       "      worklifebalance  sameasmonthlyincome     salary remotework  \n",
       "348                 2              9252.50  111030.00         no  \n",
       "352                 3              4983.33   59800.00        yes  \n",
       "920                 3              2872.50   34470.00        yes  \n",
       "1646                3              4492.00   19510.00        yes  \n",
       "670                 1             11290.83  135490.00         no  \n",
       "201                 3              2790.00   33480.00         no  \n",
       "1331                3              4492.00   53914.11        yes  \n",
       "1529                3              4492.00  109650.00         no  \n",
       "1279                3              1000.00   12000.00         no  \n",
       "1253                3              4492.00   28350.00         no  \n",
       "354                 2             15943.72   65070.00        yes  \n",
       "491                 3              9898.33   65070.00        yes  \n",
       "959                 2              1685.00   20220.00        yes  \n",
       "940                 3             15943.72   65070.00         no  \n",
       "409                 4              5174.17   62090.00         no  "
      ]
     },
     "execution_count": 173,
     "metadata": {},
     "output_type": "execute_result"
    }
   ],
   "source": [
    "df[columnas].sample(15)"
   ]
  },
  {
   "cell_type": "markdown",
   "metadata": {},
   "source": [
    "# CÓDIGO DE ISA"
   ]
  },
  {
   "cell_type": "code",
   "execution_count": 64,
   "metadata": {},
   "outputs": [
    {
     "data": {
      "text/plain": [
       "businesstravel          object\n",
       "educationfield          object\n",
       "maritalstatus           object\n",
       "overtime                object\n",
       "performancerating        int64\n",
       "hourlyrate             float64\n",
       "monthlyincome           object\n",
       "over18                  object\n",
       "standardhours           object\n",
       "worklifebalance          int64\n",
       "sameasmonthlyincome    float64\n",
       "salary                 float64\n",
       "totalworkingyears        int64\n",
       "dtype: object"
      ]
     },
     "execution_count": 64,
     "metadata": {},
     "output_type": "execute_result"
    }
   ],
   "source": [
    "df.dtypes[[\"businesstravel\", \"educationfield\",\"maritalstatus\" , \"overtime\", \"performancerating\" , \"hourlyrate\", \"monthlyincome\", \"over18\", \"standardhours\", \"worklifebalance\", \"sameasmonthlyincome\", \"salary\", \"totalworkingyears\"]]"
   ]
  },
  {
   "cell_type": "markdown",
   "metadata": {},
   "source": [
    "Cambiar datos NaN a Null: \n",
    "Chatgpt\n",
    "pd.notna(df[col]) es una función de Pandas que nos ayuda a identificar qué valores NO son NaN dentro de una columna. \n",
    "\n",
    "¿Qué hace pd.notna(df[col])?\n",
    "\n",
    "Esta función devuelve un array de valores True o False, donde:\n",
    "✅ True → Significa que el valor NO es NaN (es decir, hay un dato válido).\n",
    "❌ False → Significa que el valor ES NaN (es decir, falta información)."
   ]
  },
  {
   "cell_type": "code",
   "execution_count": 65,
   "metadata": {},
   "outputs": [],
   "source": [
    "#  transformar esta columna en formato INT.\n",
    "\n",
    "df[\"performancerating\"] = df[\"performancerating\"].astype(str).str.replace(\",\", \".\").astype(float)\n",
    "\n",
    "# .astype(str) -> Convierte todos los valores en texto.\n",
    "# .str.replace(\",\", \".\") -> Reemplaza las comas por puntos.\n",
    "# .astype(float) -> Convierte la columna a número"
   ]
  },
  {
   "cell_type": "code",
   "execution_count": 66,
   "metadata": {},
   "outputs": [
    {
     "data": {
      "text/plain": [
       "dtype('float64')"
      ]
     },
     "execution_count": 66,
     "metadata": {},
     "output_type": "execute_result"
    }
   ],
   "source": [
    "df[\"performancerating\"].dtype"
   ]
  },
  {
   "cell_type": "code",
   "execution_count": 67,
   "metadata": {},
   "outputs": [
    {
     "data": {
      "text/plain": [
       "0    3.0\n",
       "1    3.0\n",
       "2    3.0\n",
       "3    3.0\n",
       "4    3.0\n",
       "Name: performancerating, dtype: float64"
      ]
     },
     "execution_count": 67,
     "metadata": {},
     "output_type": "execute_result"
    }
   ],
   "source": [
    "df[\"performancerating\"].head()"
   ]
  },
  {
   "cell_type": "code",
   "execution_count": 68,
   "metadata": {},
   "outputs": [],
   "source": [
    "# para una sola columna seria:\n",
    "\n",
    "df[\"salary\"] = df[\"salary\"].where(pd.notna(df[\"salary\"]), None)\n",
    "\n",
    "# Explicación del código:\n",
    "#  pd.notna(df[\"salary\"]) detecta los valores no nulos (True) y los valores NaN (False).\n",
    "#  .where(pd.notna(df[\"salary\"]), None) mantiene los valores True (no NaN) y reemplaza los False (NaN) con None."
   ]
  },
  {
   "cell_type": "code",
   "execution_count": 69,
   "metadata": {},
   "outputs": [
    {
     "data": {
      "text/plain": [
       "0"
      ]
     },
     "execution_count": 69,
     "metadata": {},
     "output_type": "execute_result"
    }
   ],
   "source": [
    "df[\"salary\"].isnull().sum()"
   ]
  },
  {
   "cell_type": "code",
   "execution_count": 70,
   "metadata": {},
   "outputs": [
    {
     "data": {
      "text/plain": [
       "1093     21660.00\n",
       "1394     28111.13\n",
       "497     168560.00\n",
       "1270     27230.00\n",
       "1442     65070.00\n",
       "847      65070.00\n",
       "1073     65070.00\n",
       "1046     93620.00\n",
       "9        65070.00\n",
       "420     153407.07\n",
       "Name: salary, dtype: float64"
      ]
     },
     "execution_count": 70,
     "metadata": {},
     "output_type": "execute_result"
    }
   ],
   "source": [
    "# reviso la columna y ya esta cambiado NaN por None.\n",
    "\n",
    "df[\"salary\"].sample(10)"
   ]
  },
  {
   "cell_type": "code",
   "execution_count": 71,
   "metadata": {},
   "outputs": [],
   "source": [
    "# Voy a cambiar los datos NaN que dan error en SQL por None en las columnas que faltan.\n",
    "\n",
    "columnas_a_convertir = [\"businesstravel\", \"educationfield\",\"maritalstatus\" , \"overtime\", \"performancerating\" , \"hourlyrate\", \"monthlyincome\", \"over18\", \"standardhours\", \"worklifebalance\", \"sameasmonthlyincome\", \"salary\", \"totalworkingyears\"]\n",
    "for col in columnas_a_convertir:\n",
    "    df[col] = df[col].where(pd.notna(df[col]), None)\n",
    "\n",
    "# pd.notna(df[col]) -> Detecta los valores que no son NaN.\n",
    "# .where(...) -> Mantiene los valores correctos y reemplaza los NaN con None."
   ]
  },
  {
   "cell_type": "code",
   "execution_count": 72,
   "metadata": {},
   "outputs": [
    {
     "data": {
      "text/html": [
       "<div>\n",
       "<style scoped>\n",
       "    .dataframe tbody tr th:only-of-type {\n",
       "        vertical-align: middle;\n",
       "    }\n",
       "\n",
       "    .dataframe tbody tr th {\n",
       "        vertical-align: top;\n",
       "    }\n",
       "\n",
       "    .dataframe thead th {\n",
       "        text-align: right;\n",
       "    }\n",
       "</style>\n",
       "<table border=\"1\" class=\"dataframe\">\n",
       "  <thead>\n",
       "    <tr style=\"text-align: right;\">\n",
       "      <th></th>\n",
       "      <th>hourlyrate</th>\n",
       "      <th>monthlyincome</th>\n",
       "      <th>over18</th>\n",
       "      <th>standardhours</th>\n",
       "      <th>worklifebalance</th>\n",
       "      <th>sameasmonthlyincome</th>\n",
       "      <th>salary</th>\n",
       "      <th>totalworkingyears</th>\n",
       "    </tr>\n",
       "  </thead>\n",
       "  <tbody>\n",
       "    <tr>\n",
       "      <th>839</th>\n",
       "      <td>NaN</td>\n",
       "      <td>2342,59$</td>\n",
       "      <td>Y</td>\n",
       "      <td>part_time</td>\n",
       "      <td>2</td>\n",
       "      <td>2342.59</td>\n",
       "      <td>28111.13</td>\n",
       "      <td>11</td>\n",
       "    </tr>\n",
       "    <tr>\n",
       "      <th>1525</th>\n",
       "      <td>NaN</td>\n",
       "      <td>2342,59$</td>\n",
       "      <td>None</td>\n",
       "      <td>part_time</td>\n",
       "      <td>2</td>\n",
       "      <td>2342.59</td>\n",
       "      <td>28111.13</td>\n",
       "      <td>3</td>\n",
       "    </tr>\n",
       "    <tr>\n",
       "      <th>1598</th>\n",
       "      <td>67.424603</td>\n",
       "      <td>4356,67$</td>\n",
       "      <td>None</td>\n",
       "      <td>part_time</td>\n",
       "      <td>3</td>\n",
       "      <td>4356.67</td>\n",
       "      <td>52280.00</td>\n",
       "      <td>11</td>\n",
       "    </tr>\n",
       "    <tr>\n",
       "      <th>760</th>\n",
       "      <td>NaN</td>\n",
       "      <td>1677,50$</td>\n",
       "      <td>None</td>\n",
       "      <td>none</td>\n",
       "      <td>3</td>\n",
       "      <td>1677.50</td>\n",
       "      <td>65070.00</td>\n",
       "      <td>11</td>\n",
       "    </tr>\n",
       "    <tr>\n",
       "      <th>432</th>\n",
       "      <td>NaN</td>\n",
       "      <td>None</td>\n",
       "      <td>None</td>\n",
       "      <td>part_time</td>\n",
       "      <td>3</td>\n",
       "      <td>4492.00</td>\n",
       "      <td>53914.11</td>\n",
       "      <td>9</td>\n",
       "    </tr>\n",
       "    <tr>\n",
       "      <th>399</th>\n",
       "      <td>NaN</td>\n",
       "      <td>4350,00$</td>\n",
       "      <td>None</td>\n",
       "      <td>none</td>\n",
       "      <td>3</td>\n",
       "      <td>4350.00</td>\n",
       "      <td>65070.00</td>\n",
       "      <td>12</td>\n",
       "    </tr>\n",
       "    <tr>\n",
       "      <th>939</th>\n",
       "      <td>NaN</td>\n",
       "      <td>2342,59$</td>\n",
       "      <td>Y</td>\n",
       "      <td>part_time</td>\n",
       "      <td>3</td>\n",
       "      <td>2342.59</td>\n",
       "      <td>28111.13</td>\n",
       "      <td>11</td>\n",
       "    </tr>\n",
       "    <tr>\n",
       "      <th>887</th>\n",
       "      <td>NaN</td>\n",
       "      <td>2342,59$</td>\n",
       "      <td>None</td>\n",
       "      <td>part_time</td>\n",
       "      <td>3</td>\n",
       "      <td>2342.59</td>\n",
       "      <td>28111.13</td>\n",
       "      <td>5</td>\n",
       "    </tr>\n",
       "    <tr>\n",
       "      <th>1625</th>\n",
       "      <td>NaN</td>\n",
       "      <td>None</td>\n",
       "      <td>Y</td>\n",
       "      <td>part_time</td>\n",
       "      <td>3</td>\n",
       "      <td>4492.00</td>\n",
       "      <td>24790.00</td>\n",
       "      <td>7</td>\n",
       "    </tr>\n",
       "    <tr>\n",
       "      <th>1170</th>\n",
       "      <td>NaN</td>\n",
       "      <td>2849,17$</td>\n",
       "      <td>None</td>\n",
       "      <td>full_time</td>\n",
       "      <td>4</td>\n",
       "      <td>2849.17</td>\n",
       "      <td>34190.00</td>\n",
       "      <td>11</td>\n",
       "    </tr>\n",
       "  </tbody>\n",
       "</table>\n",
       "</div>"
      ],
      "text/plain": [
       "      hourlyrate monthlyincome over18 standardhours  worklifebalance  \\\n",
       "839          NaN      2342,59$      Y     part_time                2   \n",
       "1525         NaN      2342,59$   None     part_time                2   \n",
       "1598   67.424603      4356,67$   None     part_time                3   \n",
       "760          NaN      1677,50$   None          none                3   \n",
       "432          NaN          None   None     part_time                3   \n",
       "399          NaN      4350,00$   None          none                3   \n",
       "939          NaN      2342,59$      Y     part_time                3   \n",
       "887          NaN      2342,59$   None     part_time                3   \n",
       "1625         NaN          None      Y     part_time                3   \n",
       "1170         NaN      2849,17$   None     full_time                4   \n",
       "\n",
       "      sameasmonthlyincome    salary  totalworkingyears  \n",
       "839               2342.59  28111.13                 11  \n",
       "1525              2342.59  28111.13                  3  \n",
       "1598              4356.67  52280.00                 11  \n",
       "760               1677.50  65070.00                 11  \n",
       "432               4492.00  53914.11                  9  \n",
       "399               4350.00  65070.00                 12  \n",
       "939               2342.59  28111.13                 11  \n",
       "887               2342.59  28111.13                  5  \n",
       "1625              4492.00  24790.00                  7  \n",
       "1170              2849.17  34190.00                 11  "
      ]
     },
     "execution_count": 72,
     "metadata": {},
     "output_type": "execute_result"
    }
   ],
   "source": [
    "df[[\"hourlyrate\", \"monthlyincome\", \"over18\", \"standardhours\", \"worklifebalance\", \"sameasmonthlyincome\", \"salary\",\"totalworkingyears\"]].sample(10)"
   ]
  },
  {
   "cell_type": "markdown",
   "metadata": {},
   "source": [
    "Siguientes pasos:\n",
    "\n",
    "- hay simbolo $ en valores de columna de precios o sueldos, mejor quitarlo y poner el $ en el nombre de la columna.\n",
    "- hay textos escritos con errores tipograficos \n",
    "- hay textos escritos diferentes, con mayusculas o minusculas.\n",
    "- hay espacios delante o detras en algunos OBJECTS.\n",
    "- cambiar gender de 0-1 a Male o Female."
   ]
  },
  {
   "cell_type": "markdown",
   "metadata": {},
   "source": [
    "# Posibilidad de Rellenar valores nulos con datos adecuados\n",
    "\n",
    "Algunas columnas tienen nulos moderados (10-50%), se puede rellenar con valores adecuados.\n",
    "-> Posibles opciones de relleno:\n",
    "\"businesstravel\" -> Rellenar con \"No Travel\" (si el nulo significa que no viajan).\n",
    "\"educationfield\" -> Rellenar con \"Unknown\" si no conocemos el campo de estudio.\n",
    "\"maritalstatus\" -> Rellenar con \"Single\" (opción estándar si faltan datos).\n",
    "\"overtime\" -> Rellenar con \"No\" (asumiendo que el nulo significa que no hacen horas extra).\n",
    "\"performancerating\" -> Rellenar con la media o mediana o poner none"
   ]
  },
  {
   "cell_type": "markdown",
   "metadata": {},
   "source": [
    "---------------------------------------------------------------------------------------------------------"
   ]
  },
  {
   "cell_type": "markdown",
   "metadata": {},
   "source": [
    "LIMPIEZA DATA COLUMNAS:  'age', 'attrition', 'businesstravel', 'department', 'educationfield',\n",
    "       'jobrole', 'maritalstatus', 'monthlyincome', 'monthlyrate', 'over18'"
   ]
  },
  {
   "cell_type": "code",
   "execution_count": 73,
   "metadata": {},
   "outputs": [],
   "source": [
    "# 1. EXPLORAR COLUMNAS:"
   ]
  },
  {
   "cell_type": "code",
   "execution_count": 74,
   "metadata": {},
   "outputs": [
    {
     "data": {
      "text/plain": [
       "['age',\n",
       " 'attrition',\n",
       " 'businesstravel',\n",
       " 'dailyrate',\n",
       " 'distancefromhome',\n",
       " 'education',\n",
       " 'educationfield',\n",
       " 'employeecount',\n",
       " 'employeenumber',\n",
       " 'environmentsatisfaction',\n",
       " 'gender',\n",
       " 'hourlyrate',\n",
       " 'jobinvolvement',\n",
       " 'joblevel',\n",
       " 'jobrole',\n",
       " 'jobsatisfaction',\n",
       " 'maritalstatus',\n",
       " 'monthlyincome',\n",
       " 'monthlyrate',\n",
       " 'numcompaniesworked',\n",
       " 'over18',\n",
       " 'overtime',\n",
       " 'percentsalaryhike',\n",
       " 'performancerating',\n",
       " 'relationshipsatisfaction',\n",
       " 'standardhours',\n",
       " 'stockoptionlevel',\n",
       " 'totalworkingyears',\n",
       " 'trainingtimeslastyear',\n",
       " 'worklifebalance',\n",
       " 'yearsatcompany',\n",
       " 'yearssincelastpromotion',\n",
       " 'yearswithcurrmanager',\n",
       " 'sameasmonthlyincome',\n",
       " 'datebirth',\n",
       " 'salary',\n",
       " 'remotework']"
      ]
     },
     "execution_count": 74,
     "metadata": {},
     "output_type": "execute_result"
    }
   ],
   "source": [
    "df.columns.tolist() # saco los nombres de las columnas en una lista.\n"
   ]
  },
  {
   "cell_type": "code",
   "execution_count": 75,
   "metadata": {},
   "outputs": [
    {
     "data": {
      "text/html": [
       "<div>\n",
       "<style scoped>\n",
       "    .dataframe tbody tr th:only-of-type {\n",
       "        vertical-align: middle;\n",
       "    }\n",
       "\n",
       "    .dataframe tbody tr th {\n",
       "        vertical-align: top;\n",
       "    }\n",
       "\n",
       "    .dataframe thead th {\n",
       "        text-align: right;\n",
       "    }\n",
       "</style>\n",
       "<table border=\"1\" class=\"dataframe\">\n",
       "  <thead>\n",
       "    <tr style=\"text-align: right;\">\n",
       "      <th></th>\n",
       "      <th>age</th>\n",
       "      <th>attrition</th>\n",
       "      <th>businesstravel</th>\n",
       "      <th>educationfield</th>\n",
       "      <th>jobrole</th>\n",
       "      <th>maritalstatus</th>\n",
       "      <th>monthlyincome</th>\n",
       "      <th>monthlyrate</th>\n",
       "      <th>over18</th>\n",
       "    </tr>\n",
       "  </thead>\n",
       "  <tbody>\n",
       "    <tr>\n",
       "      <th>0</th>\n",
       "      <td>51</td>\n",
       "      <td>No</td>\n",
       "      <td>None</td>\n",
       "      <td>None</td>\n",
       "      <td>resEArch DIREcToR</td>\n",
       "      <td>None</td>\n",
       "      <td>16280,83$</td>\n",
       "      <td>42330,17$</td>\n",
       "      <td>Y</td>\n",
       "    </tr>\n",
       "    <tr>\n",
       "      <th>1</th>\n",
       "      <td>52</td>\n",
       "      <td>No</td>\n",
       "      <td>None</td>\n",
       "      <td>Life Sciences</td>\n",
       "      <td>ManAGeR</td>\n",
       "      <td>None</td>\n",
       "      <td>None</td>\n",
       "      <td>43331,17$</td>\n",
       "      <td>None</td>\n",
       "    </tr>\n",
       "    <tr>\n",
       "      <th>2</th>\n",
       "      <td>42</td>\n",
       "      <td>No</td>\n",
       "      <td>travel_rarely</td>\n",
       "      <td>Technical Degree</td>\n",
       "      <td>ManaGER</td>\n",
       "      <td>Married</td>\n",
       "      <td>None</td>\n",
       "      <td>41669,33$</td>\n",
       "      <td>None</td>\n",
       "    </tr>\n",
       "  </tbody>\n",
       "</table>\n",
       "</div>"
      ],
      "text/plain": [
       "  age attrition businesstravel    educationfield              jobrole  \\\n",
       "0  51        No           None              None   resEArch DIREcToR    \n",
       "1  52        No           None     Life Sciences             ManAGeR    \n",
       "2  42        No  travel_rarely  Technical Degree             ManaGER    \n",
       "\n",
       "  maritalstatus monthlyincome monthlyrate over18  \n",
       "0          None     16280,83$   42330,17$      Y  \n",
       "1          None          None   43331,17$   None  \n",
       "2       Married          None   41669,33$   None  "
      ]
     },
     "execution_count": 75,
     "metadata": {},
     "output_type": "execute_result"
    }
   ],
   "source": [
    "df[['age', 'attrition', 'businesstravel', 'educationfield','jobrole', 'maritalstatus', 'monthlyincome', 'monthlyrate', 'over18']].head(3)\n"
   ]
  },
  {
   "cell_type": "code",
   "execution_count": 76,
   "metadata": {},
   "outputs": [
    {
     "data": {
      "text/plain": [
       "age               object\n",
       "attrition         object\n",
       "businesstravel    object\n",
       "educationfield    object\n",
       "jobrole           object\n",
       "maritalstatus     object\n",
       "monthlyincome     object\n",
       "monthlyrate       object\n",
       "over18            object\n",
       "dtype: object"
      ]
     },
     "execution_count": 76,
     "metadata": {},
     "output_type": "execute_result"
    }
   ],
   "source": [
    "df[['age', 'attrition', 'businesstravel', 'educationfield','jobrole', 'maritalstatus', 'monthlyincome', 'monthlyrate', 'over18']].dtypes"
   ]
  },
  {
   "cell_type": "markdown",
   "metadata": {},
   "source": [
    "*** AGE ***"
   ]
  },
  {
   "cell_type": "code",
   "execution_count": 77,
   "metadata": {},
   "outputs": [
    {
     "data": {
      "text/plain": [
       "497     52\n",
       "651     38\n",
       "401     36\n",
       "1299    47\n",
       "1215    38\n",
       "172     56\n",
       "113     34\n",
       "1151    54\n",
       "1420    41\n",
       "48      37\n",
       "869     31\n",
       "1460    42\n",
       "406     43\n",
       "137     38\n",
       "1544    29\n",
       "Name: age, dtype: object"
      ]
     },
     "execution_count": 77,
     "metadata": {},
     "output_type": "execute_result"
    }
   ],
   "source": [
    "# analizo columna AGE: son edades pero aparece como objetc, hay que pasarlo a INT.\n",
    "\n",
    "df['age'].sample(15)\n",
    "\n",
    "# vemos que hay algunos valores escritos en letra."
   ]
  },
  {
   "cell_type": "code",
   "execution_count": 78,
   "metadata": {},
   "outputs": [],
   "source": [
    "df[\"age\"] = df[\"age\"].str.strip() # primero quito los posibles espacios que puedan haber antes o despues del numero."
   ]
  },
  {
   "cell_type": "markdown",
   "metadata": {},
   "source": [
    "- He intentado cambiar el tipo de columna con .astype() pero me ha estado dando error hasta que he visto que hay numeros escritos en letra en ingles.\n",
    "\n",
    "-> df[\"age\"] = df[\"age\"].astype(int)  # astype() se usa para cambiar el tipo de dato de una columna \n",
    "\n",
    "- esto da error puesto que hay numeros escritos en ingles y eso no se puede convertir directamente con .astype()"
   ]
  },
  {
   "cell_type": "markdown",
   "metadata": {},
   "source": [
    "Podria solucionar esto de dos formas:\n",
    "- Creando un diccionario a mano con las palabras como clave y el numero como valor y luego definiendo una funcion para cambiarlo:\n",
    "        * numeros = { \"eighteen\":18, \"nineteen\":19, \"twenty\": 20....}\n",
    "\n",
    "- usar una libreria externa WORD2NUMBER que hace justo eso: convierte texto en ingles a número. Se instala como todas:\n",
    "    pip install word2number\n",
    "    from word2number import w2n\n",
    "\n",
    "    w2n.word_to_num(\"forty_seven\") -> devuelte 47 en numero \n",
    "\n",
    "    la libreria es mas rapido y limpio"
   ]
  },
  {
   "cell_type": "code",
   "execution_count": 79,
   "metadata": {},
   "outputs": [],
   "source": [
    "# pip install word2number    como ya he hecho el pip install no inhabilito."
   ]
  },
  {
   "cell_type": "code",
   "execution_count": 80,
   "metadata": {},
   "outputs": [
    {
     "ename": "ModuleNotFoundError",
     "evalue": "No module named 'word2number'",
     "output_type": "error",
     "traceback": [
      "\u001b[0;31m---------------------------------------------------------------------------\u001b[0m",
      "\u001b[0;31mModuleNotFoundError\u001b[0m                       Traceback (most recent call last)",
      "Cell \u001b[0;32mIn[80], line 1\u001b[0m\n\u001b[0;32m----> 1\u001b[0m \u001b[38;5;28;01mfrom\u001b[39;00m \u001b[38;5;21;01mword2number\u001b[39;00m \u001b[38;5;28;01mimport\u001b[39;00m w2n\n",
      "\u001b[0;31mModuleNotFoundError\u001b[0m: No module named 'word2number'"
     ]
    }
   ],
   "source": [
    "from word2number import w2n"
   ]
  },
  {
   "cell_type": "code",
   "execution_count": null,
   "metadata": {},
   "outputs": [],
   "source": [
    "# ya he importado la libreria, hago una funcion para limpiar la columna age:\n",
    "# necesito pasarlo todo a texto/string primero.\n",
    "\n",
    "def convertir_edad(valor):  # Definimos la función. Le pasaremos una edad, que puede ser: un numero (\"42\"), un string o un Nulo (NaN)\n",
    "    if pd.isnull(valor):    # Si el valor es nulo (NaN), lo dejamos como None. \n",
    "        return None\n",
    "    valor = str(valor).strip().lower() # str(valor) lo convierte a texto/string por si viene como numero, con .strip() elimino posibles espacios y .lower()lo paso todo a minusculas.\n",
    "    try:\n",
    "        return int(valor) if valor.isdigit() else w2n.word_to_num(valor)  # si el valor es .isdigit() significa que es un numero tipo \"42\" y uso INT para convertirlo, si no es numero sino letra (forty-two) uso w2n para traducirlo.\n",
    "    except:\n",
    "        return None  # Por si hay algún texto no válido\n",
    "\n",
    "\n",
    "#con el try me aseguro de cambiar a INT si es un \"35\" y me de 35 y si esta escrito \"twenty\" uso w2n para que me de 20 en INT"
   ]
  },
  {
   "cell_type": "code",
   "execution_count": null,
   "metadata": {},
   "outputs": [],
   "source": [
    "df[\"age\"] = df[\"age\"].apply(convertir_edad)\n",
    "\n",
    "# con apply aplico la funcion que acabo de hacer a cada fila de la columna AGE para que realice los cambios a INT. \n",
    "# El resultado se guarda en la misma columna.\n"
   ]
  },
  {
   "cell_type": "code",
   "execution_count": null,
   "metadata": {},
   "outputs": [
    {
     "data": {
      "text/plain": [
       "0    51\n",
       "1    52\n",
       "2    42\n",
       "3    47\n",
       "4    46\n",
       "Name: age, dtype: int64"
      ]
     },
     "execution_count": 68,
     "metadata": {},
     "output_type": "execute_result"
    }
   ],
   "source": [
    "df[\"age\"].head(5)\n",
    "\n",
    "# ya aparece como INT."
   ]
  },
  {
   "cell_type": "markdown",
   "metadata": {},
   "source": [
    "RESUMEN DE CAMBIOS DE AGE:\n",
    "- .strip()\n",
    "Elimina espacios en blanco al principio y al final de un string.\n",
    "Ejemplo: ' hola '.strip() → 'hola'\n",
    "- .isdigit()\n",
    "Devuelve True si todos los caracteres del string son dígitos (números enteros positivos).\n",
    "Ejemplo: '42'.isdigit() → True, 'forty-two'.isdigit() → False.  No detecta decimales, negativos ni espacios. \n",
    "- .apply()\n",
    "Aplica una función a cada valor de una columna (o fila si se usa con axis=1).\n",
    "El resultado se guarda en la columna.\n"
   ]
  },
  {
   "cell_type": "markdown",
   "metadata": {},
   "source": [
    "*** attrition ***"
   ]
  },
  {
   "cell_type": "code",
   "execution_count": null,
   "metadata": {},
   "outputs": [
    {
     "data": {
      "text/plain": [
       "0    No\n",
       "1    No\n",
       "2    No\n",
       "3    No\n",
       "4    No\n",
       "Name: attrition, dtype: object"
      ]
     },
     "execution_count": 28,
     "metadata": {},
     "output_type": "execute_result"
    }
   ],
   "source": [
    "df['attrition'].head()\n",
    "\n",
    "# pasar a minusculas\n",
    "# quitar posibles espacios."
   ]
  },
  {
   "cell_type": "code",
   "execution_count": null,
   "metadata": {},
   "outputs": [],
   "source": [
    "df[\"attrition\"] = df[\"attrition\"].str.strip().str.lower()\n",
    "\n",
    "# .str.strip().str.lower() limpia espacios y pone todo en minúsculas."
   ]
  },
  {
   "cell_type": "code",
   "execution_count": null,
   "metadata": {},
   "outputs": [
    {
     "data": {
      "text/plain": [
       "967    yes\n",
       "374     no\n",
       "876     no\n",
       "Name: attrition, dtype: object"
      ]
     },
     "execution_count": 30,
     "metadata": {},
     "output_type": "execute_result"
    }
   ],
   "source": [
    "df['attrition'].sample(3)"
   ]
  },
  {
   "cell_type": "markdown",
   "metadata": {},
   "source": [
    "*** Businesstravel ***"
   ]
  },
  {
   "cell_type": "code",
   "execution_count": null,
   "metadata": {},
   "outputs": [
    {
     "data": {
      "text/plain": [
       "848              None\n",
       "1274    travel rarely\n",
       "1410             None\n",
       "1096    travel rarely\n",
       "329     travel rarely\n",
       "Name: businesstravel, dtype: object"
      ]
     },
     "execution_count": 72,
     "metadata": {},
     "output_type": "execute_result"
    }
   ],
   "source": [
    "df[\"businesstravel\"].sample(5)\n",
    "\n",
    "# quitar espacios\n",
    "# poner todo en minusculas\n",
    "# quitar los _ y dejar espacios \" \""
   ]
  },
  {
   "cell_type": "code",
   "execution_count": null,
   "metadata": {},
   "outputs": [],
   "source": [
    "df[\"businesstravel\"] = (df[\"businesstravel\"].str.strip().str.lower().str.replace(\"_\", \" \"))\n",
    "\n",
    "# .str.replace(\"_\", \" \"): cambia guiones por espacios.\n",
    "# .str.lower(): pone todo en minusculas.\n",
    "# .str.strip(): limpia espacios extra."
   ]
  },
  {
   "cell_type": "code",
   "execution_count": null,
   "metadata": {},
   "outputs": [
    {
     "data": {
      "text/plain": [
       "1117             None\n",
       "622     travel rarely\n",
       "1423             None\n",
       "26               None\n",
       "169              None\n",
       "Name: businesstravel, dtype: object"
      ]
     },
     "execution_count": 33,
     "metadata": {},
     "output_type": "execute_result"
    }
   ],
   "source": [
    "df[\"businesstravel\"].sample(5)\n",
    "\n",
    "# al revisar veo que tambien hay guion medio en algunos valores."
   ]
  },
  {
   "cell_type": "code",
   "execution_count": null,
   "metadata": {},
   "outputs": [],
   "source": [
    "df[\"businesstravel\"] = (df[\"businesstravel\"].str.strip().str.lower().str.replace(\"_\", \" \").str.replace(\"-\", \" \"))\n",
    "\n",
    "# aqui incluyo el .replace del guion medio que no me habia dado cuenta antes."
   ]
  },
  {
   "cell_type": "code",
   "execution_count": null,
   "metadata": {},
   "outputs": [
    {
     "data": {
      "text/plain": [
       "233     travel rarely\n",
       "1065    travel rarely\n",
       "41      travel rarely\n",
       "576              None\n",
       "1323    travel rarely\n",
       "Name: businesstravel, dtype: object"
      ]
     },
     "execution_count": 35,
     "metadata": {},
     "output_type": "execute_result"
    }
   ],
   "source": [
    "df[\"businesstravel\"].sample(5)"
   ]
  },
  {
   "cell_type": "markdown",
   "metadata": {},
   "source": [
    "*** Educationfield ***"
   ]
  },
  {
   "cell_type": "code",
   "execution_count": null,
   "metadata": {},
   "outputs": [
    {
     "data": {
      "text/plain": [
       "310          None\n",
       "1478         None\n",
       "1165    Marketing\n",
       "377     Marketing\n",
       "423          None\n",
       "Name: educationfield, dtype: object"
      ]
     },
     "execution_count": 36,
     "metadata": {},
     "output_type": "execute_result"
    }
   ],
   "source": [
    "df['educationfield'].sample(5)\n",
    "\n",
    "# quitar espacios\n",
    "# poner en minusculas.\n",
    "# NaN -> None ya lo hice "
   ]
  },
  {
   "cell_type": "code",
   "execution_count": null,
   "metadata": {},
   "outputs": [],
   "source": [
    "df[\"educationfield\"] = df[\"educationfield\"].str.strip().str.lower()\n"
   ]
  },
  {
   "cell_type": "code",
   "execution_count": null,
   "metadata": {},
   "outputs": [
    {
     "data": {
      "text/plain": [
       "464     life sciences\n",
       "1533             None\n",
       "1006             None\n",
       "379              None\n",
       "643              None\n",
       "Name: educationfield, dtype: object"
      ]
     },
     "execution_count": 38,
     "metadata": {},
     "output_type": "execute_result"
    }
   ],
   "source": [
    "df['educationfield'].sample(5)"
   ]
  },
  {
   "cell_type": "markdown",
   "metadata": {},
   "source": [
    "*** jobrole ***"
   ]
  },
  {
   "cell_type": "code",
   "execution_count": null,
   "metadata": {},
   "outputs": [
    {
     "data": {
      "text/plain": [
       "845      hEaltHcare rEpREseNTatiVE \n",
       "1453            rEsEArCh sCIENtIsT \n",
       "587             REsearCH SCiEntist \n",
       "Name: jobrole, dtype: object"
      ]
     },
     "execution_count": 39,
     "metadata": {},
     "output_type": "execute_result"
    }
   ],
   "source": [
    "df['jobrole'].sample(3)\n",
    "\n",
    "# espacios al principio y al final\n",
    "# poner en minusculas "
   ]
  },
  {
   "cell_type": "code",
   "execution_count": null,
   "metadata": {},
   "outputs": [],
   "source": [
    "df[\"jobrole\"] = df[\"jobrole\"].str.strip().str.lower()\n"
   ]
  },
  {
   "cell_type": "code",
   "execution_count": null,
   "metadata": {},
   "outputs": [
    {
     "data": {
      "text/plain": [
       "1207                  manager\n",
       "1361    laboratory technician\n",
       "1496                  manager\n",
       "Name: jobrole, dtype: object"
      ]
     },
     "execution_count": 41,
     "metadata": {},
     "output_type": "execute_result"
    }
   ],
   "source": [
    "df['jobrole'].sample(3)"
   ]
  },
  {
   "cell_type": "markdown",
   "metadata": {},
   "source": [
    "*** Maritalstatus ***"
   ]
  },
  {
   "cell_type": "code",
   "execution_count": null,
   "metadata": {},
   "outputs": [
    {
     "data": {
      "text/plain": [
       "356      Married\n",
       "1635     Married\n",
       "717       Single\n",
       "919         None\n",
       "849      Married\n",
       "1107        None\n",
       "745      Married\n",
       "939       Single\n",
       "632      Married\n",
       "892         None\n",
       "1623     Marreid\n",
       "1016    Divorced\n",
       "1428      Single\n",
       "72          None\n",
       "145      Married\n",
       "1393      Single\n",
       "893      Married\n",
       "1055        None\n",
       "1399        None\n",
       "526       Single\n",
       "Name: maritalstatus, dtype: object"
      ]
     },
     "execution_count": 42,
     "metadata": {},
     "output_type": "execute_result"
    }
   ],
   "source": [
    "df['maritalstatus'].sample(20)\n",
    "\n",
    "# quitar posibles espacios.\n",
    "# poner en minusculas.\n",
    "# hay error ortografico  en married alguno pone \"marreid\""
   ]
  },
  {
   "cell_type": "code",
   "execution_count": null,
   "metadata": {},
   "outputs": [],
   "source": [
    "df[\"maritalstatus\"] = df[\"maritalstatus\"].str.strip().str.lower()"
   ]
  },
  {
   "cell_type": "code",
   "execution_count": null,
   "metadata": {},
   "outputs": [],
   "source": [
    "df[\"maritalstatus\"] = df[\"maritalstatus\"].replace(\"marreid\", \"married\")\n",
    "\n",
    "# .replace del error ortografico.\n"
   ]
  },
  {
   "cell_type": "code",
   "execution_count": null,
   "metadata": {},
   "outputs": [
    {
     "data": {
      "text/plain": [
       "637       single\n",
       "1058      single\n",
       "815     divorced\n",
       "25       married\n",
       "1302        None\n",
       "Name: maritalstatus, dtype: object"
      ]
     },
     "execution_count": 45,
     "metadata": {},
     "output_type": "execute_result"
    }
   ],
   "source": [
    "df[\"maritalstatus\"].sample(5)"
   ]
  },
  {
   "cell_type": "markdown",
   "metadata": {},
   "source": [
    "*** Monthlyincome ***"
   ]
  },
  {
   "cell_type": "code",
   "execution_count": null,
   "metadata": {},
   "outputs": [
    {
     "data": {
      "text/plain": [
       "1566        None\n",
       "11          None\n",
       "966         None\n",
       "83      8339,32$\n",
       "1526    2214,17$\n",
       "Name: monthlyincome, dtype: object"
      ]
     },
     "execution_count": 46,
     "metadata": {},
     "output_type": "execute_result"
    }
   ],
   "source": [
    "df['monthlyincome'].sample(5)\n",
    "\n",
    "# pasar a float (reemplazar , por . para float)\n",
    "# quitar espacios\n",
    "# quitar simbolo $"
   ]
  },
  {
   "cell_type": "code",
   "execution_count": null,
   "metadata": {},
   "outputs": [],
   "source": [
    "df[\"monthlyincome\"] = (df[\"monthlyincome\"].str.strip().str.replace(\"$\", \"\").str.replace(\",\", \".\").astype(float))\n",
    "\n",
    "# .str.strip() -> quitar espacios\n",
    "# .str.replace() -> quitar el símbolo $\n",
    "# .str.replace() -> cambiar coma por punto\n",
    "# .astype(float) -> convertir a número decimal"
   ]
  },
  {
   "cell_type": "code",
   "execution_count": null,
   "metadata": {},
   "outputs": [
    {
     "data": {
      "text/plain": [
       "537     3018.33\n",
       "238         NaN\n",
       "1323    4267.50\n",
       "311     4492.84\n",
       "1198    1980.83\n",
       "Name: monthlyincome, dtype: float64"
      ]
     },
     "execution_count": 48,
     "metadata": {},
     "output_type": "execute_result"
    }
   ],
   "source": [
    "df['monthlyincome'].sample(5)\n",
    "\n",
    "# veo que aqui aparecen nulos como NaN que no se cambiaron al inicio, los cambio ahora."
   ]
  },
  {
   "cell_type": "code",
   "execution_count": null,
   "metadata": {},
   "outputs": [],
   "source": [
    "df[\"monthlyincome\"] = df[\"monthlyincome\"].where(pd.notnull(df[\"monthlyincome\"]), None) # Deja los valores que no son nulos como están, y cambia los NaN por None."
   ]
  },
  {
   "cell_type": "code",
   "execution_count": null,
   "metadata": {},
   "outputs": [
    {
     "data": {
      "text/plain": [
       "845    4492.84\n",
       "975        NaN\n",
       "901        NaN\n",
       "835    2342.59\n",
       "181    4492.84\n",
       "Name: monthlyincome, dtype: float64"
      ]
     },
     "execution_count": 50,
     "metadata": {},
     "output_type": "execute_result"
    }
   ],
   "source": [
    "df['monthlyincome'].sample(5)"
   ]
  },
  {
   "cell_type": "markdown",
   "metadata": {},
   "source": [
    "*** IMPORTANTE ***\n",
    "\n",
    "Siguen apareciendo valores Nan porque Pandas sigue mostrando NaN incluso si internamente hay None, cuando la columna tiene tipo numérico (float64 en este caso) Y Pandas no puede mezclar números con None en columnas de tipo float64, así que internamente lo convierte a NaN aunque tú hayas puesto None.\n",
    "Como vamos a trabajar despues con SQL y tenemos que quitar esos valores Nan para que no nos den error tendremos que tener esta columna como OBJETC y no como FLOAT para poder tener valores nulos -> None."
   ]
  },
  {
   "cell_type": "code",
   "execution_count": null,
   "metadata": {},
   "outputs": [],
   "source": [
    "# como ya le he quitado los espacios, la coma, y el $, pero está en FLOAT, ahora lo paso a OBJECT para poder tener NONE"
   ]
  },
  {
   "cell_type": "code",
   "execution_count": null,
   "metadata": {},
   "outputs": [],
   "source": [
    "df[\"monthlyincome\"] = df[\"monthlyincome\"].astype(\"object\")\n",
    "df[\"monthlyincome\"] = df[\"monthlyincome\"].where(pd.notnull(df[\"monthlyincome\"]), None) # Deja los valores que no son nulos como están, y cambia los NaN por None.\n",
    "\n",
    "# ahora esta como OBJETC y NONE"
   ]
  },
  {
   "cell_type": "code",
   "execution_count": null,
   "metadata": {},
   "outputs": [
    {
     "data": {
      "text/plain": [
       "1485     2350.83\n",
       "327         None\n",
       "1620     2342.59\n",
       "806     15789.17\n",
       "1605        None\n",
       "Name: monthlyincome, dtype: object"
      ]
     },
     "execution_count": 53,
     "metadata": {},
     "output_type": "execute_result"
    }
   ],
   "source": [
    "df['monthlyincome'].sample(5)"
   ]
  },
  {
   "cell_type": "markdown",
   "metadata": {},
   "source": [
    "*** Monthlyrate ***"
   ]
  },
  {
   "cell_type": "code",
   "execution_count": null,
   "metadata": {},
   "outputs": [
    {
     "data": {
      "text/plain": [
       "1166     6090,75$\n",
       "1644     6090,75$\n",
       "258     28905,50$\n",
       "644     16804,67$\n",
       "627     11681,39$\n",
       "Name: monthlyrate, dtype: object"
      ]
     },
     "execution_count": 54,
     "metadata": {},
     "output_type": "execute_result"
    }
   ],
   "source": [
    "df[\"monthlyrate\"].sample(5)\n",
    "\n",
    "# lo mismo que en el anterior pero primero voy a comprobar si hay algun NaN\n"
   ]
  },
  {
   "cell_type": "code",
   "execution_count": null,
   "metadata": {},
   "outputs": [
    {
     "data": {
      "text/plain": [
       "np.int64(0)"
      ]
     },
     "execution_count": 55,
     "metadata": {},
     "output_type": "execute_result"
    }
   ],
   "source": [
    "df[\"monthlyrate\"].isna().sum()\n",
    "\n",
    "# como esta columna no tiene NaN si que voy a pasarlo a Float.\n"
   ]
  },
  {
   "cell_type": "code",
   "execution_count": null,
   "metadata": {},
   "outputs": [],
   "source": [
    "df[\"monthlyrate\"] = (df[\"monthlyrate\"].str.strip().str.replace(\"$\", \"\").str.replace(\",\", \".\").astype(float))"
   ]
  },
  {
   "cell_type": "code",
   "execution_count": null,
   "metadata": {},
   "outputs": [
    {
     "data": {
      "text/plain": [
       "238     21502.00\n",
       "593     11681.39\n",
       "95      11681.39\n",
       "146     29416.83\n",
       "1046    20284.33\n",
       "Name: monthlyrate, dtype: float64"
      ]
     },
     "execution_count": 57,
     "metadata": {},
     "output_type": "execute_result"
    }
   ],
   "source": [
    "df[\"monthlyrate\"].sample(5)"
   ]
  },
  {
   "cell_type": "markdown",
   "metadata": {},
   "source": [
    "*** Over18 ***"
   ]
  },
  {
   "cell_type": "code",
   "execution_count": null,
   "metadata": {},
   "outputs": [
    {
     "data": {
      "text/plain": [
       "1614       Y\n",
       "293     None\n",
       "1300       Y\n",
       "1505    None\n",
       "787     None\n",
       "Name: over18, dtype: object"
      ]
     },
     "execution_count": 58,
     "metadata": {},
     "output_type": "execute_result"
    }
   ],
   "source": [
    "df[\"over18\"].sample(5)\n",
    "\n",
    "# todos los valores son \"Y\" o None, no aporta informacion util, eliminarla.\n",
    "# voy a poner en minuscula y quitar espacios de todas formas."
   ]
  },
  {
   "cell_type": "code",
   "execution_count": null,
   "metadata": {},
   "outputs": [],
   "source": [
    "df[\"over18\"] = df[\"over18\"].str.strip().str.lower()\n"
   ]
  },
  {
   "cell_type": "code",
   "execution_count": null,
   "metadata": {},
   "outputs": [
    {
     "data": {
      "text/plain": [
       "755        y\n",
       "881     None\n",
       "1030       y\n",
       "852        y\n",
       "640        y\n",
       "Name: over18, dtype: object"
      ]
     },
     "execution_count": 60,
     "metadata": {},
     "output_type": "execute_result"
    }
   ],
   "source": [
    "df[\"over18\"].sample(5)"
   ]
  }
 ],
 "metadata": {
  "kernelspec": {
   "display_name": "base",
   "language": "python",
   "name": "python3"
  },
  "language_info": {
   "codemirror_mode": {
    "name": "ipython",
    "version": 3
   },
   "file_extension": ".py",
   "mimetype": "text/x-python",
   "name": "python",
   "nbconvert_exporter": "python",
   "pygments_lexer": "ipython3",
   "version": "3.11.11"
  }
 },
 "nbformat": 4,
 "nbformat_minor": 2
}
