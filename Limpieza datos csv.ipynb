{
 "cells": [
  {
   "cell_type": "markdown",
   "metadata": {},
   "source": [
    "LIMPIEZA DATOS CSV:"
   ]
  },
  {
   "cell_type": "code",
   "execution_count": 2,
   "metadata": {},
   "outputs": [],
   "source": [
    "import pandas as pd\n",
    "import numpy as np\n",
    "from IPython.display import display  "
   ]
  },
  {
   "cell_type": "code",
   "execution_count": 3,
   "metadata": {},
   "outputs": [
    {
     "data": {
      "text/html": [
       "<div>\n",
       "<style scoped>\n",
       "    .dataframe tbody tr th:only-of-type {\n",
       "        vertical-align: middle;\n",
       "    }\n",
       "\n",
       "    .dataframe tbody tr th {\n",
       "        vertical-align: top;\n",
       "    }\n",
       "\n",
       "    .dataframe thead th {\n",
       "        text-align: right;\n",
       "    }\n",
       "</style>\n",
       "<table border=\"1\" class=\"dataframe\">\n",
       "  <thead>\n",
       "    <tr style=\"text-align: right;\">\n",
       "      <th></th>\n",
       "      <th>age</th>\n",
       "      <th>attrition</th>\n",
       "      <th>businesstravel</th>\n",
       "      <th>dailyrate</th>\n",
       "      <th>department</th>\n",
       "      <th>distancefromhome</th>\n",
       "      <th>education</th>\n",
       "      <th>educationfield</th>\n",
       "      <th>employeecount</th>\n",
       "      <th>employeenumber</th>\n",
       "      <th>...</th>\n",
       "      <th>yearsatcompany</th>\n",
       "      <th>yearsincurrentrole</th>\n",
       "      <th>yearssincelastpromotion</th>\n",
       "      <th>yearswithcurrmanager</th>\n",
       "      <th>sameasmonthlyincome</th>\n",
       "      <th>datebirth</th>\n",
       "      <th>salary</th>\n",
       "      <th>roledepartament</th>\n",
       "      <th>numberchildren</th>\n",
       "      <th>remotework</th>\n",
       "    </tr>\n",
       "  </thead>\n",
       "  <tbody>\n",
       "    <tr>\n",
       "      <th>0</th>\n",
       "      <td>51</td>\n",
       "      <td>No</td>\n",
       "      <td>NaN</td>\n",
       "      <td>2015.722222</td>\n",
       "      <td>NaN</td>\n",
       "      <td>6</td>\n",
       "      <td>3</td>\n",
       "      <td>NaN</td>\n",
       "      <td>1</td>\n",
       "      <td>1</td>\n",
       "      <td>...</td>\n",
       "      <td>20</td>\n",
       "      <td>NaN</td>\n",
       "      <td>15</td>\n",
       "      <td>15</td>\n",
       "      <td>16280,83$</td>\n",
       "      <td>1972</td>\n",
       "      <td>195370,00$</td>\n",
       "      <td>NaN</td>\n",
       "      <td>NaN</td>\n",
       "      <td>Yes</td>\n",
       "    </tr>\n",
       "    <tr>\n",
       "      <th>1</th>\n",
       "      <td>52</td>\n",
       "      <td>No</td>\n",
       "      <td>NaN</td>\n",
       "      <td>2063.388889</td>\n",
       "      <td>NaN</td>\n",
       "      <td>1</td>\n",
       "      <td>4</td>\n",
       "      <td>Life Sciences</td>\n",
       "      <td>1</td>\n",
       "      <td>2</td>\n",
       "      <td>...</td>\n",
       "      <td>33</td>\n",
       "      <td>NaN</td>\n",
       "      <td>11</td>\n",
       "      <td>9</td>\n",
       "      <td>NaN</td>\n",
       "      <td>1971</td>\n",
       "      <td>199990,00$</td>\n",
       "      <td>NaN</td>\n",
       "      <td>NaN</td>\n",
       "      <td>1</td>\n",
       "    </tr>\n",
       "    <tr>\n",
       "      <th>2</th>\n",
       "      <td>42</td>\n",
       "      <td>No</td>\n",
       "      <td>travel_rarely</td>\n",
       "      <td>1984.253968</td>\n",
       "      <td>Research &amp; Development</td>\n",
       "      <td>4</td>\n",
       "      <td>2</td>\n",
       "      <td>Technical Degree</td>\n",
       "      <td>1</td>\n",
       "      <td>3</td>\n",
       "      <td>...</td>\n",
       "      <td>22</td>\n",
       "      <td>NaN</td>\n",
       "      <td>11</td>\n",
       "      <td>15</td>\n",
       "      <td>NaN</td>\n",
       "      <td>1981</td>\n",
       "      <td>192320,00$</td>\n",
       "      <td>ManaGER  -  Research &amp; Development</td>\n",
       "      <td>NaN</td>\n",
       "      <td>1</td>\n",
       "    </tr>\n",
       "    <tr>\n",
       "      <th>3</th>\n",
       "      <td>47</td>\n",
       "      <td>No</td>\n",
       "      <td>travel_rarely</td>\n",
       "      <td>1771.404762</td>\n",
       "      <td>NaN</td>\n",
       "      <td>2</td>\n",
       "      <td>4</td>\n",
       "      <td>Medical</td>\n",
       "      <td>1</td>\n",
       "      <td>4</td>\n",
       "      <td>...</td>\n",
       "      <td>20</td>\n",
       "      <td>NaN</td>\n",
       "      <td>5</td>\n",
       "      <td>6</td>\n",
       "      <td>14307,50$</td>\n",
       "      <td>1976</td>\n",
       "      <td>171690,00$</td>\n",
       "      <td>NaN</td>\n",
       "      <td>NaN</td>\n",
       "      <td>False</td>\n",
       "    </tr>\n",
       "    <tr>\n",
       "      <th>4</th>\n",
       "      <td>46</td>\n",
       "      <td>No</td>\n",
       "      <td>NaN</td>\n",
       "      <td>1582.771346</td>\n",
       "      <td>NaN</td>\n",
       "      <td>3</td>\n",
       "      <td>3</td>\n",
       "      <td>Technical Degree</td>\n",
       "      <td>1</td>\n",
       "      <td>5</td>\n",
       "      <td>...</td>\n",
       "      <td>19</td>\n",
       "      <td>NaN</td>\n",
       "      <td>2</td>\n",
       "      <td>8</td>\n",
       "      <td>12783,92$</td>\n",
       "      <td>1977</td>\n",
       "      <td>NaN</td>\n",
       "      <td>NaN</td>\n",
       "      <td>NaN</td>\n",
       "      <td>0</td>\n",
       "    </tr>\n",
       "  </tbody>\n",
       "</table>\n",
       "<p>5 rows × 41 columns</p>\n",
       "</div>"
      ],
      "text/plain": [
       "  age attrition businesstravel    dailyrate                department  \\\n",
       "0  51        No            NaN  2015.722222                       NaN   \n",
       "1  52        No            NaN  2063.388889                       NaN   \n",
       "2  42        No  travel_rarely  1984.253968   Research & Development    \n",
       "3  47        No  travel_rarely  1771.404762                       NaN   \n",
       "4  46        No            NaN  1582.771346                       NaN   \n",
       "\n",
       "   distancefromhome  education    educationfield  employeecount  \\\n",
       "0                 6          3               NaN              1   \n",
       "1                 1          4     Life Sciences              1   \n",
       "2                 4          2  Technical Degree              1   \n",
       "3                 2          4           Medical              1   \n",
       "4                 3          3  Technical Degree              1   \n",
       "\n",
       "   employeenumber  ...  yearsatcompany  yearsincurrentrole  \\\n",
       "0               1  ...              20                 NaN   \n",
       "1               2  ...              33                 NaN   \n",
       "2               3  ...              22                 NaN   \n",
       "3               4  ...              20                 NaN   \n",
       "4               5  ...              19                 NaN   \n",
       "\n",
       "   yearssincelastpromotion  yearswithcurrmanager  sameasmonthlyincome  \\\n",
       "0                       15                    15            16280,83$   \n",
       "1                       11                     9                  NaN   \n",
       "2                       11                    15                  NaN   \n",
       "3                        5                     6            14307,50$   \n",
       "4                        2                     8            12783,92$   \n",
       "\n",
       "  datebirth      salary                       roledepartament numberchildren  \\\n",
       "0      1972  195370,00$                                   NaN            NaN   \n",
       "1      1971  199990,00$                                   NaN            NaN   \n",
       "2      1981  192320,00$   ManaGER  -  Research & Development             NaN   \n",
       "3      1976  171690,00$                                   NaN            NaN   \n",
       "4      1977         NaN                                   NaN            NaN   \n",
       "\n",
       "  remotework  \n",
       "0        Yes  \n",
       "1          1  \n",
       "2          1  \n",
       "3      False  \n",
       "4          0  \n",
       "\n",
       "[5 rows x 41 columns]"
      ]
     },
     "metadata": {},
     "output_type": "display_data"
    }
   ],
   "source": [
    "df = pd.read_csv(\"data.csv\", index_col=0) # cargo el archivo CSV\n",
    "\n",
    "display(df.head())# muestra las 5 primeras filas"
   ]
  },
  {
   "cell_type": "code",
   "execution_count": 4,
   "metadata": {},
   "outputs": [
    {
     "data": {
      "text/plain": [
       "age                            0\n",
       "attrition                      0\n",
       "businesstravel               801\n",
       "dailyrate                      0\n",
       "department                  1366\n",
       "distancefromhome               0\n",
       "education                      0\n",
       "educationfield               774\n",
       "employeecount                  0\n",
       "employeenumber                 0\n",
       "environmentsatisfaction        0\n",
       "gender                         0\n",
       "hourlyrate                  1267\n",
       "jobinvolvement                 0\n",
       "joblevel                       0\n",
       "jobrole                        0\n",
       "jobsatisfaction                0\n",
       "maritalstatus                675\n",
       "monthlyincome                489\n",
       "monthlyrate                    0\n",
       "numcompaniesworked             0\n",
       "over18                       938\n",
       "overtime                     696\n",
       "percentsalaryhike              0\n",
       "performancerating            200\n",
       "relationshipsatisfaction       0\n",
       "standardhours                351\n",
       "stockoptionlevel               0\n",
       "totalworkingyears            549\n",
       "trainingtimeslastyear          0\n",
       "worklifebalance              114\n",
       "yearsatcompany                 0\n",
       "yearsincurrentrole          1643\n",
       "yearssincelastpromotion        0\n",
       "yearswithcurrmanager           0\n",
       "sameasmonthlyincome          489\n",
       "datebirth                      0\n",
       "salary                       285\n",
       "roledepartament             1366\n",
       "numberchildren              1678\n",
       "remotework                     0\n",
       "dtype: int64"
      ]
     },
     "execution_count": 4,
     "metadata": {},
     "output_type": "execute_result"
    }
   ],
   "source": [
    "# Identificar valores nulos: hay varias columnas con valores Nan, hay que ver que columnas tienen esos valores y tomar decisiones.\n",
    "df.isnull().sum()"
   ]
  },
  {
   "cell_type": "code",
   "execution_count": 5,
   "metadata": {},
   "outputs": [
    {
     "data": {
      "text/plain": [
       "age                           0.000000\n",
       "attrition                     0.000000\n",
       "businesstravel               47.735399\n",
       "dailyrate                     0.000000\n",
       "department                   81.406436\n",
       "distancefromhome              0.000000\n",
       "education                     0.000000\n",
       "educationfield               46.126341\n",
       "employeecount                 0.000000\n",
       "employeenumber                0.000000\n",
       "environmentsatisfaction       0.000000\n",
       "gender                        0.000000\n",
       "hourlyrate                   75.506555\n",
       "jobinvolvement                0.000000\n",
       "joblevel                      0.000000\n",
       "jobrole                       0.000000\n",
       "jobsatisfaction               0.000000\n",
       "maritalstatus                40.226460\n",
       "monthlyincome                29.141836\n",
       "monthlyrate                   0.000000\n",
       "numcompaniesworked            0.000000\n",
       "over18                       55.899881\n",
       "overtime                     41.477950\n",
       "percentsalaryhike             0.000000\n",
       "performancerating            11.918951\n",
       "relationshipsatisfaction      0.000000\n",
       "standardhours                20.917759\n",
       "stockoptionlevel              0.000000\n",
       "totalworkingyears            32.717521\n",
       "trainingtimeslastyear         0.000000\n",
       "worklifebalance               6.793802\n",
       "yearsatcompany                0.000000\n",
       "yearsincurrentrole           97.914184\n",
       "yearssincelastpromotion       0.000000\n",
       "yearswithcurrmanager          0.000000\n",
       "sameasmonthlyincome          29.141836\n",
       "datebirth                     0.000000\n",
       "salary                       16.984505\n",
       "roledepartament              81.406436\n",
       "numberchildren              100.000000\n",
       "remotework                    0.000000\n",
       "dtype: float64"
      ]
     },
     "execution_count": 5,
     "metadata": {},
     "output_type": "execute_result"
    }
   ],
   "source": [
    "# para ver porcentaje de valores numos en cada columna:\n",
    "\n",
    "(df.isnull().sum() / len(df)) * 100"
   ]
  },
  {
   "cell_type": "markdown",
   "metadata": {},
   "source": [
    "Eliminar columnas con demasiados nulos (>80%)\n",
    "Si una columna tiene más del 80% de valores nulos, lo mejor es eliminarla, porque tiene poca información útil.\n",
    "Columnas para  eliminar:\n",
    "- \"department\" (81.40%)\n",
    "- \"roledepartament\" (81.40%)\n",
    "- \"numberchildren\" (100%)\n",
    "- \"yearsincurrentrole\" (97.91%)"
   ]
  },
  {
   "cell_type": "code",
   "execution_count": 6,
   "metadata": {},
   "outputs": [],
   "source": [
    "df.drop(columns=[\"department\", \"roledepartament\", \"numberchildren\", \"yearsincurrentrole\"], inplace=True)"
   ]
  },
  {
   "cell_type": "code",
   "execution_count": 7,
   "metadata": {},
   "outputs": [
    {
     "data": {
      "text/html": [
       "<div>\n",
       "<style scoped>\n",
       "    .dataframe tbody tr th:only-of-type {\n",
       "        vertical-align: middle;\n",
       "    }\n",
       "\n",
       "    .dataframe tbody tr th {\n",
       "        vertical-align: top;\n",
       "    }\n",
       "\n",
       "    .dataframe thead th {\n",
       "        text-align: right;\n",
       "    }\n",
       "</style>\n",
       "<table border=\"1\" class=\"dataframe\">\n",
       "  <thead>\n",
       "    <tr style=\"text-align: right;\">\n",
       "      <th></th>\n",
       "      <th>age</th>\n",
       "      <th>attrition</th>\n",
       "      <th>businesstravel</th>\n",
       "      <th>dailyrate</th>\n",
       "      <th>distancefromhome</th>\n",
       "      <th>education</th>\n",
       "      <th>educationfield</th>\n",
       "      <th>employeecount</th>\n",
       "      <th>employeenumber</th>\n",
       "      <th>environmentsatisfaction</th>\n",
       "      <th>...</th>\n",
       "      <th>totalworkingyears</th>\n",
       "      <th>trainingtimeslastyear</th>\n",
       "      <th>worklifebalance</th>\n",
       "      <th>yearsatcompany</th>\n",
       "      <th>yearssincelastpromotion</th>\n",
       "      <th>yearswithcurrmanager</th>\n",
       "      <th>sameasmonthlyincome</th>\n",
       "      <th>datebirth</th>\n",
       "      <th>salary</th>\n",
       "      <th>remotework</th>\n",
       "    </tr>\n",
       "  </thead>\n",
       "  <tbody>\n",
       "    <tr>\n",
       "      <th>0</th>\n",
       "      <td>51</td>\n",
       "      <td>No</td>\n",
       "      <td>NaN</td>\n",
       "      <td>2015.722222</td>\n",
       "      <td>6</td>\n",
       "      <td>3</td>\n",
       "      <td>NaN</td>\n",
       "      <td>1</td>\n",
       "      <td>1</td>\n",
       "      <td>1</td>\n",
       "      <td>...</td>\n",
       "      <td>NaN</td>\n",
       "      <td>5</td>\n",
       "      <td>3,0</td>\n",
       "      <td>20</td>\n",
       "      <td>15</td>\n",
       "      <td>15</td>\n",
       "      <td>16280,83$</td>\n",
       "      <td>1972</td>\n",
       "      <td>195370,00$</td>\n",
       "      <td>Yes</td>\n",
       "    </tr>\n",
       "    <tr>\n",
       "      <th>1</th>\n",
       "      <td>52</td>\n",
       "      <td>No</td>\n",
       "      <td>NaN</td>\n",
       "      <td>2063.388889</td>\n",
       "      <td>1</td>\n",
       "      <td>4</td>\n",
       "      <td>Life Sciences</td>\n",
       "      <td>1</td>\n",
       "      <td>2</td>\n",
       "      <td>3</td>\n",
       "      <td>...</td>\n",
       "      <td>34,0</td>\n",
       "      <td>5</td>\n",
       "      <td>3,0</td>\n",
       "      <td>33</td>\n",
       "      <td>11</td>\n",
       "      <td>9</td>\n",
       "      <td>NaN</td>\n",
       "      <td>1971</td>\n",
       "      <td>199990,00$</td>\n",
       "      <td>1</td>\n",
       "    </tr>\n",
       "    <tr>\n",
       "      <th>2</th>\n",
       "      <td>42</td>\n",
       "      <td>No</td>\n",
       "      <td>travel_rarely</td>\n",
       "      <td>1984.253968</td>\n",
       "      <td>4</td>\n",
       "      <td>2</td>\n",
       "      <td>Technical Degree</td>\n",
       "      <td>1</td>\n",
       "      <td>3</td>\n",
       "      <td>3</td>\n",
       "      <td>...</td>\n",
       "      <td>22,0</td>\n",
       "      <td>3</td>\n",
       "      <td>NaN</td>\n",
       "      <td>22</td>\n",
       "      <td>11</td>\n",
       "      <td>15</td>\n",
       "      <td>NaN</td>\n",
       "      <td>1981</td>\n",
       "      <td>192320,00$</td>\n",
       "      <td>1</td>\n",
       "    </tr>\n",
       "    <tr>\n",
       "      <th>3</th>\n",
       "      <td>47</td>\n",
       "      <td>No</td>\n",
       "      <td>travel_rarely</td>\n",
       "      <td>1771.404762</td>\n",
       "      <td>2</td>\n",
       "      <td>4</td>\n",
       "      <td>Medical</td>\n",
       "      <td>1</td>\n",
       "      <td>4</td>\n",
       "      <td>1</td>\n",
       "      <td>...</td>\n",
       "      <td>NaN</td>\n",
       "      <td>2</td>\n",
       "      <td>NaN</td>\n",
       "      <td>20</td>\n",
       "      <td>5</td>\n",
       "      <td>6</td>\n",
       "      <td>14307,50$</td>\n",
       "      <td>1976</td>\n",
       "      <td>171690,00$</td>\n",
       "      <td>False</td>\n",
       "    </tr>\n",
       "    <tr>\n",
       "      <th>4</th>\n",
       "      <td>46</td>\n",
       "      <td>No</td>\n",
       "      <td>NaN</td>\n",
       "      <td>1582.771346</td>\n",
       "      <td>3</td>\n",
       "      <td>3</td>\n",
       "      <td>Technical Degree</td>\n",
       "      <td>1</td>\n",
       "      <td>5</td>\n",
       "      <td>1</td>\n",
       "      <td>...</td>\n",
       "      <td>NaN</td>\n",
       "      <td>5</td>\n",
       "      <td>3,0</td>\n",
       "      <td>19</td>\n",
       "      <td>2</td>\n",
       "      <td>8</td>\n",
       "      <td>12783,92$</td>\n",
       "      <td>1977</td>\n",
       "      <td>NaN</td>\n",
       "      <td>0</td>\n",
       "    </tr>\n",
       "  </tbody>\n",
       "</table>\n",
       "<p>5 rows × 37 columns</p>\n",
       "</div>"
      ],
      "text/plain": [
       "  age attrition businesstravel    dailyrate  distancefromhome  education  \\\n",
       "0  51        No            NaN  2015.722222                 6          3   \n",
       "1  52        No            NaN  2063.388889                 1          4   \n",
       "2  42        No  travel_rarely  1984.253968                 4          2   \n",
       "3  47        No  travel_rarely  1771.404762                 2          4   \n",
       "4  46        No            NaN  1582.771346                 3          3   \n",
       "\n",
       "     educationfield  employeecount  employeenumber  environmentsatisfaction  \\\n",
       "0               NaN              1               1                        1   \n",
       "1     Life Sciences              1               2                        3   \n",
       "2  Technical Degree              1               3                        3   \n",
       "3           Medical              1               4                        1   \n",
       "4  Technical Degree              1               5                        1   \n",
       "\n",
       "   ...  totalworkingyears  trainingtimeslastyear  worklifebalance  \\\n",
       "0  ...                NaN                      5              3,0   \n",
       "1  ...               34,0                      5              3,0   \n",
       "2  ...               22,0                      3              NaN   \n",
       "3  ...                NaN                      2              NaN   \n",
       "4  ...                NaN                      5              3,0   \n",
       "\n",
       "   yearsatcompany yearssincelastpromotion  yearswithcurrmanager  \\\n",
       "0              20                      15                    15   \n",
       "1              33                      11                     9   \n",
       "2              22                      11                    15   \n",
       "3              20                       5                     6   \n",
       "4              19                       2                     8   \n",
       "\n",
       "  sameasmonthlyincome datebirth      salary  remotework  \n",
       "0           16280,83$      1972  195370,00$         Yes  \n",
       "1                 NaN      1971  199990,00$           1  \n",
       "2                 NaN      1981  192320,00$           1  \n",
       "3           14307,50$      1976  171690,00$       False  \n",
       "4           12783,92$      1977         NaN           0  \n",
       "\n",
       "[5 rows x 37 columns]"
      ]
     },
     "execution_count": 7,
     "metadata": {},
     "output_type": "execute_result"
    }
   ],
   "source": [
    "df.head() # vemos que hay 37 columnas ahora, se han eliminado bien."
   ]
  },
  {
   "cell_type": "code",
   "execution_count": 8,
   "metadata": {},
   "outputs": [
    {
     "data": {
      "text/plain": [
       "businesstravel          object\n",
       "educationfield          object\n",
       "maritalstatus           object\n",
       "overtime                object\n",
       "performancerating       object\n",
       "hourlyrate             float64\n",
       "monthlyincome           object\n",
       "over18                  object\n",
       "standardhours           object\n",
       "worklifebalance         object\n",
       "sameasmonthlyincome     object\n",
       "salary                  object\n",
       "totalworkingyears       object\n",
       "dtype: object"
      ]
     },
     "execution_count": 8,
     "metadata": {},
     "output_type": "execute_result"
    }
   ],
   "source": [
    "df.dtypes[[\"businesstravel\", \"educationfield\",\"maritalstatus\" , \"overtime\", \"performancerating\" , \"hourlyrate\", \"monthlyincome\", \"over18\", \"standardhours\", \"worklifebalance\", \"sameasmonthlyincome\", \"salary\", \"totalworkingyears\"]]"
   ]
  },
  {
   "cell_type": "markdown",
   "metadata": {},
   "source": [
    "Cambiar datos NaN a Null: \n",
    "Chatgpt\n",
    "pd.notna(df[col]) es una función de Pandas que nos ayuda a identificar qué valores NO son NaN dentro de una columna. \n",
    "\n",
    "¿Qué hace pd.notna(df[col])?\n",
    "\n",
    "Esta función devuelve un array de valores True o False, donde:\n",
    "✅ True → Significa que el valor NO es NaN (es decir, hay un dato válido).\n",
    "❌ False → Significa que el valor ES NaN (es decir, falta información)."
   ]
  },
  {
   "cell_type": "code",
   "execution_count": 9,
   "metadata": {},
   "outputs": [],
   "source": [
    "#  transformar esta columna en formato INT.\n",
    "\n",
    "df[\"performancerating\"] = df[\"performancerating\"].astype(str).str.replace(\",\", \".\").astype(float)\n",
    "\n",
    "# .astype(str) -> Convierte todos los valores en texto.\n",
    "# .str.replace(\",\", \".\") -> Reemplaza las comas por puntos.\n",
    "# .astype(float) -> Convierte la columna a número"
   ]
  },
  {
   "cell_type": "code",
   "execution_count": 10,
   "metadata": {},
   "outputs": [
    {
     "data": {
      "text/plain": [
       "dtype('float64')"
      ]
     },
     "execution_count": 10,
     "metadata": {},
     "output_type": "execute_result"
    }
   ],
   "source": [
    "df[\"performancerating\"].dtype"
   ]
  },
  {
   "cell_type": "code",
   "execution_count": 11,
   "metadata": {},
   "outputs": [
    {
     "data": {
      "text/plain": [
       "0    3.0\n",
       "1    3.0\n",
       "2    3.0\n",
       "3    3.0\n",
       "4    3.0\n",
       "Name: performancerating, dtype: float64"
      ]
     },
     "execution_count": 11,
     "metadata": {},
     "output_type": "execute_result"
    }
   ],
   "source": [
    "df[\"performancerating\"].head()"
   ]
  },
  {
   "cell_type": "code",
   "execution_count": 12,
   "metadata": {},
   "outputs": [],
   "source": [
    "# para una sola columna seria:\n",
    "\n",
    "df[\"salary\"] = df[\"salary\"].where(pd.notna(df[\"salary\"]), None)\n",
    "\n",
    "# Explicación del código:\n",
    "#  pd.notna(df[\"salary\"]) detecta los valores no nulos (True) y los valores NaN (False).\n",
    "#  .where(pd.notna(df[\"salary\"]), None) mantiene los valores True (no NaN) y reemplaza los False (NaN) con None."
   ]
  },
  {
   "cell_type": "code",
   "execution_count": 13,
   "metadata": {},
   "outputs": [
    {
     "data": {
      "text/plain": [
       "np.int64(285)"
      ]
     },
     "execution_count": 13,
     "metadata": {},
     "output_type": "execute_result"
    }
   ],
   "source": [
    "df[\"salary\"].isnull().sum()"
   ]
  },
  {
   "cell_type": "code",
   "execution_count": 14,
   "metadata": {},
   "outputs": [
    {
     "data": {
      "text/plain": [
       "538      53914,11$\n",
       "309      52570,00$\n",
       "855      53914,11$\n",
       "1231     28111,13$\n",
       "690      53914,11$\n",
       "899      26540,00$\n",
       "1345     21210,00$\n",
       "425      53914,11$\n",
       "606      53914,11$\n",
       "130     191324,62$\n",
       "Name: salary, dtype: object"
      ]
     },
     "execution_count": 14,
     "metadata": {},
     "output_type": "execute_result"
    }
   ],
   "source": [
    "# reviso la columna y ya esta cambiado NaN por None.\n",
    "\n",
    "df[\"salary\"].sample(10)"
   ]
  },
  {
   "cell_type": "code",
   "execution_count": 15,
   "metadata": {},
   "outputs": [],
   "source": [
    "# Voy a cambiar los datos NaN que dan error en SQL por None en las columnas que faltan.\n",
    "\n",
    "columnas_a_convertir = [\"businesstravel\", \"educationfield\",\"maritalstatus\" , \"overtime\", \"performancerating\" , \"hourlyrate\", \"monthlyincome\", \"over18\", \"standardhours\", \"worklifebalance\", \"sameasmonthlyincome\", \"salary\", \"totalworkingyears\"]\n",
    "for col in columnas_a_convertir:\n",
    "    df[col] = df[col].where(pd.notna(df[col]), None)\n",
    "\n",
    "# pd.notna(df[col]) -> Detecta los valores que no son NaN.\n",
    "# .where(...) -> Mantiene los valores correctos y reemplaza los NaN con None."
   ]
  },
  {
   "cell_type": "code",
   "execution_count": 16,
   "metadata": {},
   "outputs": [
    {
     "data": {
      "text/html": [
       "<div>\n",
       "<style scoped>\n",
       "    .dataframe tbody tr th:only-of-type {\n",
       "        vertical-align: middle;\n",
       "    }\n",
       "\n",
       "    .dataframe tbody tr th {\n",
       "        vertical-align: top;\n",
       "    }\n",
       "\n",
       "    .dataframe thead th {\n",
       "        text-align: right;\n",
       "    }\n",
       "</style>\n",
       "<table border=\"1\" class=\"dataframe\">\n",
       "  <thead>\n",
       "    <tr style=\"text-align: right;\">\n",
       "      <th></th>\n",
       "      <th>hourlyrate</th>\n",
       "      <th>monthlyincome</th>\n",
       "      <th>over18</th>\n",
       "      <th>standardhours</th>\n",
       "      <th>worklifebalance</th>\n",
       "      <th>sameasmonthlyincome</th>\n",
       "      <th>salary</th>\n",
       "      <th>totalworkingyears</th>\n",
       "    </tr>\n",
       "  </thead>\n",
       "  <tbody>\n",
       "    <tr>\n",
       "      <th>285</th>\n",
       "      <td>NaN</td>\n",
       "      <td>None</td>\n",
       "      <td>None</td>\n",
       "      <td>Full Time</td>\n",
       "      <td>3,0</td>\n",
       "      <td>None</td>\n",
       "      <td>153407,07$</td>\n",
       "      <td>None</td>\n",
       "    </tr>\n",
       "    <tr>\n",
       "      <th>540</th>\n",
       "      <td>NaN</td>\n",
       "      <td>5228,33$</td>\n",
       "      <td>Y</td>\n",
       "      <td>Full Time</td>\n",
       "      <td>3,0</td>\n",
       "      <td>5228,33$</td>\n",
       "      <td>62740,00$</td>\n",
       "      <td>6,0</td>\n",
       "    </tr>\n",
       "    <tr>\n",
       "      <th>1573</th>\n",
       "      <td>69.532083</td>\n",
       "      <td>4492,84$</td>\n",
       "      <td>Y</td>\n",
       "      <td>Part Time</td>\n",
       "      <td>3,0</td>\n",
       "      <td>4492,84$</td>\n",
       "      <td>53914,11$</td>\n",
       "      <td>10,0</td>\n",
       "    </tr>\n",
       "    <tr>\n",
       "      <th>612</th>\n",
       "      <td>217.762897</td>\n",
       "      <td>None</td>\n",
       "      <td>Y</td>\n",
       "      <td>Full Time</td>\n",
       "      <td>2,0</td>\n",
       "      <td>None</td>\n",
       "      <td>168850,00$</td>\n",
       "      <td>None</td>\n",
       "    </tr>\n",
       "    <tr>\n",
       "      <th>749</th>\n",
       "      <td>118.702381</td>\n",
       "      <td>7670,00$</td>\n",
       "      <td>None</td>\n",
       "      <td>Full Time</td>\n",
       "      <td>None</td>\n",
       "      <td>7670,00$</td>\n",
       "      <td>92040,00$</td>\n",
       "      <td>7,0</td>\n",
       "    </tr>\n",
       "    <tr>\n",
       "      <th>1187</th>\n",
       "      <td>NaN</td>\n",
       "      <td>None</td>\n",
       "      <td>Y</td>\n",
       "      <td>Full Time</td>\n",
       "      <td>3,0</td>\n",
       "      <td>None</td>\n",
       "      <td>171590,00$</td>\n",
       "      <td>None</td>\n",
       "    </tr>\n",
       "    <tr>\n",
       "      <th>1143</th>\n",
       "      <td>104.502976</td>\n",
       "      <td>6752,50$</td>\n",
       "      <td>None</td>\n",
       "      <td>Full Time</td>\n",
       "      <td>2,0</td>\n",
       "      <td>6752,50$</td>\n",
       "      <td>81030,00$</td>\n",
       "      <td>9,0</td>\n",
       "    </tr>\n",
       "    <tr>\n",
       "      <th>1537</th>\n",
       "      <td>NaN</td>\n",
       "      <td>4492,84$</td>\n",
       "      <td>None</td>\n",
       "      <td>None</td>\n",
       "      <td>3,0</td>\n",
       "      <td>4492,84$</td>\n",
       "      <td>None</td>\n",
       "      <td>None</td>\n",
       "    </tr>\n",
       "    <tr>\n",
       "      <th>595</th>\n",
       "      <td>129.060911</td>\n",
       "      <td>None</td>\n",
       "      <td>Y</td>\n",
       "      <td>Part Time</td>\n",
       "      <td>2,0</td>\n",
       "      <td>None</td>\n",
       "      <td>100071,84$</td>\n",
       "      <td>10,0</td>\n",
       "    </tr>\n",
       "    <tr>\n",
       "      <th>1121</th>\n",
       "      <td>NaN</td>\n",
       "      <td>4492,84$</td>\n",
       "      <td>None</td>\n",
       "      <td>None</td>\n",
       "      <td>3,0</td>\n",
       "      <td>4492,84$</td>\n",
       "      <td>None</td>\n",
       "      <td>None</td>\n",
       "    </tr>\n",
       "  </tbody>\n",
       "</table>\n",
       "</div>"
      ],
      "text/plain": [
       "      hourlyrate monthlyincome over18 standardhours worklifebalance  \\\n",
       "285          NaN          None   None     Full Time             3,0   \n",
       "540          NaN      5228,33$      Y     Full Time             3,0   \n",
       "1573   69.532083      4492,84$      Y     Part Time             3,0   \n",
       "612   217.762897          None      Y     Full Time             2,0   \n",
       "749   118.702381      7670,00$   None     Full Time            None   \n",
       "1187         NaN          None      Y     Full Time             3,0   \n",
       "1143  104.502976      6752,50$   None     Full Time             2,0   \n",
       "1537         NaN      4492,84$   None          None             3,0   \n",
       "595   129.060911          None      Y     Part Time             2,0   \n",
       "1121         NaN      4492,84$   None          None             3,0   \n",
       "\n",
       "     sameasmonthlyincome      salary totalworkingyears  \n",
       "285                 None  153407,07$              None  \n",
       "540             5228,33$   62740,00$               6,0  \n",
       "1573            4492,84$   53914,11$              10,0  \n",
       "612                 None  168850,00$              None  \n",
       "749             7670,00$   92040,00$               7,0  \n",
       "1187                None  171590,00$              None  \n",
       "1143            6752,50$   81030,00$               9,0  \n",
       "1537            4492,84$        None              None  \n",
       "595                 None  100071,84$              10,0  \n",
       "1121            4492,84$        None              None  "
      ]
     },
     "execution_count": 16,
     "metadata": {},
     "output_type": "execute_result"
    }
   ],
   "source": [
    "df[[\"hourlyrate\", \"monthlyincome\", \"over18\", \"standardhours\", \"worklifebalance\", \"sameasmonthlyincome\", \"salary\",\"totalworkingyears\"]].sample(10)"
   ]
  },
  {
   "cell_type": "markdown",
   "metadata": {},
   "source": [
    "Siguientes pasos:\n",
    "\n",
    "- hay simbolo $ en valores de columna de precios o sueldos, mejor quitarlo y poner el $ en el nombre de la columna.\n",
    "- hay textos escritos con errores tipograficos \n",
    "- hay textos escritos diferentes, con mayusculas o minusculas.\n",
    "- hay espacios delante o detras en algunos OBJECTS.\n",
    "- cambiar gender de 0-1 a Male o Female."
   ]
  },
  {
   "cell_type": "markdown",
   "metadata": {},
   "source": [
    "# Posibilidad de Rellenar valores nulos con datos adecuados\n",
    "\n",
    "Algunas columnas tienen nulos moderados (10-50%), se puede rellenar con valores adecuados.\n",
    "-> Posibles opciones de relleno:\n",
    "\"businesstravel\" -> Rellenar con \"No Travel\" (si el nulo significa que no viajan).\n",
    "\"educationfield\" -> Rellenar con \"Unknown\" si no conocemos el campo de estudio.\n",
    "\"maritalstatus\" -> Rellenar con \"Single\" (opción estándar si faltan datos).\n",
    "\"overtime\" -> Rellenar con \"No\" (asumiendo que el nulo significa que no hacen horas extra).\n",
    "\"performancerating\" -> Rellenar con la media o mediana o poner none"
   ]
  },
  {
   "cell_type": "markdown",
   "metadata": {},
   "source": [
    "---------------------------------------------------------------------------------------------------------"
   ]
  },
  {
   "cell_type": "markdown",
   "metadata": {},
   "source": [
    "LIMPIEZA DATA COLUMNAS:  'age', 'attrition', 'businesstravel', 'department', 'educationfield',\n",
    "       'jobrole', 'maritalstatus', 'monthlyincome', 'monthlyrate', 'over18'"
   ]
  },
  {
   "cell_type": "code",
   "execution_count": 17,
   "metadata": {},
   "outputs": [],
   "source": [
    "# 1. EXPLORAR COLUMNAS:"
   ]
  },
  {
   "cell_type": "code",
   "execution_count": 18,
   "metadata": {},
   "outputs": [
    {
     "data": {
      "text/plain": [
       "['age',\n",
       " 'attrition',\n",
       " 'businesstravel',\n",
       " 'dailyrate',\n",
       " 'distancefromhome',\n",
       " 'education',\n",
       " 'educationfield',\n",
       " 'employeecount',\n",
       " 'employeenumber',\n",
       " 'environmentsatisfaction',\n",
       " 'gender',\n",
       " 'hourlyrate',\n",
       " 'jobinvolvement',\n",
       " 'joblevel',\n",
       " 'jobrole',\n",
       " 'jobsatisfaction',\n",
       " 'maritalstatus',\n",
       " 'monthlyincome',\n",
       " 'monthlyrate',\n",
       " 'numcompaniesworked',\n",
       " 'over18',\n",
       " 'overtime',\n",
       " 'percentsalaryhike',\n",
       " 'performancerating',\n",
       " 'relationshipsatisfaction',\n",
       " 'standardhours',\n",
       " 'stockoptionlevel',\n",
       " 'totalworkingyears',\n",
       " 'trainingtimeslastyear',\n",
       " 'worklifebalance',\n",
       " 'yearsatcompany',\n",
       " 'yearssincelastpromotion',\n",
       " 'yearswithcurrmanager',\n",
       " 'sameasmonthlyincome',\n",
       " 'datebirth',\n",
       " 'salary',\n",
       " 'remotework']"
      ]
     },
     "execution_count": 18,
     "metadata": {},
     "output_type": "execute_result"
    }
   ],
   "source": [
    "df.columns.tolist() # saco los nombres de las columnas en una lista.\n"
   ]
  },
  {
   "cell_type": "code",
   "execution_count": 19,
   "metadata": {},
   "outputs": [
    {
     "data": {
      "text/html": [
       "<div>\n",
       "<style scoped>\n",
       "    .dataframe tbody tr th:only-of-type {\n",
       "        vertical-align: middle;\n",
       "    }\n",
       "\n",
       "    .dataframe tbody tr th {\n",
       "        vertical-align: top;\n",
       "    }\n",
       "\n",
       "    .dataframe thead th {\n",
       "        text-align: right;\n",
       "    }\n",
       "</style>\n",
       "<table border=\"1\" class=\"dataframe\">\n",
       "  <thead>\n",
       "    <tr style=\"text-align: right;\">\n",
       "      <th></th>\n",
       "      <th>age</th>\n",
       "      <th>attrition</th>\n",
       "      <th>businesstravel</th>\n",
       "      <th>educationfield</th>\n",
       "      <th>jobrole</th>\n",
       "      <th>maritalstatus</th>\n",
       "      <th>monthlyincome</th>\n",
       "      <th>monthlyrate</th>\n",
       "      <th>over18</th>\n",
       "    </tr>\n",
       "  </thead>\n",
       "  <tbody>\n",
       "    <tr>\n",
       "      <th>0</th>\n",
       "      <td>51</td>\n",
       "      <td>No</td>\n",
       "      <td>None</td>\n",
       "      <td>None</td>\n",
       "      <td>resEArch DIREcToR</td>\n",
       "      <td>None</td>\n",
       "      <td>16280,83$</td>\n",
       "      <td>42330,17$</td>\n",
       "      <td>Y</td>\n",
       "    </tr>\n",
       "    <tr>\n",
       "      <th>1</th>\n",
       "      <td>52</td>\n",
       "      <td>No</td>\n",
       "      <td>None</td>\n",
       "      <td>Life Sciences</td>\n",
       "      <td>ManAGeR</td>\n",
       "      <td>None</td>\n",
       "      <td>None</td>\n",
       "      <td>43331,17$</td>\n",
       "      <td>None</td>\n",
       "    </tr>\n",
       "    <tr>\n",
       "      <th>2</th>\n",
       "      <td>42</td>\n",
       "      <td>No</td>\n",
       "      <td>travel_rarely</td>\n",
       "      <td>Technical Degree</td>\n",
       "      <td>ManaGER</td>\n",
       "      <td>Married</td>\n",
       "      <td>None</td>\n",
       "      <td>41669,33$</td>\n",
       "      <td>None</td>\n",
       "    </tr>\n",
       "  </tbody>\n",
       "</table>\n",
       "</div>"
      ],
      "text/plain": [
       "  age attrition businesstravel    educationfield              jobrole  \\\n",
       "0  51        No           None              None   resEArch DIREcToR    \n",
       "1  52        No           None     Life Sciences             ManAGeR    \n",
       "2  42        No  travel_rarely  Technical Degree             ManaGER    \n",
       "\n",
       "  maritalstatus monthlyincome monthlyrate over18  \n",
       "0          None     16280,83$   42330,17$      Y  \n",
       "1          None          None   43331,17$   None  \n",
       "2       Married          None   41669,33$   None  "
      ]
     },
     "execution_count": 19,
     "metadata": {},
     "output_type": "execute_result"
    }
   ],
   "source": [
    "df[['age', 'attrition', 'businesstravel', 'educationfield','jobrole', 'maritalstatus', 'monthlyincome', 'monthlyrate', 'over18']].head(3)\n"
   ]
  },
  {
   "cell_type": "code",
   "execution_count": 20,
   "metadata": {},
   "outputs": [
    {
     "data": {
      "text/plain": [
       "age               object\n",
       "attrition         object\n",
       "businesstravel    object\n",
       "educationfield    object\n",
       "jobrole           object\n",
       "maritalstatus     object\n",
       "monthlyincome     object\n",
       "monthlyrate       object\n",
       "over18            object\n",
       "dtype: object"
      ]
     },
     "execution_count": 20,
     "metadata": {},
     "output_type": "execute_result"
    }
   ],
   "source": [
    "df[['age', 'attrition', 'businesstravel', 'educationfield','jobrole', 'maritalstatus', 'monthlyincome', 'monthlyrate', 'over18']].dtypes"
   ]
  },
  {
   "cell_type": "markdown",
   "metadata": {},
   "source": [
    "*** AGE ***"
   ]
  },
  {
   "cell_type": "code",
   "execution_count": 67,
   "metadata": {},
   "outputs": [
    {
     "data": {
      "text/plain": [
       "1060    44\n",
       "1127    31\n",
       "959     35\n",
       "889     36\n",
       "1349    40\n",
       "1252    34\n",
       "1454    44\n",
       "242     54\n",
       "815     46\n",
       "974     35\n",
       "717     25\n",
       "827     51\n",
       "1476    55\n",
       "888     49\n",
       "415     36\n",
       "Name: age, dtype: int64"
      ]
     },
     "execution_count": 67,
     "metadata": {},
     "output_type": "execute_result"
    }
   ],
   "source": [
    "# analizo columna AGE: son edades pero aparece como objetc, hay que pasarlo a INT.\n",
    "\n",
    "df['age'].sample(15)\n",
    "\n",
    "# vemos que hay algunos valores escritos en letra."
   ]
  },
  {
   "cell_type": "code",
   "execution_count": 22,
   "metadata": {},
   "outputs": [],
   "source": [
    "df[\"age\"] = df[\"age\"].str.strip() # primero quito los posibles espacios que puedan haber antes o despues del numero."
   ]
  },
  {
   "cell_type": "markdown",
   "metadata": {},
   "source": [
    "- He intentado cambiar el tipo de columna con .astype() pero me ha estado dando error hasta que he visto que hay numeros escritos en letra en ingles.\n",
    "\n",
    "-> df[\"age\"] = df[\"age\"].astype(int)  # astype() se usa para cambiar el tipo de dato de una columna \n",
    "\n",
    "- esto da error puesto que hay numeros escritos en ingles y eso no se puede convertir directamente con .astype()"
   ]
  },
  {
   "cell_type": "markdown",
   "metadata": {},
   "source": [
    "Podria solucionar esto de dos formas:\n",
    "- Creando un diccionario a mano con las palabras como clave y el numero como valor y luego definiendo una funcion para cambiarlo:\n",
    "        * numeros = { \"eighteen\":18, \"nineteen\":19, \"twenty\": 20....}\n",
    "\n",
    "- usar una libreria externa WORD2NUMBER que hace justo eso: convierte texto en ingles a número. Se instala como todas:\n",
    "    pip install word2number\n",
    "    from word2number import w2n\n",
    "\n",
    "    w2n.word_to_num(\"forty_seven\") -> devuelte 47 en numero \n",
    "\n",
    "    la libreria es mas rapido y limpio"
   ]
  },
  {
   "cell_type": "code",
   "execution_count": 23,
   "metadata": {},
   "outputs": [],
   "source": [
    "# pip install word2number    como ya he hecho el pip install no inhabilito."
   ]
  },
  {
   "cell_type": "code",
   "execution_count": 24,
   "metadata": {},
   "outputs": [],
   "source": [
    "from word2number import w2n"
   ]
  },
  {
   "cell_type": "code",
   "execution_count": 25,
   "metadata": {},
   "outputs": [],
   "source": [
    "# ya he importado la libreria, hago una funcion para limpiar la columna age:\n",
    "# necesito pasarlo todo a texto/string primero.\n",
    "\n",
    "def convertir_edad(valor):  # Definimos la función. Le pasaremos una edad, que puede ser: un numero (\"42\"), un string o un Nulo (NaN)\n",
    "    if pd.isnull(valor):    # Si el valor es nulo (NaN), lo dejamos como None. \n",
    "        return None\n",
    "    valor = str(valor).strip().lower() # str(valor) lo convierte a texto/string por si viene como numero, con .strip() elimino posibles espacios y .lower()lo paso todo a minusculas.\n",
    "    try:\n",
    "        return int(valor) if valor.isdigit() else w2n.word_to_num(valor)  # si el valor es .isdigit() significa que es un numero tipo \"42\" y uso INT para convertirlo, si no es numero sino letra (forty-two) uso w2n para traducirlo.\n",
    "    except:\n",
    "        return None  # Por si hay algún texto no válido\n",
    "\n",
    "\n",
    "#con el try me aseguro de cambiar a INT si es un \"35\" y me de 35 y si esta escrito \"twenty\" uso w2n para que me de 20 en INT"
   ]
  },
  {
   "cell_type": "code",
   "execution_count": 26,
   "metadata": {},
   "outputs": [],
   "source": [
    "df[\"age\"] = df[\"age\"].apply(convertir_edad)\n",
    "\n",
    "# con apply aplico la funcion que acabo de hacer a cada fila de la columna AGE para que realice los cambios a INT. \n",
    "# El resultado se guarda en la misma columna.\n"
   ]
  },
  {
   "cell_type": "code",
   "execution_count": 68,
   "metadata": {},
   "outputs": [
    {
     "data": {
      "text/plain": [
       "0    51\n",
       "1    52\n",
       "2    42\n",
       "3    47\n",
       "4    46\n",
       "Name: age, dtype: int64"
      ]
     },
     "execution_count": 68,
     "metadata": {},
     "output_type": "execute_result"
    }
   ],
   "source": [
    "df[\"age\"].head(5)\n",
    "\n",
    "# ya aparece como INT."
   ]
  },
  {
   "cell_type": "markdown",
   "metadata": {},
   "source": [
    "RESUMEN DE CAMBIOS DE AGE:\n",
    "- .strip()\n",
    "Elimina espacios en blanco al principio y al final de un string.\n",
    "Ejemplo: ' hola '.strip() → 'hola'\n",
    "- .isdigit()\n",
    "Devuelve True si todos los caracteres del string son dígitos (números enteros positivos).\n",
    "Ejemplo: '42'.isdigit() → True, 'forty-two'.isdigit() → False.  No detecta decimales, negativos ni espacios. \n",
    "- .apply()\n",
    "Aplica una función a cada valor de una columna (o fila si se usa con axis=1).\n",
    "El resultado se guarda en la columna.\n"
   ]
  },
  {
   "cell_type": "markdown",
   "metadata": {},
   "source": [
    "*** attrition ***"
   ]
  },
  {
   "cell_type": "code",
   "execution_count": 28,
   "metadata": {},
   "outputs": [
    {
     "data": {
      "text/plain": [
       "0    No\n",
       "1    No\n",
       "2    No\n",
       "3    No\n",
       "4    No\n",
       "Name: attrition, dtype: object"
      ]
     },
     "execution_count": 28,
     "metadata": {},
     "output_type": "execute_result"
    }
   ],
   "source": [
    "df['attrition'].head()\n",
    "\n",
    "# pasar a minusculas\n",
    "# quitar posibles espacios."
   ]
  },
  {
   "cell_type": "code",
   "execution_count": 29,
   "metadata": {},
   "outputs": [],
   "source": [
    "df[\"attrition\"] = df[\"attrition\"].str.strip().str.lower()\n",
    "\n",
    "# .str.strip().str.lower() limpia espacios y pone todo en minúsculas."
   ]
  },
  {
   "cell_type": "code",
   "execution_count": 30,
   "metadata": {},
   "outputs": [
    {
     "data": {
      "text/plain": [
       "967    yes\n",
       "374     no\n",
       "876     no\n",
       "Name: attrition, dtype: object"
      ]
     },
     "execution_count": 30,
     "metadata": {},
     "output_type": "execute_result"
    }
   ],
   "source": [
    "df['attrition'].sample(3)"
   ]
  },
  {
   "cell_type": "markdown",
   "metadata": {},
   "source": [
    "*** Businesstravel ***"
   ]
  },
  {
   "cell_type": "code",
   "execution_count": 72,
   "metadata": {},
   "outputs": [
    {
     "data": {
      "text/plain": [
       "848              None\n",
       "1274    travel rarely\n",
       "1410             None\n",
       "1096    travel rarely\n",
       "329     travel rarely\n",
       "Name: businesstravel, dtype: object"
      ]
     },
     "execution_count": 72,
     "metadata": {},
     "output_type": "execute_result"
    }
   ],
   "source": [
    "df[\"businesstravel\"].sample(5)\n",
    "\n",
    "# quitar espacios\n",
    "# poner todo en minusculas\n",
    "# quitar los _ y dejar espacios \" \""
   ]
  },
  {
   "cell_type": "code",
   "execution_count": 32,
   "metadata": {},
   "outputs": [],
   "source": [
    "df[\"businesstravel\"] = (df[\"businesstravel\"].str.strip().str.lower().str.replace(\"_\", \" \"))\n",
    "\n",
    "# .str.replace(\"_\", \" \"): cambia guiones por espacios.\n",
    "# .str.lower(): pone todo en minusculas.\n",
    "# .str.strip(): limpia espacios extra."
   ]
  },
  {
   "cell_type": "code",
   "execution_count": 33,
   "metadata": {},
   "outputs": [
    {
     "data": {
      "text/plain": [
       "1117             None\n",
       "622     travel rarely\n",
       "1423             None\n",
       "26               None\n",
       "169              None\n",
       "Name: businesstravel, dtype: object"
      ]
     },
     "execution_count": 33,
     "metadata": {},
     "output_type": "execute_result"
    }
   ],
   "source": [
    "df[\"businesstravel\"].sample(5)\n",
    "\n",
    "# al revisar veo que tambien hay guion medio en algunos valores."
   ]
  },
  {
   "cell_type": "code",
   "execution_count": 34,
   "metadata": {},
   "outputs": [],
   "source": [
    "df[\"businesstravel\"] = (df[\"businesstravel\"].str.strip().str.lower().str.replace(\"_\", \" \").str.replace(\"-\", \" \"))\n",
    "\n",
    "# aqui incluyo el .replace del guion medio que no me habia dado cuenta antes."
   ]
  },
  {
   "cell_type": "code",
   "execution_count": 35,
   "metadata": {},
   "outputs": [
    {
     "data": {
      "text/plain": [
       "233     travel rarely\n",
       "1065    travel rarely\n",
       "41      travel rarely\n",
       "576              None\n",
       "1323    travel rarely\n",
       "Name: businesstravel, dtype: object"
      ]
     },
     "execution_count": 35,
     "metadata": {},
     "output_type": "execute_result"
    }
   ],
   "source": [
    "df[\"businesstravel\"].sample(5)"
   ]
  },
  {
   "cell_type": "markdown",
   "metadata": {},
   "source": [
    "*** Educationfield ***"
   ]
  },
  {
   "cell_type": "code",
   "execution_count": 36,
   "metadata": {},
   "outputs": [
    {
     "data": {
      "text/plain": [
       "310          None\n",
       "1478         None\n",
       "1165    Marketing\n",
       "377     Marketing\n",
       "423          None\n",
       "Name: educationfield, dtype: object"
      ]
     },
     "execution_count": 36,
     "metadata": {},
     "output_type": "execute_result"
    }
   ],
   "source": [
    "df['educationfield'].sample(5)\n",
    "\n",
    "# quitar espacios\n",
    "# poner en minusculas.\n",
    "# NaN -> None ya lo hice "
   ]
  },
  {
   "cell_type": "code",
   "execution_count": 37,
   "metadata": {},
   "outputs": [],
   "source": [
    "df[\"educationfield\"] = df[\"educationfield\"].str.strip().str.lower()\n"
   ]
  },
  {
   "cell_type": "code",
   "execution_count": 38,
   "metadata": {},
   "outputs": [
    {
     "data": {
      "text/plain": [
       "464     life sciences\n",
       "1533             None\n",
       "1006             None\n",
       "379              None\n",
       "643              None\n",
       "Name: educationfield, dtype: object"
      ]
     },
     "execution_count": 38,
     "metadata": {},
     "output_type": "execute_result"
    }
   ],
   "source": [
    "df['educationfield'].sample(5)"
   ]
  },
  {
   "cell_type": "markdown",
   "metadata": {},
   "source": [
    "*** jobrole ***"
   ]
  },
  {
   "cell_type": "code",
   "execution_count": 39,
   "metadata": {},
   "outputs": [
    {
     "data": {
      "text/plain": [
       "845      hEaltHcare rEpREseNTatiVE \n",
       "1453            rEsEArCh sCIENtIsT \n",
       "587             REsearCH SCiEntist \n",
       "Name: jobrole, dtype: object"
      ]
     },
     "execution_count": 39,
     "metadata": {},
     "output_type": "execute_result"
    }
   ],
   "source": [
    "df['jobrole'].sample(3)\n",
    "\n",
    "# espacios al principio y al final\n",
    "# poner en minusculas "
   ]
  },
  {
   "cell_type": "code",
   "execution_count": 40,
   "metadata": {},
   "outputs": [],
   "source": [
    "df[\"jobrole\"] = df[\"jobrole\"].str.strip().str.lower()\n"
   ]
  },
  {
   "cell_type": "code",
   "execution_count": 41,
   "metadata": {},
   "outputs": [
    {
     "data": {
      "text/plain": [
       "1207                  manager\n",
       "1361    laboratory technician\n",
       "1496                  manager\n",
       "Name: jobrole, dtype: object"
      ]
     },
     "execution_count": 41,
     "metadata": {},
     "output_type": "execute_result"
    }
   ],
   "source": [
    "df['jobrole'].sample(3)"
   ]
  },
  {
   "cell_type": "markdown",
   "metadata": {},
   "source": [
    "*** Maritalstatus ***"
   ]
  },
  {
   "cell_type": "code",
   "execution_count": 42,
   "metadata": {},
   "outputs": [
    {
     "data": {
      "text/plain": [
       "356      Married\n",
       "1635     Married\n",
       "717       Single\n",
       "919         None\n",
       "849      Married\n",
       "1107        None\n",
       "745      Married\n",
       "939       Single\n",
       "632      Married\n",
       "892         None\n",
       "1623     Marreid\n",
       "1016    Divorced\n",
       "1428      Single\n",
       "72          None\n",
       "145      Married\n",
       "1393      Single\n",
       "893      Married\n",
       "1055        None\n",
       "1399        None\n",
       "526       Single\n",
       "Name: maritalstatus, dtype: object"
      ]
     },
     "execution_count": 42,
     "metadata": {},
     "output_type": "execute_result"
    }
   ],
   "source": [
    "df['maritalstatus'].sample(20)\n",
    "\n",
    "# quitar posibles espacios.\n",
    "# poner en minusculas.\n",
    "# hay error ortografico  en married alguno pone \"marreid\""
   ]
  },
  {
   "cell_type": "code",
   "execution_count": 43,
   "metadata": {},
   "outputs": [],
   "source": [
    "df[\"maritalstatus\"] = df[\"maritalstatus\"].str.strip().str.lower()"
   ]
  },
  {
   "cell_type": "code",
   "execution_count": 44,
   "metadata": {},
   "outputs": [],
   "source": [
    "df[\"maritalstatus\"] = df[\"maritalstatus\"].replace(\"marreid\", \"married\")\n",
    "\n",
    "# .replace del error ortografico.\n"
   ]
  },
  {
   "cell_type": "code",
   "execution_count": 45,
   "metadata": {},
   "outputs": [
    {
     "data": {
      "text/plain": [
       "637       single\n",
       "1058      single\n",
       "815     divorced\n",
       "25       married\n",
       "1302        None\n",
       "Name: maritalstatus, dtype: object"
      ]
     },
     "execution_count": 45,
     "metadata": {},
     "output_type": "execute_result"
    }
   ],
   "source": [
    "df[\"maritalstatus\"].sample(5)"
   ]
  },
  {
   "cell_type": "markdown",
   "metadata": {},
   "source": [
    "*** Monthlyincome ***"
   ]
  },
  {
   "cell_type": "code",
   "execution_count": 46,
   "metadata": {},
   "outputs": [
    {
     "data": {
      "text/plain": [
       "1566        None\n",
       "11          None\n",
       "966         None\n",
       "83      8339,32$\n",
       "1526    2214,17$\n",
       "Name: monthlyincome, dtype: object"
      ]
     },
     "execution_count": 46,
     "metadata": {},
     "output_type": "execute_result"
    }
   ],
   "source": [
    "df['monthlyincome'].sample(5)\n",
    "\n",
    "# pasar a float (reemplazar , por . para float)\n",
    "# quitar espacios\n",
    "# quitar simbolo $"
   ]
  },
  {
   "cell_type": "code",
   "execution_count": 47,
   "metadata": {},
   "outputs": [],
   "source": [
    "df[\"monthlyincome\"] = (df[\"monthlyincome\"].str.strip().str.replace(\"$\", \"\").str.replace(\",\", \".\").astype(float))\n",
    "\n",
    "# .str.strip() -> quitar espacios\n",
    "# .str.replace() -> quitar el símbolo $\n",
    "# .str.replace() -> cambiar coma por punto\n",
    "# .astype(float) -> convertir a número decimal"
   ]
  },
  {
   "cell_type": "code",
   "execution_count": 48,
   "metadata": {},
   "outputs": [
    {
     "data": {
      "text/plain": [
       "537     3018.33\n",
       "238         NaN\n",
       "1323    4267.50\n",
       "311     4492.84\n",
       "1198    1980.83\n",
       "Name: monthlyincome, dtype: float64"
      ]
     },
     "execution_count": 48,
     "metadata": {},
     "output_type": "execute_result"
    }
   ],
   "source": [
    "df['monthlyincome'].sample(5)\n",
    "\n",
    "# veo que aqui aparecen nulos como NaN que no se cambiaron al inicio, los cambio ahora."
   ]
  },
  {
   "cell_type": "code",
   "execution_count": 49,
   "metadata": {},
   "outputs": [],
   "source": [
    "df[\"monthlyincome\"] = df[\"monthlyincome\"].where(pd.notnull(df[\"monthlyincome\"]), None) # Deja los valores que no son nulos como están, y cambia los NaN por None."
   ]
  },
  {
   "cell_type": "code",
   "execution_count": 50,
   "metadata": {},
   "outputs": [
    {
     "data": {
      "text/plain": [
       "845    4492.84\n",
       "975        NaN\n",
       "901        NaN\n",
       "835    2342.59\n",
       "181    4492.84\n",
       "Name: monthlyincome, dtype: float64"
      ]
     },
     "execution_count": 50,
     "metadata": {},
     "output_type": "execute_result"
    }
   ],
   "source": [
    "df['monthlyincome'].sample(5)"
   ]
  },
  {
   "cell_type": "markdown",
   "metadata": {},
   "source": [
    "*** IMPORTANTE ***\n",
    "\n",
    "Siguen apareciendo valores Nan porque Pandas sigue mostrando NaN incluso si internamente hay None, cuando la columna tiene tipo numérico (float64 en este caso) Y Pandas no puede mezclar números con None en columnas de tipo float64, así que internamente lo convierte a NaN aunque tú hayas puesto None.\n",
    "Como vamos a trabajar despues con SQL y tenemos que quitar esos valores Nan para que no nos den error tendremos que tener esta columna como OBJETC y no como FLOAT para poder tener valores nulos -> None."
   ]
  },
  {
   "cell_type": "code",
   "execution_count": 51,
   "metadata": {},
   "outputs": [],
   "source": [
    "# como ya le he quitado los espacios, la coma, y el $, pero está en FLOAT, ahora lo paso a OBJECT para poder tener NONE"
   ]
  },
  {
   "cell_type": "code",
   "execution_count": 52,
   "metadata": {},
   "outputs": [],
   "source": [
    "df[\"monthlyincome\"] = df[\"monthlyincome\"].astype(\"object\")\n",
    "df[\"monthlyincome\"] = df[\"monthlyincome\"].where(pd.notnull(df[\"monthlyincome\"]), None) # Deja los valores que no son nulos como están, y cambia los NaN por None.\n",
    "\n",
    "# ahora esta como OBJETC y NONE"
   ]
  },
  {
   "cell_type": "code",
   "execution_count": 53,
   "metadata": {},
   "outputs": [
    {
     "data": {
      "text/plain": [
       "1485     2350.83\n",
       "327         None\n",
       "1620     2342.59\n",
       "806     15789.17\n",
       "1605        None\n",
       "Name: monthlyincome, dtype: object"
      ]
     },
     "execution_count": 53,
     "metadata": {},
     "output_type": "execute_result"
    }
   ],
   "source": [
    "df['monthlyincome'].sample(5)"
   ]
  },
  {
   "cell_type": "markdown",
   "metadata": {},
   "source": [
    "*** Monthlyrate ***"
   ]
  },
  {
   "cell_type": "code",
   "execution_count": 54,
   "metadata": {},
   "outputs": [
    {
     "data": {
      "text/plain": [
       "1166     6090,75$\n",
       "1644     6090,75$\n",
       "258     28905,50$\n",
       "644     16804,67$\n",
       "627     11681,39$\n",
       "Name: monthlyrate, dtype: object"
      ]
     },
     "execution_count": 54,
     "metadata": {},
     "output_type": "execute_result"
    }
   ],
   "source": [
    "df[\"monthlyrate\"].sample(5)\n",
    "\n",
    "# lo mismo que en el anterior pero primero voy a comprobar si hay algun NaN\n"
   ]
  },
  {
   "cell_type": "code",
   "execution_count": 55,
   "metadata": {},
   "outputs": [
    {
     "data": {
      "text/plain": [
       "np.int64(0)"
      ]
     },
     "execution_count": 55,
     "metadata": {},
     "output_type": "execute_result"
    }
   ],
   "source": [
    "df[\"monthlyrate\"].isna().sum()\n",
    "\n",
    "# como esta columna no tiene NaN si que voy a pasarlo a Float.\n"
   ]
  },
  {
   "cell_type": "code",
   "execution_count": 56,
   "metadata": {},
   "outputs": [],
   "source": [
    "df[\"monthlyrate\"] = (df[\"monthlyrate\"].str.strip().str.replace(\"$\", \"\").str.replace(\",\", \".\").astype(float))"
   ]
  },
  {
   "cell_type": "code",
   "execution_count": 57,
   "metadata": {},
   "outputs": [
    {
     "data": {
      "text/plain": [
       "238     21502.00\n",
       "593     11681.39\n",
       "95      11681.39\n",
       "146     29416.83\n",
       "1046    20284.33\n",
       "Name: monthlyrate, dtype: float64"
      ]
     },
     "execution_count": 57,
     "metadata": {},
     "output_type": "execute_result"
    }
   ],
   "source": [
    "df[\"monthlyrate\"].sample(5)"
   ]
  },
  {
   "cell_type": "markdown",
   "metadata": {},
   "source": [
    "*** Over18 ***"
   ]
  },
  {
   "cell_type": "code",
   "execution_count": 58,
   "metadata": {},
   "outputs": [
    {
     "data": {
      "text/plain": [
       "1614       Y\n",
       "293     None\n",
       "1300       Y\n",
       "1505    None\n",
       "787     None\n",
       "Name: over18, dtype: object"
      ]
     },
     "execution_count": 58,
     "metadata": {},
     "output_type": "execute_result"
    }
   ],
   "source": [
    "df[\"over18\"].sample(5)\n",
    "\n",
    "# todos los valores son \"Y\" o None, no aporta informacion util, eliminarla.\n",
    "# voy a poner en minuscula y quitar espacios de todas formas."
   ]
  },
  {
   "cell_type": "code",
   "execution_count": 59,
   "metadata": {},
   "outputs": [],
   "source": [
    "df[\"over18\"] = df[\"over18\"].str.strip().str.lower()\n"
   ]
  },
  {
   "cell_type": "code",
   "execution_count": 60,
   "metadata": {},
   "outputs": [
    {
     "data": {
      "text/plain": [
       "755        y\n",
       "881     None\n",
       "1030       y\n",
       "852        y\n",
       "640        y\n",
       "Name: over18, dtype: object"
      ]
     },
     "execution_count": 60,
     "metadata": {},
     "output_type": "execute_result"
    }
   ],
   "source": [
    "df[\"over18\"].sample(5)"
   ]
  }
 ],
 "metadata": {
  "kernelspec": {
   "display_name": "Python 3",
   "language": "python",
   "name": "python3"
  },
  "language_info": {
   "codemirror_mode": {
    "name": "ipython",
    "version": 3
   },
   "file_extension": ".py",
   "mimetype": "text/x-python",
   "name": "python",
   "nbconvert_exporter": "python",
   "pygments_lexer": "ipython3",
   "version": "3.9.6"
  }
 },
 "nbformat": 4,
 "nbformat_minor": 2
}
